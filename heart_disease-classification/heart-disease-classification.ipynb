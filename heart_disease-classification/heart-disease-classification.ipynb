{
 "cells": [
  {
   "cell_type": "markdown",
   "id": "catholic-blank",
   "metadata": {},
   "source": [
    "# Predicting Heart Disease in Patients Using Machine Learning\n",
    "\n",
    "This notebook looks into using various Python-based ML & Data Science libraries and tools in an attempt to build an ML model capable of prediciting whether or not the patient has heart disease based on their medical information."
   ]
  },
  {
   "cell_type": "markdown",
   "id": "neutral-significance",
   "metadata": {},
   "source": [
    "## Approach\n",
    "1. Problem definition\n",
    "2. Data\n",
    "3. Evaluation\n",
    "4. Data features\n",
    "5. Modelling\n",
    "6. Experimentation"
   ]
  },
  {
   "cell_type": "markdown",
   "id": "continued-cycle",
   "metadata": {},
   "source": [
    "## 1. Problem Definition\n",
    "> Given the medical information of a given patient, can we accurately predict whether or not they have heart disease ?"
   ]
  },
  {
   "cell_type": "markdown",
   "id": "alert-newman",
   "metadata": {},
   "source": [
    "## 2. Data\n",
    "> I will be using the ***UCI Heart Disease*** dataset  \n",
    "> Retrieved from https://archive.ics.uci.edu/ml/datasets/heart+disease"
   ]
  },
  {
   "cell_type": "markdown",
   "id": "executed-jimmy",
   "metadata": {},
   "source": [
    "## 3. Evaluation\n",
    "> if we can reach 95% accuracy at predicting whether or not a patient has heart disease, we'll further pursue this project."
   ]
  },
  {
   "cell_type": "markdown",
   "id": "cutting-disability",
   "metadata": {},
   "source": [
    "## 4. Features\n",
    "Description of the feature data used in the dataset  \n",
    "\n",
    "**Data dictionary**\n",
    "1. (age): age in years\n",
    "2. (sex): sex (1 = male; 0 = female)\n",
    "3. (cp):chest pain type\n",
    "    - Value 1: typical angina\n",
    "    - Value 2: atypical angina\n",
    "    - Value 3: non-anginal pain\n",
    "    - Value 4: asymptomatic\n",
    "4. (trestbps): resting blood pressure (in mm Hg on admission to the hospital)\n",
    "5. (chol): serum cholestoral in mg/dl\n",
    "6. (fbs): (fasting blood sugar > 120 mg/dl)  (1 = true; 0 = false)\n",
    "7. (restecg):resting electrocardiographic results\n",
    "    - Value 0: normal\n",
    "    - Value 1: having ST-T wave abnormality (T wave inversions and/or ST elevation or depression of > 0.05 mV)\n",
    "    - Value 2: showing probable or definite left ventricular hypertrophy\n",
    "                    by Estes' criteria\n",
    "8. (thalach): maximum heart rate achieved\n",
    "9. (exang): exercise induced angina (1 = yes; 0 = no)\n",
    "10. (oldpeak): ST depression induced by exercise relative to rest\n",
    "11. (slope): the slope of the peak exercise ST segment\n",
    "    - Value 1: upsloping\n",
    "    - Value 2: flat\n",
    "    - Value 3: downsloping\n",
    "12. (ca): number of major vessels (0-3) colored by flourosopy\n",
    "13. (thal): 3 = normal; 6 = fixed defect; 7 = reversable defect\n",
    "14. (num) (the predicted attribute)\n"
   ]
  },
  {
   "cell_type": "markdown",
   "id": "contrary-mediterranean",
   "metadata": {},
   "source": [
    "## The Tools\n",
    "I will be using pandas, sklearn, Matplotlib & NumPy for the data analysis and manipulation"
   ]
  },
  {
   "cell_type": "code",
   "execution_count": 4,
   "id": "dressed-animal",
   "metadata": {},
   "outputs": [
    {
     "name": "stdout",
     "output_type": "stream",
     "text": [
      "Collecting package metadata (current_repodata.json): done\n",
      "Solving environment: done\n",
      "\n",
      "\n",
      "==> WARNING: A newer version of conda exists. <==\n",
      "  current version: 4.9.2\n",
      "  latest version: 4.10.1\n",
      "\n",
      "Please update conda by running\n",
      "\n",
      "    $ conda update -n base -c defaults conda\n",
      "\n",
      "\n",
      "\n",
      "## Package Plan ##\n",
      "\n",
      "  environment location: /Users/JJ/Desktop/MLProjects/Heart_Disease_Project/env\n",
      "\n",
      "  added / updated specs:\n",
      "    - seaborn\n",
      "\n",
      "\n",
      "The following packages will be downloaded:\n",
      "\n",
      "    package                    |            build\n",
      "    ---------------------------|-----------------\n",
      "    ca-certificates-2021.4.13  |       hecd8cb5_1         114 KB\n",
      "    ------------------------------------------------------------\n",
      "                                           Total:         114 KB\n",
      "\n",
      "The following packages will be UPDATED:\n",
      "\n",
      "  ca-certificates                      2021.1.19-hecd8cb5_1 --> 2021.4.13-hecd8cb5_1\n",
      "  openssl                                 1.1.1j-h9ed2024_0 --> 1.1.1k-h9ed2024_0\n",
      "\n",
      "\n",
      "\n",
      "Downloading and Extracting Packages\n",
      "ca-certificates-2021 | 114 KB    | ##################################### | 100% \n",
      "Preparing transaction: done\n",
      "Verifying transaction: done\n",
      "Executing transaction: done\n"
     ]
    }
   ],
   "source": [
    "# Installing the Seaborn Python package within jupyter\n",
    "import sys\n",
    "!conda install --yes --prefix {sys.prefix} seaborn"
   ]
  },
  {
   "cell_type": "code",
   "execution_count": 5,
   "id": "renewable-private",
   "metadata": {},
   "outputs": [],
   "source": [
    "# Importing all the tools needed\n",
    "\n",
    "# Regular EDA (exploratory data analysis) and plotting libs\n",
    "import numpy as np\n",
    "import pandas as pd\n",
    "import matplotlib.pyplot as plt\n",
    "import seaborn as sns\n",
    "%matplotlib inline\n",
    "\n",
    "# Models from SKlearn\n",
    "from sklearn.linear_model import LogisticRegression\n",
    "from sklearn.neighbors import KNeighborsClassifier\n",
    "from sklearn.ensemble import RandomForestClassifier\n",
    "\n",
    "#Model Evaluation\n",
    "from sklearn.model_selection import train_test_split, cross_val_score\n",
    "from sklearn.model_selection import RandomizedSearchCV, GridSearchCV\n",
    "from sklearn.metrics import confusion_matrix, classification_report\n",
    "from sklearn.metrics import accuracy_score, precision_score, recall_score, f1_score\n",
    "from sklearn.metrics import plot_roc_curve"
   ]
  },
  {
   "cell_type": "markdown",
   "id": "relevant-bangkok",
   "metadata": {},
   "source": [
    "## Loading and Viewing the data"
   ]
  },
  {
   "cell_type": "code",
   "execution_count": 6,
   "id": "blank-introduction",
   "metadata": {},
   "outputs": [
    {
     "data": {
      "text/html": [
       "<div>\n",
       "<style scoped>\n",
       "    .dataframe tbody tr th:only-of-type {\n",
       "        vertical-align: middle;\n",
       "    }\n",
       "\n",
       "    .dataframe tbody tr th {\n",
       "        vertical-align: top;\n",
       "    }\n",
       "\n",
       "    .dataframe thead th {\n",
       "        text-align: right;\n",
       "    }\n",
       "</style>\n",
       "<table border=\"1\" class=\"dataframe\">\n",
       "  <thead>\n",
       "    <tr style=\"text-align: right;\">\n",
       "      <th></th>\n",
       "      <th>age</th>\n",
       "      <th>sex</th>\n",
       "      <th>cp</th>\n",
       "      <th>trestbps</th>\n",
       "      <th>chol</th>\n",
       "      <th>fbs</th>\n",
       "      <th>restecg</th>\n",
       "      <th>thalach</th>\n",
       "      <th>exang</th>\n",
       "      <th>oldpeak</th>\n",
       "      <th>slope</th>\n",
       "      <th>ca</th>\n",
       "      <th>thal</th>\n",
       "      <th>target</th>\n",
       "    </tr>\n",
       "  </thead>\n",
       "  <tbody>\n",
       "    <tr>\n",
       "      <th>0</th>\n",
       "      <td>63</td>\n",
       "      <td>1</td>\n",
       "      <td>3</td>\n",
       "      <td>145</td>\n",
       "      <td>233</td>\n",
       "      <td>1</td>\n",
       "      <td>0</td>\n",
       "      <td>150</td>\n",
       "      <td>0</td>\n",
       "      <td>2.3</td>\n",
       "      <td>0</td>\n",
       "      <td>0</td>\n",
       "      <td>1</td>\n",
       "      <td>1</td>\n",
       "    </tr>\n",
       "    <tr>\n",
       "      <th>1</th>\n",
       "      <td>37</td>\n",
       "      <td>1</td>\n",
       "      <td>2</td>\n",
       "      <td>130</td>\n",
       "      <td>250</td>\n",
       "      <td>0</td>\n",
       "      <td>1</td>\n",
       "      <td>187</td>\n",
       "      <td>0</td>\n",
       "      <td>3.5</td>\n",
       "      <td>0</td>\n",
       "      <td>0</td>\n",
       "      <td>2</td>\n",
       "      <td>1</td>\n",
       "    </tr>\n",
       "    <tr>\n",
       "      <th>2</th>\n",
       "      <td>41</td>\n",
       "      <td>0</td>\n",
       "      <td>1</td>\n",
       "      <td>130</td>\n",
       "      <td>204</td>\n",
       "      <td>0</td>\n",
       "      <td>0</td>\n",
       "      <td>172</td>\n",
       "      <td>0</td>\n",
       "      <td>1.4</td>\n",
       "      <td>2</td>\n",
       "      <td>0</td>\n",
       "      <td>2</td>\n",
       "      <td>1</td>\n",
       "    </tr>\n",
       "    <tr>\n",
       "      <th>3</th>\n",
       "      <td>56</td>\n",
       "      <td>1</td>\n",
       "      <td>1</td>\n",
       "      <td>120</td>\n",
       "      <td>236</td>\n",
       "      <td>0</td>\n",
       "      <td>1</td>\n",
       "      <td>178</td>\n",
       "      <td>0</td>\n",
       "      <td>0.8</td>\n",
       "      <td>2</td>\n",
       "      <td>0</td>\n",
       "      <td>2</td>\n",
       "      <td>1</td>\n",
       "    </tr>\n",
       "    <tr>\n",
       "      <th>4</th>\n",
       "      <td>57</td>\n",
       "      <td>0</td>\n",
       "      <td>0</td>\n",
       "      <td>120</td>\n",
       "      <td>354</td>\n",
       "      <td>0</td>\n",
       "      <td>1</td>\n",
       "      <td>163</td>\n",
       "      <td>1</td>\n",
       "      <td>0.6</td>\n",
       "      <td>2</td>\n",
       "      <td>0</td>\n",
       "      <td>2</td>\n",
       "      <td>1</td>\n",
       "    </tr>\n",
       "  </tbody>\n",
       "</table>\n",
       "</div>"
      ],
      "text/plain": [
       "   age  sex  cp  trestbps  chol  fbs  ...  exang  oldpeak  slope  ca  thal  target\n",
       "0   63    1   3       145   233    1  ...      0      2.3      0   0     1       1\n",
       "1   37    1   2       130   250    0  ...      0      3.5      0   0     2       1\n",
       "2   41    0   1       130   204    0  ...      0      1.4      2   0     2       1\n",
       "3   56    1   1       120   236    0  ...      0      0.8      2   0     2       1\n",
       "4   57    0   0       120   354    0  ...      1      0.6      2   0     2       1\n",
       "\n",
       "[5 rows x 14 columns]"
      ]
     },
     "execution_count": 6,
     "metadata": {},
     "output_type": "execute_result"
    }
   ],
   "source": [
    "data  = pd.read_csv(\"data/heart-disease.csv\")\n",
    "data.head()"
   ]
  },
  {
   "cell_type": "code",
   "execution_count": 7,
   "id": "hazardous-characterization",
   "metadata": {},
   "outputs": [
    {
     "data": {
      "text/plain": [
       "(303, 14)"
      ]
     },
     "execution_count": 7,
     "metadata": {},
     "output_type": "execute_result"
    }
   ],
   "source": [
    "data.shape"
   ]
  },
  {
   "cell_type": "markdown",
   "id": "stable-disclosure",
   "metadata": {},
   "source": [
    "## Data exploration\n",
    "The goal here is to find put more about the data and become a subject matter expert on the dataset you're working with.  \n",
    "1. What question(s) are we trying to solve ?\n",
    "2. What kind of data do we have and how do we treat the different types ?\n",
    "3. What's missing from the data and how do we deal with it ?\n",
    "4. Are there any data point outliers and how do we deal with them ?\n",
    "5. How can we add , change or remove features to get more out of the data ?\n"
   ]
  },
  {
   "cell_type": "code",
   "execution_count": 8,
   "id": "fixed-norfolk",
   "metadata": {},
   "outputs": [
    {
     "data": {
      "text/html": [
       "<div>\n",
       "<style scoped>\n",
       "    .dataframe tbody tr th:only-of-type {\n",
       "        vertical-align: middle;\n",
       "    }\n",
       "\n",
       "    .dataframe tbody tr th {\n",
       "        vertical-align: top;\n",
       "    }\n",
       "\n",
       "    .dataframe thead th {\n",
       "        text-align: right;\n",
       "    }\n",
       "</style>\n",
       "<table border=\"1\" class=\"dataframe\">\n",
       "  <thead>\n",
       "    <tr style=\"text-align: right;\">\n",
       "      <th></th>\n",
       "      <th>age</th>\n",
       "      <th>sex</th>\n",
       "      <th>cp</th>\n",
       "      <th>trestbps</th>\n",
       "      <th>chol</th>\n",
       "      <th>fbs</th>\n",
       "      <th>restecg</th>\n",
       "      <th>thalach</th>\n",
       "      <th>exang</th>\n",
       "      <th>oldpeak</th>\n",
       "      <th>slope</th>\n",
       "      <th>ca</th>\n",
       "      <th>thal</th>\n",
       "      <th>target</th>\n",
       "    </tr>\n",
       "  </thead>\n",
       "  <tbody>\n",
       "    <tr>\n",
       "      <th>0</th>\n",
       "      <td>63</td>\n",
       "      <td>1</td>\n",
       "      <td>3</td>\n",
       "      <td>145</td>\n",
       "      <td>233</td>\n",
       "      <td>1</td>\n",
       "      <td>0</td>\n",
       "      <td>150</td>\n",
       "      <td>0</td>\n",
       "      <td>2.3</td>\n",
       "      <td>0</td>\n",
       "      <td>0</td>\n",
       "      <td>1</td>\n",
       "      <td>1</td>\n",
       "    </tr>\n",
       "    <tr>\n",
       "      <th>1</th>\n",
       "      <td>37</td>\n",
       "      <td>1</td>\n",
       "      <td>2</td>\n",
       "      <td>130</td>\n",
       "      <td>250</td>\n",
       "      <td>0</td>\n",
       "      <td>1</td>\n",
       "      <td>187</td>\n",
       "      <td>0</td>\n",
       "      <td>3.5</td>\n",
       "      <td>0</td>\n",
       "      <td>0</td>\n",
       "      <td>2</td>\n",
       "      <td>1</td>\n",
       "    </tr>\n",
       "    <tr>\n",
       "      <th>2</th>\n",
       "      <td>41</td>\n",
       "      <td>0</td>\n",
       "      <td>1</td>\n",
       "      <td>130</td>\n",
       "      <td>204</td>\n",
       "      <td>0</td>\n",
       "      <td>0</td>\n",
       "      <td>172</td>\n",
       "      <td>0</td>\n",
       "      <td>1.4</td>\n",
       "      <td>2</td>\n",
       "      <td>0</td>\n",
       "      <td>2</td>\n",
       "      <td>1</td>\n",
       "    </tr>\n",
       "    <tr>\n",
       "      <th>3</th>\n",
       "      <td>56</td>\n",
       "      <td>1</td>\n",
       "      <td>1</td>\n",
       "      <td>120</td>\n",
       "      <td>236</td>\n",
       "      <td>0</td>\n",
       "      <td>1</td>\n",
       "      <td>178</td>\n",
       "      <td>0</td>\n",
       "      <td>0.8</td>\n",
       "      <td>2</td>\n",
       "      <td>0</td>\n",
       "      <td>2</td>\n",
       "      <td>1</td>\n",
       "    </tr>\n",
       "    <tr>\n",
       "      <th>4</th>\n",
       "      <td>57</td>\n",
       "      <td>0</td>\n",
       "      <td>0</td>\n",
       "      <td>120</td>\n",
       "      <td>354</td>\n",
       "      <td>0</td>\n",
       "      <td>1</td>\n",
       "      <td>163</td>\n",
       "      <td>1</td>\n",
       "      <td>0.6</td>\n",
       "      <td>2</td>\n",
       "      <td>0</td>\n",
       "      <td>2</td>\n",
       "      <td>1</td>\n",
       "    </tr>\n",
       "  </tbody>\n",
       "</table>\n",
       "</div>"
      ],
      "text/plain": [
       "   age  sex  cp  trestbps  chol  fbs  ...  exang  oldpeak  slope  ca  thal  target\n",
       "0   63    1   3       145   233    1  ...      0      2.3      0   0     1       1\n",
       "1   37    1   2       130   250    0  ...      0      3.5      0   0     2       1\n",
       "2   41    0   1       130   204    0  ...      0      1.4      2   0     2       1\n",
       "3   56    1   1       120   236    0  ...      0      0.8      2   0     2       1\n",
       "4   57    0   0       120   354    0  ...      1      0.6      2   0     2       1\n",
       "\n",
       "[5 rows x 14 columns]"
      ]
     },
     "execution_count": 8,
     "metadata": {},
     "output_type": "execute_result"
    }
   ],
   "source": [
    "data.head()"
   ]
  },
  {
   "cell_type": "code",
   "execution_count": 9,
   "id": "square-fashion",
   "metadata": {},
   "outputs": [
    {
     "data": {
      "text/html": [
       "<div>\n",
       "<style scoped>\n",
       "    .dataframe tbody tr th:only-of-type {\n",
       "        vertical-align: middle;\n",
       "    }\n",
       "\n",
       "    .dataframe tbody tr th {\n",
       "        vertical-align: top;\n",
       "    }\n",
       "\n",
       "    .dataframe thead th {\n",
       "        text-align: right;\n",
       "    }\n",
       "</style>\n",
       "<table border=\"1\" class=\"dataframe\">\n",
       "  <thead>\n",
       "    <tr style=\"text-align: right;\">\n",
       "      <th></th>\n",
       "      <th>age</th>\n",
       "      <th>sex</th>\n",
       "      <th>cp</th>\n",
       "      <th>trestbps</th>\n",
       "      <th>chol</th>\n",
       "      <th>fbs</th>\n",
       "      <th>restecg</th>\n",
       "      <th>thalach</th>\n",
       "      <th>exang</th>\n",
       "      <th>oldpeak</th>\n",
       "      <th>slope</th>\n",
       "      <th>ca</th>\n",
       "      <th>thal</th>\n",
       "      <th>target</th>\n",
       "    </tr>\n",
       "  </thead>\n",
       "  <tbody>\n",
       "    <tr>\n",
       "      <th>298</th>\n",
       "      <td>57</td>\n",
       "      <td>0</td>\n",
       "      <td>0</td>\n",
       "      <td>140</td>\n",
       "      <td>241</td>\n",
       "      <td>0</td>\n",
       "      <td>1</td>\n",
       "      <td>123</td>\n",
       "      <td>1</td>\n",
       "      <td>0.2</td>\n",
       "      <td>1</td>\n",
       "      <td>0</td>\n",
       "      <td>3</td>\n",
       "      <td>0</td>\n",
       "    </tr>\n",
       "    <tr>\n",
       "      <th>299</th>\n",
       "      <td>45</td>\n",
       "      <td>1</td>\n",
       "      <td>3</td>\n",
       "      <td>110</td>\n",
       "      <td>264</td>\n",
       "      <td>0</td>\n",
       "      <td>1</td>\n",
       "      <td>132</td>\n",
       "      <td>0</td>\n",
       "      <td>1.2</td>\n",
       "      <td>1</td>\n",
       "      <td>0</td>\n",
       "      <td>3</td>\n",
       "      <td>0</td>\n",
       "    </tr>\n",
       "    <tr>\n",
       "      <th>300</th>\n",
       "      <td>68</td>\n",
       "      <td>1</td>\n",
       "      <td>0</td>\n",
       "      <td>144</td>\n",
       "      <td>193</td>\n",
       "      <td>1</td>\n",
       "      <td>1</td>\n",
       "      <td>141</td>\n",
       "      <td>0</td>\n",
       "      <td>3.4</td>\n",
       "      <td>1</td>\n",
       "      <td>2</td>\n",
       "      <td>3</td>\n",
       "      <td>0</td>\n",
       "    </tr>\n",
       "    <tr>\n",
       "      <th>301</th>\n",
       "      <td>57</td>\n",
       "      <td>1</td>\n",
       "      <td>0</td>\n",
       "      <td>130</td>\n",
       "      <td>131</td>\n",
       "      <td>0</td>\n",
       "      <td>1</td>\n",
       "      <td>115</td>\n",
       "      <td>1</td>\n",
       "      <td>1.2</td>\n",
       "      <td>1</td>\n",
       "      <td>1</td>\n",
       "      <td>3</td>\n",
       "      <td>0</td>\n",
       "    </tr>\n",
       "    <tr>\n",
       "      <th>302</th>\n",
       "      <td>57</td>\n",
       "      <td>0</td>\n",
       "      <td>1</td>\n",
       "      <td>130</td>\n",
       "      <td>236</td>\n",
       "      <td>0</td>\n",
       "      <td>0</td>\n",
       "      <td>174</td>\n",
       "      <td>0</td>\n",
       "      <td>0.0</td>\n",
       "      <td>1</td>\n",
       "      <td>1</td>\n",
       "      <td>2</td>\n",
       "      <td>0</td>\n",
       "    </tr>\n",
       "  </tbody>\n",
       "</table>\n",
       "</div>"
      ],
      "text/plain": [
       "     age  sex  cp  trestbps  chol  fbs  ...  exang  oldpeak  slope  ca  thal  target\n",
       "298   57    0   0       140   241    0  ...      1      0.2      1   0     3       0\n",
       "299   45    1   3       110   264    0  ...      0      1.2      1   0     3       0\n",
       "300   68    1   0       144   193    1  ...      0      3.4      1   2     3       0\n",
       "301   57    1   0       130   131    0  ...      1      1.2      1   1     3       0\n",
       "302   57    0   1       130   236    0  ...      0      0.0      1   1     2       0\n",
       "\n",
       "[5 rows x 14 columns]"
      ]
     },
     "execution_count": 9,
     "metadata": {},
     "output_type": "execute_result"
    }
   ],
   "source": [
    "data.tail()"
   ]
  },
  {
   "cell_type": "code",
   "execution_count": 10,
   "id": "widespread-phoenix",
   "metadata": {},
   "outputs": [
    {
     "data": {
      "text/plain": [
       "1    165\n",
       "0    138\n",
       "Name: target, dtype: int64"
      ]
     },
     "execution_count": 10,
     "metadata": {},
     "output_type": "execute_result"
    }
   ],
   "source": [
    "# Revealing more information on the target class\n",
    "# Determining if the set is balanced or imbalances\n",
    "data.target.value_counts()"
   ]
  },
  {
   "cell_type": "code",
   "execution_count": 11,
   "id": "atmospheric-broadcast",
   "metadata": {},
   "outputs": [
    {
     "data": {
      "image/png": "[encoded data removed]",
      "text/plain": [
       "<Figure size 432x288 with 1 Axes>"
      ]
     },
     "metadata": {
      "needs_background": "light"
     },
     "output_type": "display_data"
    }
   ],
   "source": [
    "# Plot the target data to be a little bit more descriptive\n",
    "data.target.value_counts().plot(kind=\"bar\", color=[\"salmon\", \"lightblue\"], title = \"Heart Disease Classification\", xlabel=\"Classification\", ylabel=\"Classification count\");"
   ]
  },
  {
   "cell_type": "code",
   "execution_count": 12,
   "id": "representative-collective",
   "metadata": {},
   "outputs": [
    {
     "name": "stdout",
     "output_type": "stream",
     "text": [
      "<class 'pandas.core.frame.DataFrame'>\n",
      "RangeIndex: 303 entries, 0 to 302\n",
      "Data columns (total 14 columns):\n",
      " #   Column    Non-Null Count  Dtype  \n",
      "---  ------    --------------  -----  \n",
      " 0   age       303 non-null    int64  \n",
      " 1   sex       303 non-null    int64  \n",
      " 2   cp        303 non-null    int64  \n",
      " 3   trestbps  303 non-null    int64  \n",
      " 4   chol      303 non-null    int64  \n",
      " 5   fbs       303 non-null    int64  \n",
      " 6   restecg   303 non-null    int64  \n",
      " 7   thalach   303 non-null    int64  \n",
      " 8   exang     303 non-null    int64  \n",
      " 9   oldpeak   303 non-null    float64\n",
      " 10  slope     303 non-null    int64  \n",
      " 11  ca        303 non-null    int64  \n",
      " 12  thal      303 non-null    int64  \n",
      " 13  target    303 non-null    int64  \n",
      "dtypes: float64(1), int64(13)\n",
      "memory usage: 33.3 KB\n"
     ]
    }
   ],
   "source": [
    "# Information on the dataframe\n",
    "data.info()"
   ]
  },
  {
   "cell_type": "code",
   "execution_count": 13,
   "id": "dutch-interval",
   "metadata": {},
   "outputs": [
    {
     "data": {
      "text/plain": [
       "age         0\n",
       "sex         0\n",
       "cp          0\n",
       "trestbps    0\n",
       "chol        0\n",
       "fbs         0\n",
       "restecg     0\n",
       "thalach     0\n",
       "exang       0\n",
       "oldpeak     0\n",
       "slope       0\n",
       "ca          0\n",
       "thal        0\n",
       "target      0\n",
       "dtype: int64"
      ]
     },
     "execution_count": 13,
     "metadata": {},
     "output_type": "execute_result"
    }
   ],
   "source": [
    "#Check for missing values\n",
    "data.isna().sum()"
   ]
  },
  {
   "cell_type": "code",
   "execution_count": 14,
   "id": "vanilla-sheffield",
   "metadata": {},
   "outputs": [
    {
     "data": {
      "text/html": [
       "<div>\n",
       "<style scoped>\n",
       "    .dataframe tbody tr th:only-of-type {\n",
       "        vertical-align: middle;\n",
       "    }\n",
       "\n",
       "    .dataframe tbody tr th {\n",
       "        vertical-align: top;\n",
       "    }\n",
       "\n",
       "    .dataframe thead th {\n",
       "        text-align: right;\n",
       "    }\n",
       "</style>\n",
       "<table border=\"1\" class=\"dataframe\">\n",
       "  <thead>\n",
       "    <tr style=\"text-align: right;\">\n",
       "      <th></th>\n",
       "      <th>age</th>\n",
       "      <th>sex</th>\n",
       "      <th>cp</th>\n",
       "      <th>trestbps</th>\n",
       "      <th>chol</th>\n",
       "      <th>fbs</th>\n",
       "      <th>restecg</th>\n",
       "      <th>thalach</th>\n",
       "      <th>exang</th>\n",
       "      <th>oldpeak</th>\n",
       "      <th>slope</th>\n",
       "      <th>ca</th>\n",
       "      <th>thal</th>\n",
       "      <th>target</th>\n",
       "    </tr>\n",
       "  </thead>\n",
       "  <tbody>\n",
       "    <tr>\n",
       "      <th>count</th>\n",
       "      <td>303.000000</td>\n",
       "      <td>303.000000</td>\n",
       "      <td>303.000000</td>\n",
       "      <td>303.000000</td>\n",
       "      <td>303.000000</td>\n",
       "      <td>303.000000</td>\n",
       "      <td>303.000000</td>\n",
       "      <td>303.000000</td>\n",
       "      <td>303.000000</td>\n",
       "      <td>303.000000</td>\n",
       "      <td>303.000000</td>\n",
       "      <td>303.000000</td>\n",
       "      <td>303.000000</td>\n",
       "      <td>303.000000</td>\n",
       "    </tr>\n",
       "    <tr>\n",
       "      <th>mean</th>\n",
       "      <td>54.366337</td>\n",
       "      <td>0.683168</td>\n",
       "      <td>0.966997</td>\n",
       "      <td>131.623762</td>\n",
       "      <td>246.264026</td>\n",
       "      <td>0.148515</td>\n",
       "      <td>0.528053</td>\n",
       "      <td>149.646865</td>\n",
       "      <td>0.326733</td>\n",
       "      <td>1.039604</td>\n",
       "      <td>1.399340</td>\n",
       "      <td>0.729373</td>\n",
       "      <td>2.313531</td>\n",
       "      <td>0.544554</td>\n",
       "    </tr>\n",
       "    <tr>\n",
       "      <th>std</th>\n",
       "      <td>9.082101</td>\n",
       "      <td>0.466011</td>\n",
       "      <td>1.032052</td>\n",
       "      <td>17.538143</td>\n",
       "      <td>51.830751</td>\n",
       "      <td>0.356198</td>\n",
       "      <td>0.525860</td>\n",
       "      <td>22.905161</td>\n",
       "      <td>0.469794</td>\n",
       "      <td>1.161075</td>\n",
       "      <td>0.616226</td>\n",
       "      <td>1.022606</td>\n",
       "      <td>0.612277</td>\n",
       "      <td>0.498835</td>\n",
       "    </tr>\n",
       "    <tr>\n",
       "      <th>min</th>\n",
       "      <td>29.000000</td>\n",
       "      <td>0.000000</td>\n",
       "      <td>0.000000</td>\n",
       "      <td>94.000000</td>\n",
       "      <td>126.000000</td>\n",
       "      <td>0.000000</td>\n",
       "      <td>0.000000</td>\n",
       "      <td>71.000000</td>\n",
       "      <td>0.000000</td>\n",
       "      <td>0.000000</td>\n",
       "      <td>0.000000</td>\n",
       "      <td>0.000000</td>\n",
       "      <td>0.000000</td>\n",
       "      <td>0.000000</td>\n",
       "    </tr>\n",
       "    <tr>\n",
       "      <th>25%</th>\n",
       "      <td>47.500000</td>\n",
       "      <td>0.000000</td>\n",
       "      <td>0.000000</td>\n",
       "      <td>120.000000</td>\n",
       "      <td>211.000000</td>\n",
       "      <td>0.000000</td>\n",
       "      <td>0.000000</td>\n",
       "      <td>133.500000</td>\n",
       "      <td>0.000000</td>\n",
       "      <td>0.000000</td>\n",
       "      <td>1.000000</td>\n",
       "      <td>0.000000</td>\n",
       "      <td>2.000000</td>\n",
       "      <td>0.000000</td>\n",
       "    </tr>\n",
       "    <tr>\n",
       "      <th>50%</th>\n",
       "      <td>55.000000</td>\n",
       "      <td>1.000000</td>\n",
       "      <td>1.000000</td>\n",
       "      <td>130.000000</td>\n",
       "      <td>240.000000</td>\n",
       "      <td>0.000000</td>\n",
       "      <td>1.000000</td>\n",
       "      <td>153.000000</td>\n",
       "      <td>0.000000</td>\n",
       "      <td>0.800000</td>\n",
       "      <td>1.000000</td>\n",
       "      <td>0.000000</td>\n",
       "      <td>2.000000</td>\n",
       "      <td>1.000000</td>\n",
       "    </tr>\n",
       "    <tr>\n",
       "      <th>75%</th>\n",
       "      <td>61.000000</td>\n",
       "      <td>1.000000</td>\n",
       "      <td>2.000000</td>\n",
       "      <td>140.000000</td>\n",
       "      <td>274.500000</td>\n",
       "      <td>0.000000</td>\n",
       "      <td>1.000000</td>\n",
       "      <td>166.000000</td>\n",
       "      <td>1.000000</td>\n",
       "      <td>1.600000</td>\n",
       "      <td>2.000000</td>\n",
       "      <td>1.000000</td>\n",
       "      <td>3.000000</td>\n",
       "      <td>1.000000</td>\n",
       "    </tr>\n",
       "    <tr>\n",
       "      <th>max</th>\n",
       "      <td>77.000000</td>\n",
       "      <td>1.000000</td>\n",
       "      <td>3.000000</td>\n",
       "      <td>200.000000</td>\n",
       "      <td>564.000000</td>\n",
       "      <td>1.000000</td>\n",
       "      <td>2.000000</td>\n",
       "      <td>202.000000</td>\n",
       "      <td>1.000000</td>\n",
       "      <td>6.200000</td>\n",
       "      <td>2.000000</td>\n",
       "      <td>4.000000</td>\n",
       "      <td>3.000000</td>\n",
       "      <td>1.000000</td>\n",
       "    </tr>\n",
       "  </tbody>\n",
       "</table>\n",
       "</div>"
      ],
      "text/plain": [
       "              age         sex          cp  ...          ca        thal      target\n",
       "count  303.000000  303.000000  303.000000  ...  303.000000  303.000000  303.000000\n",
       "mean    54.366337    0.683168    0.966997  ...    0.729373    2.313531    0.544554\n",
       "std      9.082101    0.466011    1.032052  ...    1.022606    0.612277    0.498835\n",
       "min     29.000000    0.000000    0.000000  ...    0.000000    0.000000    0.000000\n",
       "25%     47.500000    0.000000    0.000000  ...    0.000000    2.000000    0.000000\n",
       "50%     55.000000    1.000000    1.000000  ...    0.000000    2.000000    1.000000\n",
       "75%     61.000000    1.000000    2.000000  ...    1.000000    3.000000    1.000000\n",
       "max     77.000000    1.000000    3.000000  ...    4.000000    3.000000    1.000000\n",
       "\n",
       "[8 rows x 14 columns]"
      ]
     },
     "execution_count": 14,
     "metadata": {},
     "output_type": "execute_result"
    }
   ],
   "source": [
    "#Describing the data in the dataframe\n",
    "data.describe()"
   ]
  },
  {
   "cell_type": "markdown",
   "id": "turned-adobe",
   "metadata": {},
   "source": [
    "## Finding Patterns in the Features\n",
    "- Getting an intuition of the patterns in the data.  \n",
    "- Understanding the data adn gaining some expert knowledge to infer a little more about the data"
   ]
  },
  {
   "cell_type": "markdown",
   "id": "synthetic-regard",
   "metadata": {},
   "source": [
    "## Comparing features (Independent variables) to the Target Variable\n",
    "### Heart Disease Frequency across the Sexes"
   ]
  },
  {
   "cell_type": "code",
   "execution_count": 15,
   "id": "hollywood-conducting",
   "metadata": {},
   "outputs": [
    {
     "data": {
      "text/plain": [
       "1    207\n",
       "0     96\n",
       "Name: sex, dtype: int64"
      ]
     },
     "execution_count": 15,
     "metadata": {},
     "output_type": "execute_result"
    }
   ],
   "source": [
    "data.sex.value_counts()"
   ]
  },
  {
   "cell_type": "code",
   "execution_count": 16,
   "id": "comprehensive-criterion",
   "metadata": {},
   "outputs": [
    {
     "data": {
      "text/html": [
       "<div>\n",
       "<style scoped>\n",
       "    .dataframe tbody tr th:only-of-type {\n",
       "        vertical-align: middle;\n",
       "    }\n",
       "\n",
       "    .dataframe tbody tr th {\n",
       "        vertical-align: top;\n",
       "    }\n",
       "\n",
       "    .dataframe thead th {\n",
       "        text-align: right;\n",
       "    }\n",
       "</style>\n",
       "<table border=\"1\" class=\"dataframe\">\n",
       "  <thead>\n",
       "    <tr style=\"text-align: right;\">\n",
       "      <th>sex</th>\n",
       "      <th>0</th>\n",
       "      <th>1</th>\n",
       "    </tr>\n",
       "    <tr>\n",
       "      <th>target</th>\n",
       "      <th></th>\n",
       "      <th></th>\n",
       "    </tr>\n",
       "  </thead>\n",
       "  <tbody>\n",
       "    <tr>\n",
       "      <th>0</th>\n",
       "      <td>24</td>\n",
       "      <td>114</td>\n",
       "    </tr>\n",
       "    <tr>\n",
       "      <th>1</th>\n",
       "      <td>72</td>\n",
       "      <td>93</td>\n",
       "    </tr>\n",
       "  </tbody>\n",
       "</table>\n",
       "</div>"
      ],
      "text/plain": [
       "sex      0    1\n",
       "target         \n",
       "0       24  114\n",
       "1       72   93"
      ]
     },
     "execution_count": 16,
     "metadata": {},
     "output_type": "execute_result"
    }
   ],
   "source": [
    "#Compare the target column with the sex column\n",
    "pd.crosstab(data.target, data.sex)"
   ]
  },
  {
   "cell_type": "markdown",
   "id": "greek-finding",
   "metadata": {},
   "source": [
    "The data above reveals that :-\n",
    "1. 7 out of 10 female patients may have heart disease\n",
    "2. 5 out 10 male patients may have heart disease\n",
    "3. 5.5 out of 10 patients brought in may have heart disease"
   ]
  },
  {
   "cell_type": "code",
   "execution_count": 17,
   "id": "emerging-female",
   "metadata": {},
   "outputs": [
    {
     "data": {
      "image/png": "[encoded data removed]",
      "text/plain": [
       "<Figure size 720x432 with 1 Axes>"
      ]
     },
     "metadata": {
      "needs_background": "light"
     },
     "output_type": "display_data"
    }
   ],
   "source": [
    "#Create a plot of the crosstab\n",
    "pd.crosstab(data.target, data.sex).plot(kind=\"bar\", figsize=(10,6), color=[\"salmon\", \"lightblue\"], title=\"Heart Disease Frequency across the Sexes\");\n",
    "plt.xlabel(\"0 = No disease, 1 = Diseased\")\n",
    "plt.ylabel(\"Number\")\n",
    "plt.legend([\"Female\", \"Male\"]);\n",
    "plt.xticks(rotation=0);"
   ]
  },
  {
   "cell_type": "markdown",
   "id": "minor-station",
   "metadata": {},
   "source": [
    "### Age vs Max Heart Rate"
   ]
  },
  {
   "cell_type": "code",
   "execution_count": 18,
   "id": "compatible-database",
   "metadata": {},
   "outputs": [
    {
     "data": {
      "image/png": "[encoded data removed]",
      "text/plain": [
       "<Figure size 720x432 with 1 Axes>"
      ]
     },
     "metadata": {
      "needs_background": "light"
     },
     "output_type": "display_data"
    }
   ],
   "source": [
    "# Create another figure\n",
    "plt.figure(figsize=(10,6))\n",
    "\n",
    "# Scatter plot with recorded heart disease\n",
    "plt.scatter(data.age[data.target==1],\n",
    "           data.thalach[data.target==1],\n",
    "            c=\"salmon\")\n",
    "\n",
    "# Scatter where heart disease was not recorded\n",
    "plt.scatter(data.age[data.target==0],\n",
    "           data.thalach[data.target==0],\n",
    "            c=\"lightblue\");\n",
    "\n",
    "#Add some helpful info\n",
    "plt.title(\"Heart Disease in function of Age & Max Heart Rate\")\n",
    "plt.xlabel(\"Age\")\n",
    "plt.ylabel(\"Max Heart Rate\")\n",
    "plt.legend([\"Diseased\", \"No Disease\"]);"
   ]
  },
  {
   "cell_type": "code",
   "execution_count": 19,
   "id": "perfect-principal",
   "metadata": {},
   "outputs": [
    {
     "data": {
      "image/png": "[encoded data removed]",
      "text/plain": [
       "<Figure size 432x288 with 1 Axes>"
      ]
     },
     "metadata": {
      "needs_background": "light"
     },
     "output_type": "display_data"
    }
   ],
   "source": [
    "# Check the distribution of the age column\n",
    "data.age.plot.hist();"
   ]
  },
  {
   "cell_type": "markdown",
   "id": "negative-water",
   "metadata": {},
   "source": [
    "### Heart Disease Frequency over Chest Pain Type  \n",
    "* (cp):chest pain type\n",
    "    - Value 0: typical angina\n",
    "    - Value 1: atypical angina\n",
    "    - Value 2: non-anginal pain\n",
    "    - Value 3: asymptomatic"
   ]
  },
  {
   "cell_type": "code",
   "execution_count": 20,
   "id": "miniature-question",
   "metadata": {},
   "outputs": [
    {
     "data": {
      "text/html": [
       "<div>\n",
       "<style scoped>\n",
       "    .dataframe tbody tr th:only-of-type {\n",
       "        vertical-align: middle;\n",
       "    }\n",
       "\n",
       "    .dataframe tbody tr th {\n",
       "        vertical-align: top;\n",
       "    }\n",
       "\n",
       "    .dataframe thead th {\n",
       "        text-align: right;\n",
       "    }\n",
       "</style>\n",
       "<table border=\"1\" class=\"dataframe\">\n",
       "  <thead>\n",
       "    <tr style=\"text-align: right;\">\n",
       "      <th>target</th>\n",
       "      <th>0</th>\n",
       "      <th>1</th>\n",
       "    </tr>\n",
       "    <tr>\n",
       "      <th>cp</th>\n",
       "      <th></th>\n",
       "      <th></th>\n",
       "    </tr>\n",
       "  </thead>\n",
       "  <tbody>\n",
       "    <tr>\n",
       "      <th>0</th>\n",
       "      <td>104</td>\n",
       "      <td>39</td>\n",
       "    </tr>\n",
       "    <tr>\n",
       "      <th>1</th>\n",
       "      <td>9</td>\n",
       "      <td>41</td>\n",
       "    </tr>\n",
       "    <tr>\n",
       "      <th>2</th>\n",
       "      <td>18</td>\n",
       "      <td>69</td>\n",
       "    </tr>\n",
       "    <tr>\n",
       "      <th>3</th>\n",
       "      <td>7</td>\n",
       "      <td>16</td>\n",
       "    </tr>\n",
       "  </tbody>\n",
       "</table>\n",
       "</div>"
      ],
      "text/plain": [
       "target    0   1\n",
       "cp             \n",
       "0       104  39\n",
       "1         9  41\n",
       "2        18  69\n",
       "3         7  16"
      ]
     },
     "execution_count": 20,
     "metadata": {},
     "output_type": "execute_result"
    }
   ],
   "source": [
    "pd.crosstab(data.cp, data.target)"
   ]
  },
  {
   "cell_type": "markdown",
   "id": "representative-sender",
   "metadata": {},
   "source": [
    "We see that:-\n",
    "- Non-anginal chest pain is a good indicator for heart disease\n",
    "- Typical angina is a poor indicator for heart disease"
   ]
  },
  {
   "cell_type": "code",
   "execution_count": 21,
   "id": "instrumental-monkey",
   "metadata": {},
   "outputs": [
    {
     "data": {
      "image/png": "[encoded data removed]",
      "text/plain": [
       "<Figure size 720x432 with 1 Axes>"
      ]
     },
     "metadata": {
      "needs_background": "light"
     },
     "output_type": "display_data"
    }
   ],
   "source": [
    "# Making the crosstab more descriptive\n",
    "pd.crosstab(data.cp, data.target).plot(kind=\"bar\", figsize=(10, 6), color=[\"salmon\", \"lightblue\"]);\n",
    "\n",
    "plt.title(\"Heart Disease Frequency across Chest Pain Types\")\n",
    "plt.xlabel(\"Chest Pain Type\")\n",
    "plt.ylabel(\"Frequency\")\n",
    "plt.legend([\"No Disease\", \"Diseased\"])\n",
    "plt.xticks(rotation=0);"
   ]
  },
  {
   "cell_type": "markdown",
   "id": "moderate-petersburg",
   "metadata": {},
   "source": [
    "## Building a Correlation Matrix\n",
    "- Tells us how each of the independent variables (features) are related to each other"
   ]
  },
  {
   "cell_type": "code",
   "execution_count": 22,
   "id": "former-coffee",
   "metadata": {},
   "outputs": [
    {
     "data": {
      "text/html": [
       "<div>\n",
       "<style scoped>\n",
       "    .dataframe tbody tr th:only-of-type {\n",
       "        vertical-align: middle;\n",
       "    }\n",
       "\n",
       "    .dataframe tbody tr th {\n",
       "        vertical-align: top;\n",
       "    }\n",
       "\n",
       "    .dataframe thead th {\n",
       "        text-align: right;\n",
       "    }\n",
       "</style>\n",
       "<table border=\"1\" class=\"dataframe\">\n",
       "  <thead>\n",
       "    <tr style=\"text-align: right;\">\n",
       "      <th></th>\n",
       "      <th>age</th>\n",
       "      <th>sex</th>\n",
       "      <th>cp</th>\n",
       "      <th>trestbps</th>\n",
       "      <th>chol</th>\n",
       "      <th>fbs</th>\n",
       "      <th>restecg</th>\n",
       "      <th>thalach</th>\n",
       "      <th>exang</th>\n",
       "      <th>oldpeak</th>\n",
       "      <th>slope</th>\n",
       "      <th>ca</th>\n",
       "      <th>thal</th>\n",
       "      <th>target</th>\n",
       "    </tr>\n",
       "  </thead>\n",
       "  <tbody>\n",
       "    <tr>\n",
       "      <th>age</th>\n",
       "      <td>1.000000</td>\n",
       "      <td>-0.098447</td>\n",
       "      <td>-0.068653</td>\n",
       "      <td>0.279351</td>\n",
       "      <td>0.213678</td>\n",
       "      <td>0.121308</td>\n",
       "      <td>-0.116211</td>\n",
       "      <td>-0.398522</td>\n",
       "      <td>0.096801</td>\n",
       "      <td>0.210013</td>\n",
       "      <td>-0.168814</td>\n",
       "      <td>0.276326</td>\n",
       "      <td>0.068001</td>\n",
       "      <td>-0.225439</td>\n",
       "    </tr>\n",
       "    <tr>\n",
       "      <th>sex</th>\n",
       "      <td>-0.098447</td>\n",
       "      <td>1.000000</td>\n",
       "      <td>-0.049353</td>\n",
       "      <td>-0.056769</td>\n",
       "      <td>-0.197912</td>\n",
       "      <td>0.045032</td>\n",
       "      <td>-0.058196</td>\n",
       "      <td>-0.044020</td>\n",
       "      <td>0.141664</td>\n",
       "      <td>0.096093</td>\n",
       "      <td>-0.030711</td>\n",
       "      <td>0.118261</td>\n",
       "      <td>0.210041</td>\n",
       "      <td>-0.280937</td>\n",
       "    </tr>\n",
       "    <tr>\n",
       "      <th>cp</th>\n",
       "      <td>-0.068653</td>\n",
       "      <td>-0.049353</td>\n",
       "      <td>1.000000</td>\n",
       "      <td>0.047608</td>\n",
       "      <td>-0.076904</td>\n",
       "      <td>0.094444</td>\n",
       "      <td>0.044421</td>\n",
       "      <td>0.295762</td>\n",
       "      <td>-0.394280</td>\n",
       "      <td>-0.149230</td>\n",
       "      <td>0.119717</td>\n",
       "      <td>-0.181053</td>\n",
       "      <td>-0.161736</td>\n",
       "      <td>0.433798</td>\n",
       "    </tr>\n",
       "    <tr>\n",
       "      <th>trestbps</th>\n",
       "      <td>0.279351</td>\n",
       "      <td>-0.056769</td>\n",
       "      <td>0.047608</td>\n",
       "      <td>1.000000</td>\n",
       "      <td>0.123174</td>\n",
       "      <td>0.177531</td>\n",
       "      <td>-0.114103</td>\n",
       "      <td>-0.046698</td>\n",
       "      <td>0.067616</td>\n",
       "      <td>0.193216</td>\n",
       "      <td>-0.121475</td>\n",
       "      <td>0.101389</td>\n",
       "      <td>0.062210</td>\n",
       "      <td>-0.144931</td>\n",
       "    </tr>\n",
       "    <tr>\n",
       "      <th>chol</th>\n",
       "      <td>0.213678</td>\n",
       "      <td>-0.197912</td>\n",
       "      <td>-0.076904</td>\n",
       "      <td>0.123174</td>\n",
       "      <td>1.000000</td>\n",
       "      <td>0.013294</td>\n",
       "      <td>-0.151040</td>\n",
       "      <td>-0.009940</td>\n",
       "      <td>0.067023</td>\n",
       "      <td>0.053952</td>\n",
       "      <td>-0.004038</td>\n",
       "      <td>0.070511</td>\n",
       "      <td>0.098803</td>\n",
       "      <td>-0.085239</td>\n",
       "    </tr>\n",
       "    <tr>\n",
       "      <th>fbs</th>\n",
       "      <td>0.121308</td>\n",
       "      <td>0.045032</td>\n",
       "      <td>0.094444</td>\n",
       "      <td>0.177531</td>\n",
       "      <td>0.013294</td>\n",
       "      <td>1.000000</td>\n",
       "      <td>-0.084189</td>\n",
       "      <td>-0.008567</td>\n",
       "      <td>0.025665</td>\n",
       "      <td>0.005747</td>\n",
       "      <td>-0.059894</td>\n",
       "      <td>0.137979</td>\n",
       "      <td>-0.032019</td>\n",
       "      <td>-0.028046</td>\n",
       "    </tr>\n",
       "    <tr>\n",
       "      <th>restecg</th>\n",
       "      <td>-0.116211</td>\n",
       "      <td>-0.058196</td>\n",
       "      <td>0.044421</td>\n",
       "      <td>-0.114103</td>\n",
       "      <td>-0.151040</td>\n",
       "      <td>-0.084189</td>\n",
       "      <td>1.000000</td>\n",
       "      <td>0.044123</td>\n",
       "      <td>-0.070733</td>\n",
       "      <td>-0.058770</td>\n",
       "      <td>0.093045</td>\n",
       "      <td>-0.072042</td>\n",
       "      <td>-0.011981</td>\n",
       "      <td>0.137230</td>\n",
       "    </tr>\n",
       "    <tr>\n",
       "      <th>thalach</th>\n",
       "      <td>-0.398522</td>\n",
       "      <td>-0.044020</td>\n",
       "      <td>0.295762</td>\n",
       "      <td>-0.046698</td>\n",
       "      <td>-0.009940</td>\n",
       "      <td>-0.008567</td>\n",
       "      <td>0.044123</td>\n",
       "      <td>1.000000</td>\n",
       "      <td>-0.378812</td>\n",
       "      <td>-0.344187</td>\n",
       "      <td>0.386784</td>\n",
       "      <td>-0.213177</td>\n",
       "      <td>-0.096439</td>\n",
       "      <td>0.421741</td>\n",
       "    </tr>\n",
       "    <tr>\n",
       "      <th>exang</th>\n",
       "      <td>0.096801</td>\n",
       "      <td>0.141664</td>\n",
       "      <td>-0.394280</td>\n",
       "      <td>0.067616</td>\n",
       "      <td>0.067023</td>\n",
       "      <td>0.025665</td>\n",
       "      <td>-0.070733</td>\n",
       "      <td>-0.378812</td>\n",
       "      <td>1.000000</td>\n",
       "      <td>0.288223</td>\n",
       "      <td>-0.257748</td>\n",
       "      <td>0.115739</td>\n",
       "      <td>0.206754</td>\n",
       "      <td>-0.436757</td>\n",
       "    </tr>\n",
       "    <tr>\n",
       "      <th>oldpeak</th>\n",
       "      <td>0.210013</td>\n",
       "      <td>0.096093</td>\n",
       "      <td>-0.149230</td>\n",
       "      <td>0.193216</td>\n",
       "      <td>0.053952</td>\n",
       "      <td>0.005747</td>\n",
       "      <td>-0.058770</td>\n",
       "      <td>-0.344187</td>\n",
       "      <td>0.288223</td>\n",
       "      <td>1.000000</td>\n",
       "      <td>-0.577537</td>\n",
       "      <td>0.222682</td>\n",
       "      <td>0.210244</td>\n",
       "      <td>-0.430696</td>\n",
       "    </tr>\n",
       "    <tr>\n",
       "      <th>slope</th>\n",
       "      <td>-0.168814</td>\n",
       "      <td>-0.030711</td>\n",
       "      <td>0.119717</td>\n",
       "      <td>-0.121475</td>\n",
       "      <td>-0.004038</td>\n",
       "      <td>-0.059894</td>\n",
       "      <td>0.093045</td>\n",
       "      <td>0.386784</td>\n",
       "      <td>-0.257748</td>\n",
       "      <td>-0.577537</td>\n",
       "      <td>1.000000</td>\n",
       "      <td>-0.080155</td>\n",
       "      <td>-0.104764</td>\n",
       "      <td>0.345877</td>\n",
       "    </tr>\n",
       "    <tr>\n",
       "      <th>ca</th>\n",
       "      <td>0.276326</td>\n",
       "      <td>0.118261</td>\n",
       "      <td>-0.181053</td>\n",
       "      <td>0.101389</td>\n",
       "      <td>0.070511</td>\n",
       "      <td>0.137979</td>\n",
       "      <td>-0.072042</td>\n",
       "      <td>-0.213177</td>\n",
       "      <td>0.115739</td>\n",
       "      <td>0.222682</td>\n",
       "      <td>-0.080155</td>\n",
       "      <td>1.000000</td>\n",
       "      <td>0.151832</td>\n",
       "      <td>-0.391724</td>\n",
       "    </tr>\n",
       "    <tr>\n",
       "      <th>thal</th>\n",
       "      <td>0.068001</td>\n",
       "      <td>0.210041</td>\n",
       "      <td>-0.161736</td>\n",
       "      <td>0.062210</td>\n",
       "      <td>0.098803</td>\n",
       "      <td>-0.032019</td>\n",
       "      <td>-0.011981</td>\n",
       "      <td>-0.096439</td>\n",
       "      <td>0.206754</td>\n",
       "      <td>0.210244</td>\n",
       "      <td>-0.104764</td>\n",
       "      <td>0.151832</td>\n",
       "      <td>1.000000</td>\n",
       "      <td>-0.344029</td>\n",
       "    </tr>\n",
       "    <tr>\n",
       "      <th>target</th>\n",
       "      <td>-0.225439</td>\n",
       "      <td>-0.280937</td>\n",
       "      <td>0.433798</td>\n",
       "      <td>-0.144931</td>\n",
       "      <td>-0.085239</td>\n",
       "      <td>-0.028046</td>\n",
       "      <td>0.137230</td>\n",
       "      <td>0.421741</td>\n",
       "      <td>-0.436757</td>\n",
       "      <td>-0.430696</td>\n",
       "      <td>0.345877</td>\n",
       "      <td>-0.391724</td>\n",
       "      <td>-0.344029</td>\n",
       "      <td>1.000000</td>\n",
       "    </tr>\n",
       "  </tbody>\n",
       "</table>\n",
       "</div>"
      ],
      "text/plain": [
       "               age       sex        cp  ...        ca      thal    target\n",
       "age       1.000000 -0.098447 -0.068653  ...  0.276326  0.068001 -0.225439\n",
       "sex      -0.098447  1.000000 -0.049353  ...  0.118261  0.210041 -0.280937\n",
       "cp       -0.068653 -0.049353  1.000000  ... -0.181053 -0.161736  0.433798\n",
       "trestbps  0.279351 -0.056769  0.047608  ...  0.101389  0.062210 -0.144931\n",
       "chol      0.213678 -0.197912 -0.076904  ...  0.070511  0.098803 -0.085239\n",
       "fbs       0.121308  0.045032  0.094444  ...  0.137979 -0.032019 -0.028046\n",
       "restecg  -0.116211 -0.058196  0.044421  ... -0.072042 -0.011981  0.137230\n",
       "thalach  -0.398522 -0.044020  0.295762  ... -0.213177 -0.096439  0.421741\n",
       "exang     0.096801  0.141664 -0.394280  ...  0.115739  0.206754 -0.436757\n",
       "oldpeak   0.210013  0.096093 -0.149230  ...  0.222682  0.210244 -0.430696\n",
       "slope    -0.168814 -0.030711  0.119717  ... -0.080155 -0.104764  0.345877\n",
       "ca        0.276326  0.118261 -0.181053  ...  1.000000  0.151832 -0.391724\n",
       "thal      0.068001  0.210041 -0.161736  ...  0.151832  1.000000 -0.344029\n",
       "target   -0.225439 -0.280937  0.433798  ... -0.391724 -0.344029  1.000000\n",
       "\n",
       "[14 rows x 14 columns]"
      ]
     },
     "execution_count": 22,
     "metadata": {},
     "output_type": "execute_result"
    }
   ],
   "source": [
    "# Make a correlation matrix\n",
    "data.corr()"
   ]
  },
  {
   "cell_type": "code",
   "execution_count": 23,
   "id": "silent-windsor",
   "metadata": {},
   "outputs": [
    {
     "data": {
      "image/png": "[encoded data removed]",
      "text/plain": [
       "<Figure size 1080x720 with 2 Axes>"
      ]
     },
     "metadata": {
      "needs_background": "light"
     },
     "output_type": "display_data"
    }
   ],
   "source": [
    "#Let's make our correlation matrix a little more descriptive\n",
    "corr_matrix = data.corr()\n",
    "fig, ax = plt.subplots(figsize=(15,10))\n",
    "ax = sns.heatmap(corr_matrix,\n",
    "                annot=True,\n",
    "                linewidths=0.5,\n",
    "                fmt=\".2f\",\n",
    "                cmap=\"YlGnBu\");"
   ]
  },
  {
   "cell_type": "markdown",
   "id": "matched-mobility",
   "metadata": {},
   "source": [
    "Positive value - positive correlation -> as a increases so does b & vice versa  \n",
    "\n",
    "Negative value - negative correlation -> as a increases , b decreases & vice versa"
   ]
  },
  {
   "cell_type": "markdown",
   "id": "blocked-address",
   "metadata": {},
   "source": [
    "## 5. MODELLING"
   ]
  },
  {
   "cell_type": "code",
   "execution_count": 24,
   "id": "intended-perfume",
   "metadata": {},
   "outputs": [
    {
     "data": {
      "text/html": [
       "<div>\n",
       "<style scoped>\n",
       "    .dataframe tbody tr th:only-of-type {\n",
       "        vertical-align: middle;\n",
       "    }\n",
       "\n",
       "    .dataframe tbody tr th {\n",
       "        vertical-align: top;\n",
       "    }\n",
       "\n",
       "    .dataframe thead th {\n",
       "        text-align: right;\n",
       "    }\n",
       "</style>\n",
       "<table border=\"1\" class=\"dataframe\">\n",
       "  <thead>\n",
       "    <tr style=\"text-align: right;\">\n",
       "      <th></th>\n",
       "      <th>age</th>\n",
       "      <th>sex</th>\n",
       "      <th>cp</th>\n",
       "      <th>trestbps</th>\n",
       "      <th>chol</th>\n",
       "      <th>fbs</th>\n",
       "      <th>restecg</th>\n",
       "      <th>thalach</th>\n",
       "      <th>exang</th>\n",
       "      <th>oldpeak</th>\n",
       "      <th>slope</th>\n",
       "      <th>ca</th>\n",
       "      <th>thal</th>\n",
       "      <th>target</th>\n",
       "    </tr>\n",
       "  </thead>\n",
       "  <tbody>\n",
       "    <tr>\n",
       "      <th>0</th>\n",
       "      <td>63</td>\n",
       "      <td>1</td>\n",
       "      <td>3</td>\n",
       "      <td>145</td>\n",
       "      <td>233</td>\n",
       "      <td>1</td>\n",
       "      <td>0</td>\n",
       "      <td>150</td>\n",
       "      <td>0</td>\n",
       "      <td>2.3</td>\n",
       "      <td>0</td>\n",
       "      <td>0</td>\n",
       "      <td>1</td>\n",
       "      <td>1</td>\n",
       "    </tr>\n",
       "    <tr>\n",
       "      <th>1</th>\n",
       "      <td>37</td>\n",
       "      <td>1</td>\n",
       "      <td>2</td>\n",
       "      <td>130</td>\n",
       "      <td>250</td>\n",
       "      <td>0</td>\n",
       "      <td>1</td>\n",
       "      <td>187</td>\n",
       "      <td>0</td>\n",
       "      <td>3.5</td>\n",
       "      <td>0</td>\n",
       "      <td>0</td>\n",
       "      <td>2</td>\n",
       "      <td>1</td>\n",
       "    </tr>\n",
       "    <tr>\n",
       "      <th>2</th>\n",
       "      <td>41</td>\n",
       "      <td>0</td>\n",
       "      <td>1</td>\n",
       "      <td>130</td>\n",
       "      <td>204</td>\n",
       "      <td>0</td>\n",
       "      <td>0</td>\n",
       "      <td>172</td>\n",
       "      <td>0</td>\n",
       "      <td>1.4</td>\n",
       "      <td>2</td>\n",
       "      <td>0</td>\n",
       "      <td>2</td>\n",
       "      <td>1</td>\n",
       "    </tr>\n",
       "    <tr>\n",
       "      <th>3</th>\n",
       "      <td>56</td>\n",
       "      <td>1</td>\n",
       "      <td>1</td>\n",
       "      <td>120</td>\n",
       "      <td>236</td>\n",
       "      <td>0</td>\n",
       "      <td>1</td>\n",
       "      <td>178</td>\n",
       "      <td>0</td>\n",
       "      <td>0.8</td>\n",
       "      <td>2</td>\n",
       "      <td>0</td>\n",
       "      <td>2</td>\n",
       "      <td>1</td>\n",
       "    </tr>\n",
       "    <tr>\n",
       "      <th>4</th>\n",
       "      <td>57</td>\n",
       "      <td>0</td>\n",
       "      <td>0</td>\n",
       "      <td>120</td>\n",
       "      <td>354</td>\n",
       "      <td>0</td>\n",
       "      <td>1</td>\n",
       "      <td>163</td>\n",
       "      <td>1</td>\n",
       "      <td>0.6</td>\n",
       "      <td>2</td>\n",
       "      <td>0</td>\n",
       "      <td>2</td>\n",
       "      <td>1</td>\n",
       "    </tr>\n",
       "  </tbody>\n",
       "</table>\n",
       "</div>"
      ],
      "text/plain": [
       "   age  sex  cp  trestbps  chol  fbs  ...  exang  oldpeak  slope  ca  thal  target\n",
       "0   63    1   3       145   233    1  ...      0      2.3      0   0     1       1\n",
       "1   37    1   2       130   250    0  ...      0      3.5      0   0     2       1\n",
       "2   41    0   1       130   204    0  ...      0      1.4      2   0     2       1\n",
       "3   56    1   1       120   236    0  ...      0      0.8      2   0     2       1\n",
       "4   57    0   0       120   354    0  ...      1      0.6      2   0     2       1\n",
       "\n",
       "[5 rows x 14 columns]"
      ]
     },
     "execution_count": 24,
     "metadata": {},
     "output_type": "execute_result"
    }
   ],
   "source": [
    "data.head()"
   ]
  },
  {
   "cell_type": "code",
   "execution_count": 25,
   "id": "flexible-toolbox",
   "metadata": {},
   "outputs": [],
   "source": [
    "# Split data into X and y \n",
    "X = data.drop(\"target\", axis=1)\n",
    "y = data.target"
   ]
  },
  {
   "cell_type": "code",
   "execution_count": 26,
   "id": "variable-agriculture",
   "metadata": {},
   "outputs": [
    {
     "data": {
      "text/html": [
       "<div>\n",
       "<style scoped>\n",
       "    .dataframe tbody tr th:only-of-type {\n",
       "        vertical-align: middle;\n",
       "    }\n",
       "\n",
       "    .dataframe tbody tr th {\n",
       "        vertical-align: top;\n",
       "    }\n",
       "\n",
       "    .dataframe thead th {\n",
       "        text-align: right;\n",
       "    }\n",
       "</style>\n",
       "<table border=\"1\" class=\"dataframe\">\n",
       "  <thead>\n",
       "    <tr style=\"text-align: right;\">\n",
       "      <th></th>\n",
       "      <th>age</th>\n",
       "      <th>sex</th>\n",
       "      <th>cp</th>\n",
       "      <th>trestbps</th>\n",
       "      <th>chol</th>\n",
       "      <th>fbs</th>\n",
       "      <th>restecg</th>\n",
       "      <th>thalach</th>\n",
       "      <th>exang</th>\n",
       "      <th>oldpeak</th>\n",
       "      <th>slope</th>\n",
       "      <th>ca</th>\n",
       "      <th>thal</th>\n",
       "    </tr>\n",
       "  </thead>\n",
       "  <tbody>\n",
       "    <tr>\n",
       "      <th>0</th>\n",
       "      <td>63</td>\n",
       "      <td>1</td>\n",
       "      <td>3</td>\n",
       "      <td>145</td>\n",
       "      <td>233</td>\n",
       "      <td>1</td>\n",
       "      <td>0</td>\n",
       "      <td>150</td>\n",
       "      <td>0</td>\n",
       "      <td>2.3</td>\n",
       "      <td>0</td>\n",
       "      <td>0</td>\n",
       "      <td>1</td>\n",
       "    </tr>\n",
       "    <tr>\n",
       "      <th>1</th>\n",
       "      <td>37</td>\n",
       "      <td>1</td>\n",
       "      <td>2</td>\n",
       "      <td>130</td>\n",
       "      <td>250</td>\n",
       "      <td>0</td>\n",
       "      <td>1</td>\n",
       "      <td>187</td>\n",
       "      <td>0</td>\n",
       "      <td>3.5</td>\n",
       "      <td>0</td>\n",
       "      <td>0</td>\n",
       "      <td>2</td>\n",
       "    </tr>\n",
       "    <tr>\n",
       "      <th>2</th>\n",
       "      <td>41</td>\n",
       "      <td>0</td>\n",
       "      <td>1</td>\n",
       "      <td>130</td>\n",
       "      <td>204</td>\n",
       "      <td>0</td>\n",
       "      <td>0</td>\n",
       "      <td>172</td>\n",
       "      <td>0</td>\n",
       "      <td>1.4</td>\n",
       "      <td>2</td>\n",
       "      <td>0</td>\n",
       "      <td>2</td>\n",
       "    </tr>\n",
       "    <tr>\n",
       "      <th>3</th>\n",
       "      <td>56</td>\n",
       "      <td>1</td>\n",
       "      <td>1</td>\n",
       "      <td>120</td>\n",
       "      <td>236</td>\n",
       "      <td>0</td>\n",
       "      <td>1</td>\n",
       "      <td>178</td>\n",
       "      <td>0</td>\n",
       "      <td>0.8</td>\n",
       "      <td>2</td>\n",
       "      <td>0</td>\n",
       "      <td>2</td>\n",
       "    </tr>\n",
       "    <tr>\n",
       "      <th>4</th>\n",
       "      <td>57</td>\n",
       "      <td>0</td>\n",
       "      <td>0</td>\n",
       "      <td>120</td>\n",
       "      <td>354</td>\n",
       "      <td>0</td>\n",
       "      <td>1</td>\n",
       "      <td>163</td>\n",
       "      <td>1</td>\n",
       "      <td>0.6</td>\n",
       "      <td>2</td>\n",
       "      <td>0</td>\n",
       "      <td>2</td>\n",
       "    </tr>\n",
       "  </tbody>\n",
       "</table>\n",
       "</div>"
      ],
      "text/plain": [
       "   age  sex  cp  trestbps  chol  fbs  ...  thalach  exang  oldpeak  slope  ca  thal\n",
       "0   63    1   3       145   233    1  ...      150      0      2.3      0   0     1\n",
       "1   37    1   2       130   250    0  ...      187      0      3.5      0   0     2\n",
       "2   41    0   1       130   204    0  ...      172      0      1.4      2   0     2\n",
       "3   56    1   1       120   236    0  ...      178      0      0.8      2   0     2\n",
       "4   57    0   0       120   354    0  ...      163      1      0.6      2   0     2\n",
       "\n",
       "[5 rows x 13 columns]"
      ]
     },
     "execution_count": 26,
     "metadata": {},
     "output_type": "execute_result"
    }
   ],
   "source": [
    "X.head()"
   ]
  },
  {
   "cell_type": "code",
   "execution_count": 27,
   "id": "tight-lucas",
   "metadata": {},
   "outputs": [
    {
     "data": {
      "text/plain": [
       "0    1\n",
       "1    1\n",
       "2    1\n",
       "3    1\n",
       "4    1\n",
       "Name: target, dtype: int64"
      ]
     },
     "execution_count": 27,
     "metadata": {},
     "output_type": "execute_result"
    }
   ],
   "source": [
    "y.head()"
   ]
  },
  {
   "cell_type": "code",
   "execution_count": 28,
   "id": "frequent-lafayette",
   "metadata": {},
   "outputs": [],
   "source": [
    "# Creating train , validation and test sets\n",
    "np.random.seed(42)\n",
    "\n",
    "# Split into train and test set\n",
    "X_train, X_test, y_train, y_test = train_test_split(X,y,test_size=0.2)"
   ]
  },
  {
   "cell_type": "code",
   "execution_count": 29,
   "id": "virgin-england",
   "metadata": {},
   "outputs": [
    {
     "data": {
      "text/html": [
       "<div>\n",
       "<style scoped>\n",
       "    .dataframe tbody tr th:only-of-type {\n",
       "        vertical-align: middle;\n",
       "    }\n",
       "\n",
       "    .dataframe tbody tr th {\n",
       "        vertical-align: top;\n",
       "    }\n",
       "\n",
       "    .dataframe thead th {\n",
       "        text-align: right;\n",
       "    }\n",
       "</style>\n",
       "<table border=\"1\" class=\"dataframe\">\n",
       "  <thead>\n",
       "    <tr style=\"text-align: right;\">\n",
       "      <th></th>\n",
       "      <th>age</th>\n",
       "      <th>sex</th>\n",
       "      <th>cp</th>\n",
       "      <th>trestbps</th>\n",
       "      <th>chol</th>\n",
       "      <th>fbs</th>\n",
       "      <th>restecg</th>\n",
       "      <th>thalach</th>\n",
       "      <th>exang</th>\n",
       "      <th>oldpeak</th>\n",
       "      <th>slope</th>\n",
       "      <th>ca</th>\n",
       "      <th>thal</th>\n",
       "    </tr>\n",
       "  </thead>\n",
       "  <tbody>\n",
       "    <tr>\n",
       "      <th>132</th>\n",
       "      <td>42</td>\n",
       "      <td>1</td>\n",
       "      <td>1</td>\n",
       "      <td>120</td>\n",
       "      <td>295</td>\n",
       "      <td>0</td>\n",
       "      <td>1</td>\n",
       "      <td>162</td>\n",
       "      <td>0</td>\n",
       "      <td>0.0</td>\n",
       "      <td>2</td>\n",
       "      <td>0</td>\n",
       "      <td>2</td>\n",
       "    </tr>\n",
       "    <tr>\n",
       "      <th>202</th>\n",
       "      <td>58</td>\n",
       "      <td>1</td>\n",
       "      <td>0</td>\n",
       "      <td>150</td>\n",
       "      <td>270</td>\n",
       "      <td>0</td>\n",
       "      <td>0</td>\n",
       "      <td>111</td>\n",
       "      <td>1</td>\n",
       "      <td>0.8</td>\n",
       "      <td>2</td>\n",
       "      <td>0</td>\n",
       "      <td>3</td>\n",
       "    </tr>\n",
       "    <tr>\n",
       "      <th>196</th>\n",
       "      <td>46</td>\n",
       "      <td>1</td>\n",
       "      <td>2</td>\n",
       "      <td>150</td>\n",
       "      <td>231</td>\n",
       "      <td>0</td>\n",
       "      <td>1</td>\n",
       "      <td>147</td>\n",
       "      <td>0</td>\n",
       "      <td>3.6</td>\n",
       "      <td>1</td>\n",
       "      <td>0</td>\n",
       "      <td>2</td>\n",
       "    </tr>\n",
       "    <tr>\n",
       "      <th>75</th>\n",
       "      <td>55</td>\n",
       "      <td>0</td>\n",
       "      <td>1</td>\n",
       "      <td>135</td>\n",
       "      <td>250</td>\n",
       "      <td>0</td>\n",
       "      <td>0</td>\n",
       "      <td>161</td>\n",
       "      <td>0</td>\n",
       "      <td>1.4</td>\n",
       "      <td>1</td>\n",
       "      <td>0</td>\n",
       "      <td>2</td>\n",
       "    </tr>\n",
       "    <tr>\n",
       "      <th>176</th>\n",
       "      <td>60</td>\n",
       "      <td>1</td>\n",
       "      <td>0</td>\n",
       "      <td>117</td>\n",
       "      <td>230</td>\n",
       "      <td>1</td>\n",
       "      <td>1</td>\n",
       "      <td>160</td>\n",
       "      <td>1</td>\n",
       "      <td>1.4</td>\n",
       "      <td>2</td>\n",
       "      <td>2</td>\n",
       "      <td>3</td>\n",
       "    </tr>\n",
       "  </tbody>\n",
       "</table>\n",
       "</div>"
      ],
      "text/plain": [
       "     age  sex  cp  trestbps  chol  ...  exang  oldpeak  slope  ca  thal\n",
       "132   42    1   1       120   295  ...      0      0.0      2   0     2\n",
       "202   58    1   0       150   270  ...      1      0.8      2   0     3\n",
       "196   46    1   2       150   231  ...      0      3.6      1   0     2\n",
       "75    55    0   1       135   250  ...      0      1.4      1   0     2\n",
       "176   60    1   0       117   230  ...      1      1.4      2   2     3\n",
       "\n",
       "[5 rows x 13 columns]"
      ]
     },
     "execution_count": 29,
     "metadata": {},
     "output_type": "execute_result"
    }
   ],
   "source": [
    "# Visuaizing the training data\n",
    "X_train.head()"
   ]
  },
  {
   "cell_type": "code",
   "execution_count": 30,
   "id": "incomplete-cooler",
   "metadata": {},
   "outputs": [
    {
     "data": {
      "text/plain": [
       "132    1\n",
       "202    0\n",
       "196    0\n",
       "75     1\n",
       "176    0\n",
       "Name: target, dtype: int64"
      ]
     },
     "execution_count": 30,
     "metadata": {},
     "output_type": "execute_result"
    }
   ],
   "source": [
    "y_train.head()"
   ]
  },
  {
   "cell_type": "markdown",
   "id": "acute-package",
   "metadata": {},
   "source": [
    "### Building the model\n",
    "**What model do we use ?**  \n",
    "\n",
    "We will try the following 5 different models/estimators\n",
    "1. KNegihbours Classifier\n",
    "2. Random Forest classifier\n",
    "3. Logistic Regressor\n",
    "4. XGBoost Classifier\n",
    "5. CatBoost Classifier\n",
    "\n"
   ]
  },
  {
   "cell_type": "code",
   "execution_count": 31,
   "id": "suited-coast",
   "metadata": {},
   "outputs": [],
   "source": [
    "import xgboost\n",
    "from xgboost import XGBClassifier\n",
    "import catboost\n",
    "from catboost import CatBoostClassifier"
   ]
  },
  {
   "cell_type": "code",
   "execution_count": 32,
   "id": "unexpected-panama",
   "metadata": {},
   "outputs": [],
   "source": [
    "# Put models into a dictionary\n",
    "models = {\"Logistic Regression\": LogisticRegression(),\n",
    "         \"KNN\": KNeighborsClassifier(),\n",
    "         \"Random Forest\": RandomForestClassifier(),\n",
    "         \"XGBoost Classifier\": XGBClassifier(),\n",
    "         \"CatBoost Classifier\": CatBoostClassifier()}\n",
    "\n",
    "# Create a function to fit and score models\n",
    "def fit_and_score(models, X_train, X_test, y_train, y_test):\n",
    "    \"\"\"\n",
    "    Fits and evaluates given ML models.\n",
    "    models: a dict of the different SKLEARN ML models that will be used\n",
    "    X_train: training data\n",
    "    X_test\" testing data\n",
    "    y_train: training labels\n",
    "    y_test: testing labels\n",
    "    \n",
    "    \"\"\"\n",
    "    # Set random seed\n",
    "    np.random.seed(42)\n",
    "    # Make a dictionary to keep model scores\n",
    "    model_scores = {}\n",
    "    # Looping through the models\n",
    "    for name, model in models.items():\n",
    "        # Fitting/training each model to the training data\n",
    "        model.fit(X_train, y_train)\n",
    "        #Evaluate model and append its score to model_score dict\n",
    "        model_scores[name] = model.score(X_test, y_test)\n",
    "    return model_scores        "
   ]
  },
  {
   "cell_type": "code",
   "execution_count": 33,
   "id": "matched-midnight",
   "metadata": {},
   "outputs": [
    {
     "name": "stderr",
     "output_type": "stream",
     "text": [
      "/Users/JJ/Desktop/MLProjects/Heart_Disease_Project/env/lib/python3.8/site-packages/sklearn/linear_model/_logistic.py:763: ConvergenceWarning: lbfgs failed to converge (status=1):\n",
      "STOP: TOTAL NO. of ITERATIONS REACHED LIMIT.\n",
      "\n",
      "Increase the number of iterations (max_iter) or scale the data as shown in:\n",
      "    https://scikit-learn.org/stable/modules/preprocessing.html\n",
      "Please also refer to the documentation for alternative solver options:\n",
      "    https://scikit-learn.org/stable/modules/linear_model.html#logistic-regression\n",
      "  n_iter_i = _check_optimize_result(\n",
      "/Users/JJ/Desktop/MLProjects/Heart_Disease_Project/env/lib/python3.8/site-packages/xgboost/sklearn.py:1146: UserWarning: The use of label encoder in XGBClassifier is deprecated and will be removed in a future release. To remove this warning, do the following: 1) Pass option use_label_encoder=False when constructing XGBClassifier object; and 2) Encode your labels (y) as integers starting with 0, i.e. 0, 1, 2, ..., [num_class - 1].\n",
      "  warnings.warn(label_encoder_deprecation_msg, UserWarning)\n"
     ]
    },
    {
     "name": "stdout",
     "output_type": "stream",
     "text": [
      "[13:47:01] WARNING: /Users/travis/build/dmlc/xgboost/src/learner.cc:1095: Starting in XGBoost 1.3.0, the default evaluation metric used with the objective 'binary:logistic' was changed from 'error' to 'logloss'. Explicitly set eval_metric if you'd like to restore the old behavior.\n",
      "Learning rate set to 0.005621\n"
     ]
    },
    {
     "name": "stderr",
     "output_type": "stream",
     "text": [
      "/Users/JJ/Desktop/MLProjects/Heart_Disease_Project/env/lib/python3.8/site-packages/xgboost/data.py:112: UserWarning: Use subset (sliced data) of np.ndarray is not recommended because it will generate extra copies and increase memory consumption\n",
      "  warnings.warn(\n"
     ]
    },
    {
     "name": "stdout",
     "output_type": "stream",
     "text": [
      "0:\tlearn: 0.6884219\ttotal: 71.4ms\tremaining: 1m 11s\n",
      "1:\tlearn: 0.6846992\ttotal: 73.6ms\tremaining: 36.7s\n",
      "2:\tlearn: 0.6804482\ttotal: 75.1ms\tremaining: 25s\n",
      "3:\tlearn: 0.6762280\ttotal: 76.4ms\tremaining: 19s\n",
      "4:\tlearn: 0.6716854\ttotal: 77.5ms\tremaining: 15.4s\n",
      "5:\tlearn: 0.6672902\ttotal: 78.5ms\tremaining: 13s\n",
      "6:\tlearn: 0.6640072\ttotal: 79.6ms\tremaining: 11.3s\n",
      "7:\tlearn: 0.6602127\ttotal: 80.8ms\tremaining: 10s\n",
      "8:\tlearn: 0.6563948\ttotal: 82.1ms\tremaining: 9.04s\n",
      "9:\tlearn: 0.6525316\ttotal: 83.7ms\tremaining: 8.29s\n",
      "10:\tlearn: 0.6483925\ttotal: 85.2ms\tremaining: 7.66s\n",
      "11:\tlearn: 0.6449119\ttotal: 86.5ms\tremaining: 7.12s\n",
      "12:\tlearn: 0.6413090\ttotal: 87.6ms\tremaining: 6.65s\n",
      "13:\tlearn: 0.6374641\ttotal: 88.8ms\tremaining: 6.25s\n",
      "14:\tlearn: 0.6335822\ttotal: 89.9ms\tremaining: 5.9s\n",
      "15:\tlearn: 0.6288496\ttotal: 90.9ms\tremaining: 5.59s\n",
      "16:\tlearn: 0.6250951\ttotal: 92ms\tremaining: 5.32s\n",
      "17:\tlearn: 0.6209988\ttotal: 93.1ms\tremaining: 5.08s\n",
      "18:\tlearn: 0.6182407\ttotal: 94.2ms\tremaining: 4.86s\n",
      "19:\tlearn: 0.6146885\ttotal: 95.2ms\tremaining: 4.67s\n",
      "20:\tlearn: 0.6112580\ttotal: 96.3ms\tremaining: 4.49s\n",
      "21:\tlearn: 0.6082727\ttotal: 97.3ms\tremaining: 4.33s\n",
      "22:\tlearn: 0.6042493\ttotal: 98.3ms\tremaining: 4.18s\n",
      "23:\tlearn: 0.6012802\ttotal: 99.4ms\tremaining: 4.04s\n",
      "24:\tlearn: 0.5972361\ttotal: 101ms\tremaining: 3.92s\n",
      "25:\tlearn: 0.5939734\ttotal: 102ms\tremaining: 3.81s\n",
      "26:\tlearn: 0.5906674\ttotal: 103ms\tremaining: 3.7s\n",
      "27:\tlearn: 0.5868390\ttotal: 104ms\tremaining: 3.6s\n",
      "28:\tlearn: 0.5834556\ttotal: 105ms\tremaining: 3.51s\n",
      "29:\tlearn: 0.5798316\ttotal: 106ms\tremaining: 3.43s\n",
      "30:\tlearn: 0.5777257\ttotal: 107ms\tremaining: 3.35s\n",
      "31:\tlearn: 0.5752542\ttotal: 108ms\tremaining: 3.27s\n",
      "32:\tlearn: 0.5724875\ttotal: 109ms\tremaining: 3.2s\n",
      "33:\tlearn: 0.5708036\ttotal: 110ms\tremaining: 3.12s\n",
      "34:\tlearn: 0.5674613\ttotal: 111ms\tremaining: 3.06s\n",
      "35:\tlearn: 0.5642878\ttotal: 112ms\tremaining: 3s\n",
      "36:\tlearn: 0.5622347\ttotal: 113ms\tremaining: 2.95s\n",
      "37:\tlearn: 0.5606506\ttotal: 114ms\tremaining: 2.88s\n",
      "38:\tlearn: 0.5581801\ttotal: 115ms\tremaining: 2.83s\n",
      "39:\tlearn: 0.5555523\ttotal: 116ms\tremaining: 2.79s\n",
      "40:\tlearn: 0.5527688\ttotal: 117ms\tremaining: 2.74s\n",
      "41:\tlearn: 0.5511804\ttotal: 118ms\tremaining: 2.69s\n",
      "42:\tlearn: 0.5483321\ttotal: 119ms\tremaining: 2.65s\n",
      "43:\tlearn: 0.5453617\ttotal: 120ms\tremaining: 2.62s\n",
      "44:\tlearn: 0.5425260\ttotal: 121ms\tremaining: 2.58s\n",
      "45:\tlearn: 0.5395272\ttotal: 123ms\tremaining: 2.55s\n",
      "46:\tlearn: 0.5371047\ttotal: 125ms\tremaining: 2.53s\n",
      "47:\tlearn: 0.5351085\ttotal: 125ms\tremaining: 2.49s\n",
      "48:\tlearn: 0.5324767\ttotal: 126ms\tremaining: 2.45s\n",
      "49:\tlearn: 0.5300801\ttotal: 127ms\tremaining: 2.42s\n",
      "50:\tlearn: 0.5274837\ttotal: 128ms\tremaining: 2.39s\n",
      "51:\tlearn: 0.5256513\ttotal: 130ms\tremaining: 2.36s\n",
      "52:\tlearn: 0.5227075\ttotal: 131ms\tremaining: 2.33s\n",
      "53:\tlearn: 0.5202730\ttotal: 132ms\tremaining: 2.3s\n",
      "54:\tlearn: 0.5175202\ttotal: 132ms\tremaining: 2.28s\n",
      "55:\tlearn: 0.5151113\ttotal: 134ms\tremaining: 2.25s\n",
      "56:\tlearn: 0.5130912\ttotal: 135ms\tremaining: 2.23s\n",
      "57:\tlearn: 0.5106161\ttotal: 136ms\tremaining: 2.2s\n",
      "58:\tlearn: 0.5084038\ttotal: 137ms\tremaining: 2.18s\n",
      "59:\tlearn: 0.5064813\ttotal: 138ms\tremaining: 2.16s\n",
      "60:\tlearn: 0.5038737\ttotal: 139ms\tremaining: 2.14s\n",
      "61:\tlearn: 0.5018474\ttotal: 140ms\tremaining: 2.12s\n",
      "62:\tlearn: 0.4992070\ttotal: 141ms\tremaining: 2.1s\n",
      "63:\tlearn: 0.4967694\ttotal: 142ms\tremaining: 2.08s\n",
      "64:\tlearn: 0.4944956\ttotal: 143ms\tremaining: 2.06s\n",
      "65:\tlearn: 0.4919413\ttotal: 145ms\tremaining: 2.04s\n",
      "66:\tlearn: 0.4897338\ttotal: 146ms\tremaining: 2.03s\n",
      "67:\tlearn: 0.4874804\ttotal: 147ms\tremaining: 2.01s\n",
      "68:\tlearn: 0.4857090\ttotal: 147ms\tremaining: 1.99s\n",
      "69:\tlearn: 0.4834018\ttotal: 148ms\tremaining: 1.97s\n",
      "70:\tlearn: 0.4817313\ttotal: 149ms\tremaining: 1.95s\n",
      "71:\tlearn: 0.4797357\ttotal: 150ms\tremaining: 1.94s\n",
      "72:\tlearn: 0.4783886\ttotal: 151ms\tremaining: 1.92s\n",
      "73:\tlearn: 0.4768170\ttotal: 153ms\tremaining: 1.91s\n",
      "74:\tlearn: 0.4746734\ttotal: 154ms\tremaining: 1.91s\n",
      "75:\tlearn: 0.4730601\ttotal: 156ms\tremaining: 1.89s\n",
      "76:\tlearn: 0.4707788\ttotal: 157ms\tremaining: 1.88s\n",
      "77:\tlearn: 0.4690917\ttotal: 159ms\tremaining: 1.88s\n",
      "78:\tlearn: 0.4666240\ttotal: 160ms\tremaining: 1.86s\n",
      "79:\tlearn: 0.4646559\ttotal: 161ms\tremaining: 1.85s\n",
      "80:\tlearn: 0.4625645\ttotal: 163ms\tremaining: 1.84s\n",
      "81:\tlearn: 0.4606513\ttotal: 163ms\tremaining: 1.83s\n",
      "82:\tlearn: 0.4587257\ttotal: 164ms\tremaining: 1.81s\n",
      "83:\tlearn: 0.4576947\ttotal: 165ms\tremaining: 1.8s\n",
      "84:\tlearn: 0.4564413\ttotal: 166ms\tremaining: 1.79s\n",
      "85:\tlearn: 0.4547546\ttotal: 167ms\tremaining: 1.78s\n",
      "86:\tlearn: 0.4528300\ttotal: 169ms\tremaining: 1.77s\n",
      "87:\tlearn: 0.4517657\ttotal: 170ms\tremaining: 1.76s\n",
      "88:\tlearn: 0.4502896\ttotal: 171ms\tremaining: 1.75s\n",
      "89:\tlearn: 0.4486835\ttotal: 172ms\tremaining: 1.74s\n",
      "90:\tlearn: 0.4472739\ttotal: 173ms\tremaining: 1.73s\n",
      "91:\tlearn: 0.4455104\ttotal: 174ms\tremaining: 1.72s\n",
      "92:\tlearn: 0.4438941\ttotal: 175ms\tremaining: 1.71s\n",
      "93:\tlearn: 0.4431257\ttotal: 176ms\tremaining: 1.69s\n",
      "94:\tlearn: 0.4413653\ttotal: 176ms\tremaining: 1.68s\n",
      "95:\tlearn: 0.4395945\ttotal: 177ms\tremaining: 1.67s\n",
      "96:\tlearn: 0.4378532\ttotal: 178ms\tremaining: 1.66s\n",
      "97:\tlearn: 0.4359042\ttotal: 179ms\tremaining: 1.65s\n",
      "98:\tlearn: 0.4342829\ttotal: 180ms\tremaining: 1.64s\n",
      "99:\tlearn: 0.4332133\ttotal: 181ms\tremaining: 1.63s\n",
      "100:\tlearn: 0.4314809\ttotal: 182ms\tremaining: 1.62s\n",
      "101:\tlearn: 0.4307406\ttotal: 183ms\tremaining: 1.61s\n",
      "102:\tlearn: 0.4293018\ttotal: 184ms\tremaining: 1.6s\n",
      "103:\tlearn: 0.4278951\ttotal: 185ms\tremaining: 1.59s\n",
      "104:\tlearn: 0.4265759\ttotal: 186ms\tremaining: 1.58s\n",
      "105:\tlearn: 0.4251059\ttotal: 187ms\tremaining: 1.57s\n",
      "106:\tlearn: 0.4239925\ttotal: 188ms\tremaining: 1.56s\n",
      "107:\tlearn: 0.4222699\ttotal: 189ms\tremaining: 1.56s\n",
      "108:\tlearn: 0.4211667\ttotal: 189ms\tremaining: 1.55s\n",
      "109:\tlearn: 0.4202248\ttotal: 190ms\tremaining: 1.54s\n",
      "110:\tlearn: 0.4198594\ttotal: 191ms\tremaining: 1.53s\n",
      "111:\tlearn: 0.4179838\ttotal: 192ms\tremaining: 1.52s\n",
      "112:\tlearn: 0.4159945\ttotal: 193ms\tremaining: 1.51s\n",
      "113:\tlearn: 0.4142427\ttotal: 194ms\tremaining: 1.5s\n",
      "114:\tlearn: 0.4124179\ttotal: 195ms\tremaining: 1.5s\n",
      "115:\tlearn: 0.4109907\ttotal: 196ms\tremaining: 1.49s\n",
      "116:\tlearn: 0.4095346\ttotal: 196ms\tremaining: 1.48s\n",
      "117:\tlearn: 0.4084236\ttotal: 197ms\tremaining: 1.48s\n",
      "118:\tlearn: 0.4070921\ttotal: 198ms\tremaining: 1.47s\n",
      "119:\tlearn: 0.4057320\ttotal: 199ms\tremaining: 1.46s\n",
      "120:\tlearn: 0.4042910\ttotal: 200ms\tremaining: 1.45s\n",
      "121:\tlearn: 0.4026004\ttotal: 201ms\tremaining: 1.44s\n",
      "122:\tlearn: 0.4014355\ttotal: 202ms\tremaining: 1.44s\n",
      "123:\tlearn: 0.3998864\ttotal: 203ms\tremaining: 1.43s\n",
      "124:\tlearn: 0.3987020\ttotal: 204ms\tremaining: 1.42s\n",
      "125:\tlearn: 0.3984041\ttotal: 204ms\tremaining: 1.42s\n",
      "126:\tlearn: 0.3974049\ttotal: 205ms\tremaining: 1.41s\n",
      "127:\tlearn: 0.3964408\ttotal: 206ms\tremaining: 1.4s\n",
      "128:\tlearn: 0.3952997\ttotal: 207ms\tremaining: 1.4s\n",
      "129:\tlearn: 0.3935080\ttotal: 208ms\tremaining: 1.39s\n",
      "130:\tlearn: 0.3919582\ttotal: 209ms\tremaining: 1.38s\n",
      "131:\tlearn: 0.3903310\ttotal: 209ms\tremaining: 1.38s\n",
      "132:\tlearn: 0.3890571\ttotal: 210ms\tremaining: 1.37s\n",
      "133:\tlearn: 0.3881705\ttotal: 211ms\tremaining: 1.36s\n",
      "134:\tlearn: 0.3873128\ttotal: 212ms\tremaining: 1.36s\n",
      "135:\tlearn: 0.3861936\ttotal: 213ms\tremaining: 1.35s\n",
      "136:\tlearn: 0.3849629\ttotal: 214ms\tremaining: 1.35s\n",
      "137:\tlearn: 0.3838819\ttotal: 215ms\tremaining: 1.34s\n",
      "138:\tlearn: 0.3829926\ttotal: 216ms\tremaining: 1.34s\n",
      "139:\tlearn: 0.3817218\ttotal: 217ms\tremaining: 1.33s\n",
      "140:\tlearn: 0.3802766\ttotal: 217ms\tremaining: 1.32s\n",
      "141:\tlearn: 0.3790059\ttotal: 219ms\tremaining: 1.32s\n",
      "142:\tlearn: 0.3779260\ttotal: 220ms\tremaining: 1.32s\n",
      "143:\tlearn: 0.3762595\ttotal: 221ms\tremaining: 1.31s\n",
      "144:\tlearn: 0.3750602\ttotal: 221ms\tremaining: 1.3s\n",
      "145:\tlearn: 0.3740053\ttotal: 222ms\tremaining: 1.3s\n",
      "146:\tlearn: 0.3730355\ttotal: 223ms\tremaining: 1.29s\n",
      "147:\tlearn: 0.3719427\ttotal: 224ms\tremaining: 1.29s\n",
      "148:\tlearn: 0.3706965\ttotal: 225ms\tremaining: 1.28s\n",
      "149:\tlearn: 0.3700717\ttotal: 226ms\tremaining: 1.28s\n",
      "150:\tlearn: 0.3690844\ttotal: 228ms\tremaining: 1.28s\n",
      "151:\tlearn: 0.3677405\ttotal: 229ms\tremaining: 1.28s\n",
      "152:\tlearn: 0.3668268\ttotal: 230ms\tremaining: 1.27s\n",
      "153:\tlearn: 0.3658461\ttotal: 231ms\tremaining: 1.27s\n",
      "154:\tlearn: 0.3647646\ttotal: 250ms\tremaining: 1.36s\n",
      "155:\tlearn: 0.3638406\ttotal: 252ms\tremaining: 1.36s\n",
      "156:\tlearn: 0.3629157\ttotal: 253ms\tremaining: 1.36s\n",
      "157:\tlearn: 0.3615676\ttotal: 254ms\tremaining: 1.35s\n",
      "158:\tlearn: 0.3601817\ttotal: 255ms\tremaining: 1.35s\n",
      "159:\tlearn: 0.3590606\ttotal: 256ms\tremaining: 1.34s\n",
      "160:\tlearn: 0.3580920\ttotal: 257ms\tremaining: 1.34s\n",
      "161:\tlearn: 0.3569267\ttotal: 262ms\tremaining: 1.35s\n",
      "162:\tlearn: 0.3561300\ttotal: 263ms\tremaining: 1.35s\n",
      "163:\tlearn: 0.3550590\ttotal: 268ms\tremaining: 1.37s\n",
      "164:\tlearn: 0.3539735\ttotal: 269ms\tremaining: 1.36s\n",
      "165:\tlearn: 0.3526535\ttotal: 270ms\tremaining: 1.36s\n",
      "166:\tlearn: 0.3519230\ttotal: 271ms\tremaining: 1.35s\n",
      "167:\tlearn: 0.3507364\ttotal: 273ms\tremaining: 1.35s\n",
      "168:\tlearn: 0.3495513\ttotal: 275ms\tremaining: 1.35s\n",
      "169:\tlearn: 0.3486210\ttotal: 276ms\tremaining: 1.35s\n",
      "170:\tlearn: 0.3478275\ttotal: 277ms\tremaining: 1.34s\n",
      "171:\tlearn: 0.3464660\ttotal: 278ms\tremaining: 1.34s\n",
      "172:\tlearn: 0.3455328\ttotal: 278ms\tremaining: 1.33s\n",
      "173:\tlearn: 0.3446498\ttotal: 280ms\tremaining: 1.33s\n",
      "174:\tlearn: 0.3434897\ttotal: 281ms\tremaining: 1.33s\n",
      "175:\tlearn: 0.3430380\ttotal: 282ms\tremaining: 1.32s\n",
      "176:\tlearn: 0.3423960\ttotal: 284ms\tremaining: 1.32s\n",
      "177:\tlearn: 0.3422223\ttotal: 285ms\tremaining: 1.31s\n",
      "178:\tlearn: 0.3414984\ttotal: 286ms\tremaining: 1.31s\n",
      "179:\tlearn: 0.3401987\ttotal: 287ms\tremaining: 1.3s\n",
      "180:\tlearn: 0.3397404\ttotal: 288ms\tremaining: 1.3s\n",
      "181:\tlearn: 0.3389218\ttotal: 289ms\tremaining: 1.3s\n",
      "182:\tlearn: 0.3379466\ttotal: 289ms\tremaining: 1.29s\n",
      "183:\tlearn: 0.3372058\ttotal: 291ms\tremaining: 1.29s\n",
      "184:\tlearn: 0.3369136\ttotal: 291ms\tremaining: 1.28s\n",
      "185:\tlearn: 0.3357838\ttotal: 293ms\tremaining: 1.28s\n",
      "186:\tlearn: 0.3350566\ttotal: 294ms\tremaining: 1.28s\n",
      "187:\tlearn: 0.3339879\ttotal: 296ms\tremaining: 1.28s\n",
      "188:\tlearn: 0.3334208\ttotal: 297ms\tremaining: 1.27s\n",
      "189:\tlearn: 0.3322101\ttotal: 298ms\tremaining: 1.27s\n",
      "190:\tlearn: 0.3318436\ttotal: 299ms\tremaining: 1.26s\n",
      "191:\tlearn: 0.3311233\ttotal: 300ms\tremaining: 1.26s\n",
      "192:\tlearn: 0.3301187\ttotal: 301ms\tremaining: 1.26s\n",
      "193:\tlearn: 0.3294087\ttotal: 303ms\tremaining: 1.26s\n",
      "194:\tlearn: 0.3287585\ttotal: 304ms\tremaining: 1.25s\n",
      "195:\tlearn: 0.3276402\ttotal: 306ms\tremaining: 1.25s\n",
      "196:\tlearn: 0.3268327\ttotal: 307ms\tremaining: 1.25s\n",
      "197:\tlearn: 0.3260096\ttotal: 309ms\tremaining: 1.25s\n",
      "198:\tlearn: 0.3250287\ttotal: 312ms\tremaining: 1.25s\n",
      "199:\tlearn: 0.3246849\ttotal: 313ms\tremaining: 1.25s\n",
      "200:\tlearn: 0.3239244\ttotal: 314ms\tremaining: 1.25s\n",
      "201:\tlearn: 0.3230601\ttotal: 316ms\tremaining: 1.25s\n",
      "202:\tlearn: 0.3218867\ttotal: 317ms\tremaining: 1.25s\n",
      "203:\tlearn: 0.3211467\ttotal: 319ms\tremaining: 1.24s\n",
      "204:\tlearn: 0.3207712\ttotal: 320ms\tremaining: 1.24s\n",
      "205:\tlearn: 0.3199743\ttotal: 321ms\tremaining: 1.24s\n",
      "206:\tlearn: 0.3192023\ttotal: 322ms\tremaining: 1.24s\n",
      "207:\tlearn: 0.3183557\ttotal: 323ms\tremaining: 1.23s\n",
      "208:\tlearn: 0.3176068\ttotal: 324ms\tremaining: 1.23s\n",
      "209:\tlearn: 0.3167791\ttotal: 326ms\tremaining: 1.22s\n",
      "210:\tlearn: 0.3161975\ttotal: 327ms\tremaining: 1.22s\n",
      "211:\tlearn: 0.3153618\ttotal: 328ms\tremaining: 1.22s\n",
      "212:\tlearn: 0.3148271\ttotal: 329ms\tremaining: 1.22s\n",
      "213:\tlearn: 0.3140681\ttotal: 330ms\tremaining: 1.21s\n",
      "214:\tlearn: 0.3134454\ttotal: 331ms\tremaining: 1.21s\n",
      "215:\tlearn: 0.3124547\ttotal: 332ms\tremaining: 1.21s\n",
      "216:\tlearn: 0.3119324\ttotal: 334ms\tremaining: 1.2s\n",
      "217:\tlearn: 0.3111921\ttotal: 335ms\tremaining: 1.2s\n",
      "218:\tlearn: 0.3106581\ttotal: 336ms\tremaining: 1.2s\n",
      "219:\tlearn: 0.3096729\ttotal: 337ms\tremaining: 1.2s\n",
      "220:\tlearn: 0.3087859\ttotal: 339ms\tremaining: 1.19s\n",
      "221:\tlearn: 0.3080927\ttotal: 340ms\tremaining: 1.19s\n",
      "222:\tlearn: 0.3077567\ttotal: 341ms\tremaining: 1.19s\n",
      "223:\tlearn: 0.3068514\ttotal: 342ms\tremaining: 1.18s\n",
      "224:\tlearn: 0.3061142\ttotal: 343ms\tremaining: 1.18s\n",
      "225:\tlearn: 0.3053532\ttotal: 344ms\tremaining: 1.18s\n",
      "226:\tlearn: 0.3050101\ttotal: 345ms\tremaining: 1.17s\n",
      "227:\tlearn: 0.3044096\ttotal: 346ms\tremaining: 1.17s\n",
      "228:\tlearn: 0.3036790\ttotal: 347ms\tremaining: 1.17s\n",
      "229:\tlearn: 0.3029396\ttotal: 348ms\tremaining: 1.16s\n",
      "230:\tlearn: 0.3023481\ttotal: 349ms\tremaining: 1.16s\n",
      "231:\tlearn: 0.3019374\ttotal: 350ms\tremaining: 1.16s\n",
      "232:\tlearn: 0.3011900\ttotal: 350ms\tremaining: 1.15s\n",
      "233:\tlearn: 0.3005185\ttotal: 351ms\tremaining: 1.15s\n",
      "234:\tlearn: 0.2999282\ttotal: 353ms\tremaining: 1.15s\n",
      "235:\tlearn: 0.2989617\ttotal: 354ms\tremaining: 1.14s\n",
      "236:\tlearn: 0.2983288\ttotal: 355ms\tremaining: 1.14s\n",
      "237:\tlearn: 0.2974186\ttotal: 355ms\tremaining: 1.14s\n",
      "238:\tlearn: 0.2967187\ttotal: 356ms\tremaining: 1.13s\n",
      "239:\tlearn: 0.2959042\ttotal: 357ms\tremaining: 1.13s\n",
      "240:\tlearn: 0.2953726\ttotal: 358ms\tremaining: 1.13s\n",
      "241:\tlearn: 0.2947652\ttotal: 359ms\tremaining: 1.13s\n",
      "242:\tlearn: 0.2940728\ttotal: 360ms\tremaining: 1.12s\n",
      "243:\tlearn: 0.2932435\ttotal: 362ms\tremaining: 1.12s\n",
      "244:\tlearn: 0.2924460\ttotal: 362ms\tremaining: 1.12s\n",
      "245:\tlearn: 0.2919825\ttotal: 363ms\tremaining: 1.11s\n",
      "246:\tlearn: 0.2915173\ttotal: 364ms\tremaining: 1.11s\n",
      "247:\tlearn: 0.2909224\ttotal: 365ms\tremaining: 1.11s\n",
      "248:\tlearn: 0.2905292\ttotal: 367ms\tremaining: 1.1s\n",
      "249:\tlearn: 0.2899059\ttotal: 368ms\tremaining: 1.1s\n",
      "250:\tlearn: 0.2893056\ttotal: 369ms\tremaining: 1.1s\n",
      "251:\tlearn: 0.2886597\ttotal: 370ms\tremaining: 1.1s\n",
      "252:\tlearn: 0.2879527\ttotal: 371ms\tremaining: 1.09s\n",
      "253:\tlearn: 0.2872447\ttotal: 372ms\tremaining: 1.09s\n",
      "254:\tlearn: 0.2867080\ttotal: 373ms\tremaining: 1.09s\n",
      "255:\tlearn: 0.2860443\ttotal: 374ms\tremaining: 1.09s\n",
      "256:\tlearn: 0.2853458\ttotal: 375ms\tremaining: 1.08s\n",
      "257:\tlearn: 0.2846458\ttotal: 376ms\tremaining: 1.08s\n",
      "258:\tlearn: 0.2841930\ttotal: 377ms\tremaining: 1.08s\n",
      "259:\tlearn: 0.2836258\ttotal: 378ms\tremaining: 1.07s\n",
      "260:\tlearn: 0.2830974\ttotal: 379ms\tremaining: 1.07s\n"
     ]
    },
    {
     "name": "stdout",
     "output_type": "stream",
     "text": [
      "261:\tlearn: 0.2825288\ttotal: 380ms\tremaining: 1.07s\n",
      "262:\tlearn: 0.2819432\ttotal: 381ms\tremaining: 1.07s\n",
      "263:\tlearn: 0.2813131\ttotal: 382ms\tremaining: 1.07s\n",
      "264:\tlearn: 0.2806125\ttotal: 384ms\tremaining: 1.06s\n",
      "265:\tlearn: 0.2800353\ttotal: 385ms\tremaining: 1.06s\n",
      "266:\tlearn: 0.2792874\ttotal: 386ms\tremaining: 1.06s\n",
      "267:\tlearn: 0.2787927\ttotal: 387ms\tremaining: 1.06s\n",
      "268:\tlearn: 0.2780463\ttotal: 388ms\tremaining: 1.05s\n",
      "269:\tlearn: 0.2773433\ttotal: 389ms\tremaining: 1.05s\n",
      "270:\tlearn: 0.2768860\ttotal: 390ms\tremaining: 1.05s\n",
      "271:\tlearn: 0.2765006\ttotal: 391ms\tremaining: 1.05s\n",
      "272:\tlearn: 0.2760610\ttotal: 392ms\tremaining: 1.04s\n",
      "273:\tlearn: 0.2757626\ttotal: 393ms\tremaining: 1.04s\n",
      "274:\tlearn: 0.2754302\ttotal: 394ms\tremaining: 1.04s\n",
      "275:\tlearn: 0.2748640\ttotal: 396ms\tremaining: 1.04s\n",
      "276:\tlearn: 0.2746047\ttotal: 396ms\tremaining: 1.03s\n",
      "277:\tlearn: 0.2739447\ttotal: 398ms\tremaining: 1.03s\n",
      "278:\tlearn: 0.2734597\ttotal: 400ms\tremaining: 1.03s\n",
      "279:\tlearn: 0.2728541\ttotal: 401ms\tremaining: 1.03s\n",
      "280:\tlearn: 0.2722408\ttotal: 402ms\tremaining: 1.03s\n",
      "281:\tlearn: 0.2716156\ttotal: 403ms\tremaining: 1.03s\n",
      "282:\tlearn: 0.2710919\ttotal: 405ms\tremaining: 1.02s\n",
      "283:\tlearn: 0.2707103\ttotal: 406ms\tremaining: 1.02s\n",
      "284:\tlearn: 0.2701189\ttotal: 408ms\tremaining: 1.02s\n",
      "285:\tlearn: 0.2694988\ttotal: 409ms\tremaining: 1.02s\n",
      "286:\tlearn: 0.2689808\ttotal: 411ms\tremaining: 1.02s\n",
      "287:\tlearn: 0.2684204\ttotal: 412ms\tremaining: 1.02s\n",
      "288:\tlearn: 0.2679204\ttotal: 413ms\tremaining: 1.01s\n",
      "289:\tlearn: 0.2675726\ttotal: 414ms\tremaining: 1.01s\n",
      "290:\tlearn: 0.2670900\ttotal: 416ms\tremaining: 1.01s\n",
      "291:\tlearn: 0.2663542\ttotal: 417ms\tremaining: 1.01s\n",
      "292:\tlearn: 0.2658796\ttotal: 418ms\tremaining: 1.01s\n",
      "293:\tlearn: 0.2653425\ttotal: 419ms\tremaining: 1s\n",
      "294:\tlearn: 0.2646682\ttotal: 420ms\tremaining: 1s\n",
      "295:\tlearn: 0.2641675\ttotal: 421ms\tremaining: 1s\n",
      "296:\tlearn: 0.2636938\ttotal: 422ms\tremaining: 998ms\n",
      "297:\tlearn: 0.2632871\ttotal: 423ms\tremaining: 996ms\n",
      "298:\tlearn: 0.2626576\ttotal: 424ms\tremaining: 993ms\n",
      "299:\tlearn: 0.2625128\ttotal: 424ms\tremaining: 990ms\n",
      "300:\tlearn: 0.2621232\ttotal: 425ms\tremaining: 987ms\n",
      "301:\tlearn: 0.2616902\ttotal: 426ms\tremaining: 985ms\n",
      "302:\tlearn: 0.2611575\ttotal: 427ms\tremaining: 983ms\n",
      "303:\tlearn: 0.2604399\ttotal: 428ms\tremaining: 980ms\n",
      "304:\tlearn: 0.2600187\ttotal: 429ms\tremaining: 978ms\n",
      "305:\tlearn: 0.2597833\ttotal: 430ms\tremaining: 975ms\n",
      "306:\tlearn: 0.2591543\ttotal: 431ms\tremaining: 973ms\n",
      "307:\tlearn: 0.2585014\ttotal: 432ms\tremaining: 970ms\n",
      "308:\tlearn: 0.2582021\ttotal: 433ms\tremaining: 968ms\n",
      "309:\tlearn: 0.2576934\ttotal: 434ms\tremaining: 966ms\n",
      "310:\tlearn: 0.2573945\ttotal: 435ms\tremaining: 963ms\n",
      "311:\tlearn: 0.2569027\ttotal: 436ms\tremaining: 961ms\n",
      "312:\tlearn: 0.2566703\ttotal: 437ms\tremaining: 958ms\n",
      "313:\tlearn: 0.2560701\ttotal: 438ms\tremaining: 956ms\n",
      "314:\tlearn: 0.2554071\ttotal: 439ms\tremaining: 954ms\n",
      "315:\tlearn: 0.2549984\ttotal: 439ms\tremaining: 951ms\n",
      "316:\tlearn: 0.2544576\ttotal: 441ms\tremaining: 949ms\n",
      "317:\tlearn: 0.2541086\ttotal: 442ms\tremaining: 947ms\n",
      "318:\tlearn: 0.2537884\ttotal: 443ms\tremaining: 945ms\n",
      "319:\tlearn: 0.2533959\ttotal: 444ms\tremaining: 943ms\n",
      "320:\tlearn: 0.2528727\ttotal: 445ms\tremaining: 940ms\n",
      "321:\tlearn: 0.2524858\ttotal: 446ms\tremaining: 938ms\n",
      "322:\tlearn: 0.2520715\ttotal: 447ms\tremaining: 936ms\n",
      "323:\tlearn: 0.2514055\ttotal: 448ms\tremaining: 934ms\n",
      "324:\tlearn: 0.2509579\ttotal: 449ms\tremaining: 933ms\n",
      "325:\tlearn: 0.2504068\ttotal: 450ms\tremaining: 930ms\n",
      "326:\tlearn: 0.2501737\ttotal: 451ms\tremaining: 928ms\n",
      "327:\tlearn: 0.2497623\ttotal: 452ms\tremaining: 926ms\n",
      "328:\tlearn: 0.2492445\ttotal: 453ms\tremaining: 924ms\n",
      "329:\tlearn: 0.2489948\ttotal: 454ms\tremaining: 922ms\n",
      "330:\tlearn: 0.2485878\ttotal: 455ms\tremaining: 920ms\n",
      "331:\tlearn: 0.2480932\ttotal: 456ms\tremaining: 918ms\n",
      "332:\tlearn: 0.2478183\ttotal: 457ms\tremaining: 916ms\n",
      "333:\tlearn: 0.2475150\ttotal: 458ms\tremaining: 914ms\n",
      "334:\tlearn: 0.2469752\ttotal: 459ms\tremaining: 912ms\n",
      "335:\tlearn: 0.2463911\ttotal: 461ms\tremaining: 910ms\n",
      "336:\tlearn: 0.2458407\ttotal: 461ms\tremaining: 908ms\n",
      "337:\tlearn: 0.2454070\ttotal: 462ms\tremaining: 906ms\n",
      "338:\tlearn: 0.2451115\ttotal: 464ms\tremaining: 904ms\n",
      "339:\tlearn: 0.2445737\ttotal: 465ms\tremaining: 902ms\n",
      "340:\tlearn: 0.2445276\ttotal: 465ms\tremaining: 899ms\n",
      "341:\tlearn: 0.2440330\ttotal: 466ms\tremaining: 897ms\n",
      "342:\tlearn: 0.2436989\ttotal: 467ms\tremaining: 895ms\n",
      "343:\tlearn: 0.2433128\ttotal: 469ms\tremaining: 893ms\n",
      "344:\tlearn: 0.2428303\ttotal: 470ms\tremaining: 892ms\n",
      "345:\tlearn: 0.2421255\ttotal: 471ms\tremaining: 890ms\n",
      "346:\tlearn: 0.2416603\ttotal: 472ms\tremaining: 888ms\n",
      "347:\tlearn: 0.2414143\ttotal: 473ms\tremaining: 886ms\n",
      "348:\tlearn: 0.2411108\ttotal: 474ms\tremaining: 884ms\n",
      "349:\tlearn: 0.2406538\ttotal: 475ms\tremaining: 882ms\n",
      "350:\tlearn: 0.2404155\ttotal: 476ms\tremaining: 880ms\n",
      "351:\tlearn: 0.2397076\ttotal: 477ms\tremaining: 878ms\n",
      "352:\tlearn: 0.2395077\ttotal: 478ms\tremaining: 876ms\n",
      "353:\tlearn: 0.2391044\ttotal: 479ms\tremaining: 873ms\n",
      "354:\tlearn: 0.2388488\ttotal: 480ms\tremaining: 871ms\n",
      "355:\tlearn: 0.2383034\ttotal: 481ms\tremaining: 869ms\n",
      "356:\tlearn: 0.2379672\ttotal: 482ms\tremaining: 868ms\n",
      "357:\tlearn: 0.2377575\ttotal: 484ms\tremaining: 869ms\n",
      "358:\tlearn: 0.2372036\ttotal: 491ms\tremaining: 876ms\n",
      "359:\tlearn: 0.2367398\ttotal: 492ms\tremaining: 875ms\n",
      "360:\tlearn: 0.2364241\ttotal: 496ms\tremaining: 877ms\n",
      "361:\tlearn: 0.2361184\ttotal: 497ms\tremaining: 876ms\n",
      "362:\tlearn: 0.2359735\ttotal: 498ms\tremaining: 874ms\n",
      "363:\tlearn: 0.2356299\ttotal: 501ms\tremaining: 875ms\n",
      "364:\tlearn: 0.2352520\ttotal: 502ms\tremaining: 873ms\n",
      "365:\tlearn: 0.2348505\ttotal: 503ms\tremaining: 871ms\n",
      "366:\tlearn: 0.2343784\ttotal: 504ms\tremaining: 868ms\n",
      "367:\tlearn: 0.2339084\ttotal: 505ms\tremaining: 867ms\n",
      "368:\tlearn: 0.2335440\ttotal: 505ms\tremaining: 864ms\n",
      "369:\tlearn: 0.2331855\ttotal: 509ms\tremaining: 866ms\n",
      "370:\tlearn: 0.2328300\ttotal: 510ms\tremaining: 865ms\n",
      "371:\tlearn: 0.2325790\ttotal: 511ms\tremaining: 863ms\n",
      "372:\tlearn: 0.2321144\ttotal: 512ms\tremaining: 861ms\n",
      "373:\tlearn: 0.2316463\ttotal: 514ms\tremaining: 860ms\n",
      "374:\tlearn: 0.2312880\ttotal: 515ms\tremaining: 858ms\n",
      "375:\tlearn: 0.2309978\ttotal: 516ms\tremaining: 856ms\n",
      "376:\tlearn: 0.2305797\ttotal: 517ms\tremaining: 854ms\n",
      "377:\tlearn: 0.2302671\ttotal: 518ms\tremaining: 852ms\n",
      "378:\tlearn: 0.2298799\ttotal: 518ms\tremaining: 850ms\n",
      "379:\tlearn: 0.2295009\ttotal: 519ms\tremaining: 847ms\n",
      "380:\tlearn: 0.2289493\ttotal: 520ms\tremaining: 845ms\n",
      "381:\tlearn: 0.2285010\ttotal: 521ms\tremaining: 843ms\n",
      "382:\tlearn: 0.2283052\ttotal: 522ms\tremaining: 841ms\n",
      "383:\tlearn: 0.2280532\ttotal: 524ms\tremaining: 840ms\n",
      "384:\tlearn: 0.2278749\ttotal: 525ms\tremaining: 838ms\n",
      "385:\tlearn: 0.2276692\ttotal: 526ms\tremaining: 836ms\n",
      "386:\tlearn: 0.2273141\ttotal: 527ms\tremaining: 834ms\n",
      "387:\tlearn: 0.2269729\ttotal: 529ms\tremaining: 834ms\n",
      "388:\tlearn: 0.2265096\ttotal: 530ms\tremaining: 833ms\n",
      "389:\tlearn: 0.2261179\ttotal: 532ms\tremaining: 831ms\n",
      "390:\tlearn: 0.2257620\ttotal: 533ms\tremaining: 830ms\n",
      "391:\tlearn: 0.2254125\ttotal: 535ms\tremaining: 831ms\n",
      "392:\tlearn: 0.2250504\ttotal: 536ms\tremaining: 829ms\n",
      "393:\tlearn: 0.2248149\ttotal: 537ms\tremaining: 827ms\n",
      "394:\tlearn: 0.2245912\ttotal: 538ms\tremaining: 825ms\n",
      "395:\tlearn: 0.2242488\ttotal: 540ms\tremaining: 824ms\n",
      "396:\tlearn: 0.2240126\ttotal: 541ms\tremaining: 822ms\n",
      "397:\tlearn: 0.2237290\ttotal: 543ms\tremaining: 821ms\n",
      "398:\tlearn: 0.2235486\ttotal: 544ms\tremaining: 819ms\n",
      "399:\tlearn: 0.2230899\ttotal: 545ms\tremaining: 817ms\n",
      "400:\tlearn: 0.2227817\ttotal: 546ms\tremaining: 816ms\n",
      "401:\tlearn: 0.2224752\ttotal: 547ms\tremaining: 814ms\n",
      "402:\tlearn: 0.2221171\ttotal: 548ms\tremaining: 813ms\n",
      "403:\tlearn: 0.2216990\ttotal: 550ms\tremaining: 811ms\n",
      "404:\tlearn: 0.2212887\ttotal: 551ms\tremaining: 809ms\n",
      "405:\tlearn: 0.2210836\ttotal: 552ms\tremaining: 807ms\n",
      "406:\tlearn: 0.2206963\ttotal: 553ms\tremaining: 806ms\n",
      "407:\tlearn: 0.2204430\ttotal: 554ms\tremaining: 804ms\n",
      "408:\tlearn: 0.2200194\ttotal: 556ms\tremaining: 803ms\n",
      "409:\tlearn: 0.2197708\ttotal: 557ms\tremaining: 801ms\n",
      "410:\tlearn: 0.2194428\ttotal: 558ms\tremaining: 800ms\n",
      "411:\tlearn: 0.2192668\ttotal: 559ms\tremaining: 798ms\n",
      "412:\tlearn: 0.2190240\ttotal: 560ms\tremaining: 796ms\n",
      "413:\tlearn: 0.2188813\ttotal: 561ms\tremaining: 794ms\n",
      "414:\tlearn: 0.2183656\ttotal: 562ms\tremaining: 792ms\n",
      "415:\tlearn: 0.2180103\ttotal: 563ms\tremaining: 790ms\n",
      "416:\tlearn: 0.2174519\ttotal: 564ms\tremaining: 789ms\n",
      "417:\tlearn: 0.2169278\ttotal: 565ms\tremaining: 787ms\n",
      "418:\tlearn: 0.2167950\ttotal: 567ms\tremaining: 787ms\n",
      "419:\tlearn: 0.2164727\ttotal: 568ms\tremaining: 785ms\n",
      "420:\tlearn: 0.2161532\ttotal: 570ms\tremaining: 784ms\n",
      "421:\tlearn: 0.2158076\ttotal: 571ms\tremaining: 782ms\n",
      "422:\tlearn: 0.2154589\ttotal: 572ms\tremaining: 780ms\n",
      "423:\tlearn: 0.2153139\ttotal: 573ms\tremaining: 779ms\n",
      "424:\tlearn: 0.2151828\ttotal: 574ms\tremaining: 777ms\n",
      "425:\tlearn: 0.2148322\ttotal: 575ms\tremaining: 775ms\n",
      "426:\tlearn: 0.2146235\ttotal: 577ms\tremaining: 774ms\n",
      "427:\tlearn: 0.2145950\ttotal: 585ms\tremaining: 781ms\n",
      "428:\tlearn: 0.2142286\ttotal: 593ms\tremaining: 790ms\n",
      "429:\tlearn: 0.2137649\ttotal: 595ms\tremaining: 789ms\n",
      "430:\tlearn: 0.2134738\ttotal: 597ms\tremaining: 788ms\n",
      "431:\tlearn: 0.2131132\ttotal: 597ms\tremaining: 786ms\n",
      "432:\tlearn: 0.2127643\ttotal: 598ms\tremaining: 784ms\n",
      "433:\tlearn: 0.2124698\ttotal: 600ms\tremaining: 782ms\n",
      "434:\tlearn: 0.2122251\ttotal: 601ms\tremaining: 780ms\n",
      "435:\tlearn: 0.2118288\ttotal: 602ms\tremaining: 779ms\n",
      "436:\tlearn: 0.2115600\ttotal: 603ms\tremaining: 777ms\n",
      "437:\tlearn: 0.2115058\ttotal: 604ms\tremaining: 775ms\n",
      "438:\tlearn: 0.2110905\ttotal: 605ms\tremaining: 774ms\n",
      "439:\tlearn: 0.2107237\ttotal: 607ms\tremaining: 772ms\n",
      "440:\tlearn: 0.2103350\ttotal: 608ms\tremaining: 771ms\n",
      "441:\tlearn: 0.2101210\ttotal: 609ms\tremaining: 769ms\n",
      "442:\tlearn: 0.2097248\ttotal: 610ms\tremaining: 767ms\n",
      "443:\tlearn: 0.2095565\ttotal: 611ms\tremaining: 765ms\n",
      "444:\tlearn: 0.2092524\ttotal: 612ms\tremaining: 764ms\n",
      "445:\tlearn: 0.2088577\ttotal: 613ms\tremaining: 762ms\n",
      "446:\tlearn: 0.2087177\ttotal: 614ms\tremaining: 760ms\n",
      "447:\tlearn: 0.2083429\ttotal: 616ms\tremaining: 758ms\n",
      "448:\tlearn: 0.2081122\ttotal: 617ms\tremaining: 758ms\n",
      "449:\tlearn: 0.2079164\ttotal: 618ms\tremaining: 756ms\n",
      "450:\tlearn: 0.2077417\ttotal: 619ms\tremaining: 754ms\n",
      "451:\tlearn: 0.2074225\ttotal: 621ms\tremaining: 752ms\n",
      "452:\tlearn: 0.2071804\ttotal: 622ms\tremaining: 751ms\n",
      "453:\tlearn: 0.2068888\ttotal: 623ms\tremaining: 749ms\n",
      "454:\tlearn: 0.2064882\ttotal: 624ms\tremaining: 747ms\n",
      "455:\tlearn: 0.2063003\ttotal: 625ms\tremaining: 745ms\n",
      "456:\tlearn: 0.2061602\ttotal: 626ms\tremaining: 743ms\n",
      "457:\tlearn: 0.2057411\ttotal: 627ms\tremaining: 742ms\n",
      "458:\tlearn: 0.2053569\ttotal: 628ms\tremaining: 740ms\n",
      "459:\tlearn: 0.2049943\ttotal: 629ms\tremaining: 739ms\n",
      "460:\tlearn: 0.2046044\ttotal: 630ms\tremaining: 737ms\n",
      "461:\tlearn: 0.2043495\ttotal: 631ms\tremaining: 735ms\n",
      "462:\tlearn: 0.2038800\ttotal: 632ms\tremaining: 733ms\n",
      "463:\tlearn: 0.2036153\ttotal: 633ms\tremaining: 732ms\n",
      "464:\tlearn: 0.2032469\ttotal: 635ms\tremaining: 730ms\n",
      "465:\tlearn: 0.2028504\ttotal: 636ms\tremaining: 728ms\n",
      "466:\tlearn: 0.2026126\ttotal: 637ms\tremaining: 727ms\n",
      "467:\tlearn: 0.2022789\ttotal: 638ms\tremaining: 725ms\n",
      "468:\tlearn: 0.2020440\ttotal: 639ms\tremaining: 723ms\n",
      "469:\tlearn: 0.2016875\ttotal: 640ms\tremaining: 722ms\n",
      "470:\tlearn: 0.2014080\ttotal: 641ms\tremaining: 720ms\n",
      "471:\tlearn: 0.2011514\ttotal: 642ms\tremaining: 718ms\n",
      "472:\tlearn: 0.2009425\ttotal: 643ms\tremaining: 716ms\n",
      "473:\tlearn: 0.2007617\ttotal: 644ms\tremaining: 715ms\n",
      "474:\tlearn: 0.2005781\ttotal: 645ms\tremaining: 713ms\n",
      "475:\tlearn: 0.2002206\ttotal: 646ms\tremaining: 711ms\n",
      "476:\tlearn: 0.1999232\ttotal: 647ms\tremaining: 709ms\n",
      "477:\tlearn: 0.1997176\ttotal: 648ms\tremaining: 708ms\n",
      "478:\tlearn: 0.1993435\ttotal: 649ms\tremaining: 706ms\n",
      "479:\tlearn: 0.1989678\ttotal: 650ms\tremaining: 704ms\n",
      "480:\tlearn: 0.1985527\ttotal: 651ms\tremaining: 702ms\n",
      "481:\tlearn: 0.1983658\ttotal: 652ms\tremaining: 700ms\n",
      "482:\tlearn: 0.1981410\ttotal: 652ms\tremaining: 698ms\n",
      "483:\tlearn: 0.1978022\ttotal: 654ms\tremaining: 697ms\n",
      "484:\tlearn: 0.1974663\ttotal: 655ms\tremaining: 695ms\n",
      "485:\tlearn: 0.1972715\ttotal: 656ms\tremaining: 694ms\n",
      "486:\tlearn: 0.1971756\ttotal: 658ms\tremaining: 693ms\n",
      "487:\tlearn: 0.1970269\ttotal: 659ms\tremaining: 691ms\n",
      "488:\tlearn: 0.1968926\ttotal: 661ms\tremaining: 690ms\n",
      "489:\tlearn: 0.1964629\ttotal: 662ms\tremaining: 689ms\n",
      "490:\tlearn: 0.1963121\ttotal: 663ms\tremaining: 687ms\n",
      "491:\tlearn: 0.1960253\ttotal: 664ms\tremaining: 685ms\n",
      "492:\tlearn: 0.1957312\ttotal: 665ms\tremaining: 684ms\n",
      "493:\tlearn: 0.1955982\ttotal: 666ms\tremaining: 682ms\n",
      "494:\tlearn: 0.1954241\ttotal: 667ms\tremaining: 680ms\n",
      "495:\tlearn: 0.1950687\ttotal: 668ms\tremaining: 678ms\n",
      "496:\tlearn: 0.1947756\ttotal: 669ms\tremaining: 677ms\n",
      "497:\tlearn: 0.1945808\ttotal: 671ms\tremaining: 676ms\n",
      "498:\tlearn: 0.1944052\ttotal: 672ms\tremaining: 674ms\n",
      "499:\tlearn: 0.1940540\ttotal: 673ms\tremaining: 673ms\n",
      "500:\tlearn: 0.1938070\ttotal: 674ms\tremaining: 671ms\n",
      "501:\tlearn: 0.1935002\ttotal: 675ms\tremaining: 669ms\n",
      "502:\tlearn: 0.1932299\ttotal: 676ms\tremaining: 668ms\n",
      "503:\tlearn: 0.1928678\ttotal: 677ms\tremaining: 666ms\n",
      "504:\tlearn: 0.1926295\ttotal: 678ms\tremaining: 664ms\n",
      "505:\tlearn: 0.1924302\ttotal: 679ms\tremaining: 663ms\n",
      "506:\tlearn: 0.1921051\ttotal: 680ms\tremaining: 661ms\n",
      "507:\tlearn: 0.1919423\ttotal: 680ms\tremaining: 659ms\n",
      "508:\tlearn: 0.1915465\ttotal: 681ms\tremaining: 657ms\n",
      "509:\tlearn: 0.1913122\ttotal: 683ms\tremaining: 656ms\n",
      "510:\tlearn: 0.1911327\ttotal: 683ms\tremaining: 654ms\n",
      "511:\tlearn: 0.1908090\ttotal: 685ms\tremaining: 652ms\n",
      "512:\tlearn: 0.1907410\ttotal: 685ms\tremaining: 651ms\n",
      "513:\tlearn: 0.1904852\ttotal: 686ms\tremaining: 649ms\n",
      "514:\tlearn: 0.1900700\ttotal: 687ms\tremaining: 647ms\n",
      "515:\tlearn: 0.1899113\ttotal: 688ms\tremaining: 646ms\n",
      "516:\tlearn: 0.1896993\ttotal: 689ms\tremaining: 644ms\n",
      "517:\tlearn: 0.1895251\ttotal: 690ms\tremaining: 642ms\n",
      "518:\tlearn: 0.1891594\ttotal: 691ms\tremaining: 641ms\n",
      "519:\tlearn: 0.1889160\ttotal: 692ms\tremaining: 639ms\n",
      "520:\tlearn: 0.1886876\ttotal: 693ms\tremaining: 637ms\n",
      "521:\tlearn: 0.1883086\ttotal: 694ms\tremaining: 636ms\n",
      "522:\tlearn: 0.1879372\ttotal: 695ms\tremaining: 634ms\n",
      "523:\tlearn: 0.1877249\ttotal: 696ms\tremaining: 632ms\n",
      "524:\tlearn: 0.1873883\ttotal: 697ms\tremaining: 630ms\n",
      "525:\tlearn: 0.1872379\ttotal: 698ms\tremaining: 629ms\n",
      "526:\tlearn: 0.1869702\ttotal: 699ms\tremaining: 627ms\n",
      "527:\tlearn: 0.1867470\ttotal: 700ms\tremaining: 626ms\n",
      "528:\tlearn: 0.1865101\ttotal: 701ms\tremaining: 624ms\n",
      "529:\tlearn: 0.1862188\ttotal: 702ms\tremaining: 622ms\n",
      "530:\tlearn: 0.1859320\ttotal: 702ms\tremaining: 620ms\n",
      "531:\tlearn: 0.1855756\ttotal: 704ms\tremaining: 619ms\n"
     ]
    },
    {
     "name": "stdout",
     "output_type": "stream",
     "text": [
      "532:\tlearn: 0.1854109\ttotal: 705ms\tremaining: 617ms\n",
      "533:\tlearn: 0.1849044\ttotal: 706ms\tremaining: 616ms\n",
      "534:\tlearn: 0.1847475\ttotal: 708ms\tremaining: 615ms\n",
      "535:\tlearn: 0.1845546\ttotal: 709ms\tremaining: 613ms\n",
      "536:\tlearn: 0.1842422\ttotal: 710ms\tremaining: 612ms\n",
      "537:\tlearn: 0.1841026\ttotal: 710ms\tremaining: 610ms\n",
      "538:\tlearn: 0.1838421\ttotal: 712ms\tremaining: 609ms\n",
      "539:\tlearn: 0.1833711\ttotal: 712ms\tremaining: 607ms\n",
      "540:\tlearn: 0.1830110\ttotal: 713ms\tremaining: 605ms\n",
      "541:\tlearn: 0.1828300\ttotal: 714ms\tremaining: 604ms\n",
      "542:\tlearn: 0.1825824\ttotal: 716ms\tremaining: 602ms\n",
      "543:\tlearn: 0.1824889\ttotal: 717ms\tremaining: 601ms\n",
      "544:\tlearn: 0.1821247\ttotal: 721ms\tremaining: 602ms\n",
      "545:\tlearn: 0.1818624\ttotal: 724ms\tremaining: 602ms\n",
      "546:\tlearn: 0.1815900\ttotal: 725ms\tremaining: 600ms\n",
      "547:\tlearn: 0.1813913\ttotal: 727ms\tremaining: 600ms\n",
      "548:\tlearn: 0.1811233\ttotal: 733ms\tremaining: 602ms\n",
      "549:\tlearn: 0.1807960\ttotal: 737ms\tremaining: 603ms\n",
      "550:\tlearn: 0.1804474\ttotal: 742ms\tremaining: 605ms\n",
      "551:\tlearn: 0.1800942\ttotal: 743ms\tremaining: 603ms\n",
      "552:\tlearn: 0.1799851\ttotal: 744ms\tremaining: 601ms\n",
      "553:\tlearn: 0.1797029\ttotal: 745ms\tremaining: 600ms\n",
      "554:\tlearn: 0.1795288\ttotal: 747ms\tremaining: 599ms\n",
      "555:\tlearn: 0.1791589\ttotal: 748ms\tremaining: 597ms\n",
      "556:\tlearn: 0.1790916\ttotal: 749ms\tremaining: 596ms\n",
      "557:\tlearn: 0.1787271\ttotal: 750ms\tremaining: 594ms\n",
      "558:\tlearn: 0.1784945\ttotal: 751ms\tremaining: 592ms\n",
      "559:\tlearn: 0.1782417\ttotal: 752ms\tremaining: 591ms\n",
      "560:\tlearn: 0.1781289\ttotal: 753ms\tremaining: 589ms\n",
      "561:\tlearn: 0.1779941\ttotal: 754ms\tremaining: 587ms\n",
      "562:\tlearn: 0.1777163\ttotal: 755ms\tremaining: 586ms\n",
      "563:\tlearn: 0.1774858\ttotal: 756ms\tremaining: 584ms\n",
      "564:\tlearn: 0.1772133\ttotal: 757ms\tremaining: 583ms\n",
      "565:\tlearn: 0.1770726\ttotal: 758ms\tremaining: 581ms\n",
      "566:\tlearn: 0.1768432\ttotal: 759ms\tremaining: 579ms\n",
      "567:\tlearn: 0.1765667\ttotal: 760ms\tremaining: 578ms\n",
      "568:\tlearn: 0.1763495\ttotal: 761ms\tremaining: 576ms\n",
      "569:\tlearn: 0.1760568\ttotal: 763ms\tremaining: 575ms\n",
      "570:\tlearn: 0.1757888\ttotal: 764ms\tremaining: 574ms\n",
      "571:\tlearn: 0.1754338\ttotal: 765ms\tremaining: 572ms\n",
      "572:\tlearn: 0.1751642\ttotal: 766ms\tremaining: 571ms\n",
      "573:\tlearn: 0.1749640\ttotal: 767ms\tremaining: 569ms\n",
      "574:\tlearn: 0.1747783\ttotal: 768ms\tremaining: 567ms\n",
      "575:\tlearn: 0.1745443\ttotal: 769ms\tremaining: 566ms\n",
      "576:\tlearn: 0.1742287\ttotal: 770ms\tremaining: 564ms\n",
      "577:\tlearn: 0.1738587\ttotal: 771ms\tremaining: 563ms\n",
      "578:\tlearn: 0.1736812\ttotal: 772ms\tremaining: 561ms\n",
      "579:\tlearn: 0.1734588\ttotal: 773ms\tremaining: 559ms\n",
      "580:\tlearn: 0.1730505\ttotal: 774ms\tremaining: 558ms\n",
      "581:\tlearn: 0.1727831\ttotal: 775ms\tremaining: 556ms\n",
      "582:\tlearn: 0.1725381\ttotal: 776ms\tremaining: 555ms\n",
      "583:\tlearn: 0.1723696\ttotal: 777ms\tremaining: 553ms\n",
      "584:\tlearn: 0.1722166\ttotal: 778ms\tremaining: 552ms\n",
      "585:\tlearn: 0.1720354\ttotal: 779ms\tremaining: 550ms\n",
      "586:\tlearn: 0.1717117\ttotal: 780ms\tremaining: 549ms\n",
      "587:\tlearn: 0.1715517\ttotal: 781ms\tremaining: 547ms\n",
      "588:\tlearn: 0.1714111\ttotal: 781ms\tremaining: 545ms\n",
      "589:\tlearn: 0.1711205\ttotal: 782ms\tremaining: 544ms\n",
      "590:\tlearn: 0.1708725\ttotal: 784ms\tremaining: 542ms\n",
      "591:\tlearn: 0.1706977\ttotal: 785ms\tremaining: 541ms\n",
      "592:\tlearn: 0.1704609\ttotal: 786ms\tremaining: 539ms\n",
      "593:\tlearn: 0.1701200\ttotal: 787ms\tremaining: 538ms\n",
      "594:\tlearn: 0.1700260\ttotal: 787ms\tremaining: 536ms\n",
      "595:\tlearn: 0.1698235\ttotal: 788ms\tremaining: 534ms\n",
      "596:\tlearn: 0.1696384\ttotal: 789ms\tremaining: 533ms\n",
      "597:\tlearn: 0.1695988\ttotal: 790ms\tremaining: 531ms\n",
      "598:\tlearn: 0.1693630\ttotal: 791ms\tremaining: 529ms\n",
      "599:\tlearn: 0.1692529\ttotal: 792ms\tremaining: 528ms\n",
      "600:\tlearn: 0.1691730\ttotal: 793ms\tremaining: 526ms\n",
      "601:\tlearn: 0.1689899\ttotal: 794ms\tremaining: 525ms\n",
      "602:\tlearn: 0.1686613\ttotal: 795ms\tremaining: 523ms\n",
      "603:\tlearn: 0.1684002\ttotal: 796ms\tremaining: 522ms\n",
      "604:\tlearn: 0.1682152\ttotal: 797ms\tremaining: 520ms\n",
      "605:\tlearn: 0.1680343\ttotal: 798ms\tremaining: 519ms\n",
      "606:\tlearn: 0.1677642\ttotal: 799ms\tremaining: 517ms\n",
      "607:\tlearn: 0.1676470\ttotal: 800ms\tremaining: 516ms\n",
      "608:\tlearn: 0.1675305\ttotal: 801ms\tremaining: 514ms\n",
      "609:\tlearn: 0.1671817\ttotal: 802ms\tremaining: 513ms\n",
      "610:\tlearn: 0.1671398\ttotal: 803ms\tremaining: 511ms\n",
      "611:\tlearn: 0.1670068\ttotal: 804ms\tremaining: 510ms\n",
      "612:\tlearn: 0.1668815\ttotal: 805ms\tremaining: 508ms\n",
      "613:\tlearn: 0.1666197\ttotal: 806ms\tremaining: 507ms\n",
      "614:\tlearn: 0.1663885\ttotal: 807ms\tremaining: 505ms\n",
      "615:\tlearn: 0.1661393\ttotal: 808ms\tremaining: 504ms\n",
      "616:\tlearn: 0.1659556\ttotal: 809ms\tremaining: 502ms\n",
      "617:\tlearn: 0.1658758\ttotal: 810ms\tremaining: 501ms\n",
      "618:\tlearn: 0.1657383\ttotal: 811ms\tremaining: 499ms\n",
      "619:\tlearn: 0.1655088\ttotal: 812ms\tremaining: 498ms\n",
      "620:\tlearn: 0.1653468\ttotal: 813ms\tremaining: 496ms\n",
      "621:\tlearn: 0.1650355\ttotal: 814ms\tremaining: 495ms\n",
      "622:\tlearn: 0.1648361\ttotal: 815ms\tremaining: 493ms\n",
      "623:\tlearn: 0.1646566\ttotal: 816ms\tremaining: 492ms\n",
      "624:\tlearn: 0.1643818\ttotal: 817ms\tremaining: 490ms\n",
      "625:\tlearn: 0.1640929\ttotal: 818ms\tremaining: 489ms\n",
      "626:\tlearn: 0.1638657\ttotal: 819ms\tremaining: 487ms\n",
      "627:\tlearn: 0.1636531\ttotal: 820ms\tremaining: 486ms\n",
      "628:\tlearn: 0.1634055\ttotal: 821ms\tremaining: 484ms\n",
      "629:\tlearn: 0.1631022\ttotal: 822ms\tremaining: 483ms\n",
      "630:\tlearn: 0.1628131\ttotal: 823ms\tremaining: 482ms\n",
      "631:\tlearn: 0.1626773\ttotal: 824ms\tremaining: 480ms\n",
      "632:\tlearn: 0.1622505\ttotal: 825ms\tremaining: 479ms\n",
      "633:\tlearn: 0.1619959\ttotal: 826ms\tremaining: 477ms\n",
      "634:\tlearn: 0.1617266\ttotal: 828ms\tremaining: 476ms\n",
      "635:\tlearn: 0.1615918\ttotal: 829ms\tremaining: 475ms\n",
      "636:\tlearn: 0.1612971\ttotal: 830ms\tremaining: 473ms\n",
      "637:\tlearn: 0.1611821\ttotal: 831ms\tremaining: 472ms\n",
      "638:\tlearn: 0.1610867\ttotal: 832ms\tremaining: 470ms\n",
      "639:\tlearn: 0.1609778\ttotal: 834ms\tremaining: 469ms\n",
      "640:\tlearn: 0.1607839\ttotal: 835ms\tremaining: 467ms\n",
      "641:\tlearn: 0.1605762\ttotal: 836ms\tremaining: 466ms\n",
      "642:\tlearn: 0.1602761\ttotal: 837ms\tremaining: 465ms\n",
      "643:\tlearn: 0.1600994\ttotal: 838ms\tremaining: 463ms\n",
      "644:\tlearn: 0.1598426\ttotal: 839ms\tremaining: 462ms\n",
      "645:\tlearn: 0.1596718\ttotal: 840ms\tremaining: 460ms\n",
      "646:\tlearn: 0.1595510\ttotal: 841ms\tremaining: 459ms\n",
      "647:\tlearn: 0.1594146\ttotal: 842ms\tremaining: 457ms\n",
      "648:\tlearn: 0.1592647\ttotal: 843ms\tremaining: 456ms\n",
      "649:\tlearn: 0.1589701\ttotal: 844ms\tremaining: 455ms\n",
      "650:\tlearn: 0.1587727\ttotal: 845ms\tremaining: 453ms\n",
      "651:\tlearn: 0.1586095\ttotal: 846ms\tremaining: 452ms\n",
      "652:\tlearn: 0.1583788\ttotal: 847ms\tremaining: 450ms\n",
      "653:\tlearn: 0.1581368\ttotal: 848ms\tremaining: 449ms\n",
      "654:\tlearn: 0.1580149\ttotal: 849ms\tremaining: 447ms\n",
      "655:\tlearn: 0.1578273\ttotal: 850ms\tremaining: 446ms\n",
      "656:\tlearn: 0.1576036\ttotal: 851ms\tremaining: 444ms\n",
      "657:\tlearn: 0.1572969\ttotal: 852ms\tremaining: 443ms\n",
      "658:\tlearn: 0.1571244\ttotal: 853ms\tremaining: 441ms\n",
      "659:\tlearn: 0.1568132\ttotal: 854ms\tremaining: 440ms\n",
      "660:\tlearn: 0.1566370\ttotal: 855ms\tremaining: 438ms\n",
      "661:\tlearn: 0.1565168\ttotal: 856ms\tremaining: 437ms\n",
      "662:\tlearn: 0.1563379\ttotal: 857ms\tremaining: 436ms\n",
      "663:\tlearn: 0.1561052\ttotal: 858ms\tremaining: 434ms\n",
      "664:\tlearn: 0.1558546\ttotal: 859ms\tremaining: 433ms\n",
      "665:\tlearn: 0.1556346\ttotal: 860ms\tremaining: 431ms\n",
      "666:\tlearn: 0.1554375\ttotal: 860ms\tremaining: 430ms\n",
      "667:\tlearn: 0.1552899\ttotal: 862ms\tremaining: 428ms\n",
      "668:\tlearn: 0.1551418\ttotal: 863ms\tremaining: 427ms\n",
      "669:\tlearn: 0.1550470\ttotal: 865ms\tremaining: 426ms\n",
      "670:\tlearn: 0.1547955\ttotal: 866ms\tremaining: 425ms\n",
      "671:\tlearn: 0.1546612\ttotal: 867ms\tremaining: 423ms\n",
      "672:\tlearn: 0.1544213\ttotal: 869ms\tremaining: 422ms\n",
      "673:\tlearn: 0.1543158\ttotal: 870ms\tremaining: 421ms\n",
      "674:\tlearn: 0.1541931\ttotal: 872ms\tremaining: 420ms\n",
      "675:\tlearn: 0.1540921\ttotal: 872ms\tremaining: 418ms\n",
      "676:\tlearn: 0.1538999\ttotal: 874ms\tremaining: 417ms\n",
      "677:\tlearn: 0.1536703\ttotal: 875ms\tremaining: 416ms\n",
      "678:\tlearn: 0.1535383\ttotal: 876ms\tremaining: 414ms\n",
      "679:\tlearn: 0.1533291\ttotal: 877ms\tremaining: 413ms\n",
      "680:\tlearn: 0.1531806\ttotal: 878ms\tremaining: 411ms\n",
      "681:\tlearn: 0.1530494\ttotal: 879ms\tremaining: 410ms\n",
      "682:\tlearn: 0.1528040\ttotal: 880ms\tremaining: 409ms\n",
      "683:\tlearn: 0.1526050\ttotal: 881ms\tremaining: 407ms\n",
      "684:\tlearn: 0.1523826\ttotal: 883ms\tremaining: 406ms\n",
      "685:\tlearn: 0.1520456\ttotal: 884ms\tremaining: 405ms\n",
      "686:\tlearn: 0.1516773\ttotal: 887ms\tremaining: 404ms\n",
      "687:\tlearn: 0.1515184\ttotal: 888ms\tremaining: 403ms\n",
      "688:\tlearn: 0.1512627\ttotal: 890ms\tremaining: 402ms\n",
      "689:\tlearn: 0.1510970\ttotal: 891ms\tremaining: 400ms\n",
      "690:\tlearn: 0.1509995\ttotal: 893ms\tremaining: 399ms\n",
      "691:\tlearn: 0.1507670\ttotal: 894ms\tremaining: 398ms\n",
      "692:\tlearn: 0.1506808\ttotal: 896ms\tremaining: 397ms\n",
      "693:\tlearn: 0.1504595\ttotal: 897ms\tremaining: 396ms\n",
      "694:\tlearn: 0.1502941\ttotal: 898ms\tremaining: 394ms\n",
      "695:\tlearn: 0.1501264\ttotal: 899ms\tremaining: 393ms\n",
      "696:\tlearn: 0.1498762\ttotal: 900ms\tremaining: 391ms\n",
      "697:\tlearn: 0.1496898\ttotal: 902ms\tremaining: 390ms\n",
      "698:\tlearn: 0.1494803\ttotal: 903ms\tremaining: 389ms\n",
      "699:\tlearn: 0.1494708\ttotal: 904ms\tremaining: 387ms\n",
      "700:\tlearn: 0.1493960\ttotal: 905ms\tremaining: 386ms\n",
      "701:\tlearn: 0.1492055\ttotal: 906ms\tremaining: 384ms\n",
      "702:\tlearn: 0.1490233\ttotal: 907ms\tremaining: 383ms\n",
      "703:\tlearn: 0.1487576\ttotal: 908ms\tremaining: 382ms\n",
      "704:\tlearn: 0.1486226\ttotal: 909ms\tremaining: 380ms\n",
      "705:\tlearn: 0.1484913\ttotal: 910ms\tremaining: 379ms\n",
      "706:\tlearn: 0.1483920\ttotal: 911ms\tremaining: 378ms\n",
      "707:\tlearn: 0.1481992\ttotal: 912ms\tremaining: 376ms\n",
      "708:\tlearn: 0.1479744\ttotal: 913ms\tremaining: 375ms\n",
      "709:\tlearn: 0.1477331\ttotal: 914ms\tremaining: 373ms\n",
      "710:\tlearn: 0.1474922\ttotal: 915ms\tremaining: 372ms\n",
      "711:\tlearn: 0.1472932\ttotal: 916ms\tremaining: 371ms\n",
      "712:\tlearn: 0.1470963\ttotal: 917ms\tremaining: 369ms\n",
      "713:\tlearn: 0.1470293\ttotal: 918ms\tremaining: 368ms\n",
      "714:\tlearn: 0.1468843\ttotal: 919ms\tremaining: 366ms\n",
      "715:\tlearn: 0.1467890\ttotal: 920ms\tremaining: 365ms\n",
      "716:\tlearn: 0.1465120\ttotal: 921ms\tremaining: 364ms\n",
      "717:\tlearn: 0.1462842\ttotal: 922ms\tremaining: 362ms\n",
      "718:\tlearn: 0.1460787\ttotal: 923ms\tremaining: 361ms\n",
      "719:\tlearn: 0.1457877\ttotal: 924ms\tremaining: 359ms\n",
      "720:\tlearn: 0.1455887\ttotal: 925ms\tremaining: 358ms\n",
      "721:\tlearn: 0.1454694\ttotal: 926ms\tremaining: 357ms\n",
      "722:\tlearn: 0.1453134\ttotal: 927ms\tremaining: 355ms\n",
      "723:\tlearn: 0.1451567\ttotal: 928ms\tremaining: 354ms\n",
      "724:\tlearn: 0.1450087\ttotal: 929ms\tremaining: 352ms\n",
      "725:\tlearn: 0.1448347\ttotal: 930ms\tremaining: 351ms\n",
      "726:\tlearn: 0.1446626\ttotal: 931ms\tremaining: 350ms\n",
      "727:\tlearn: 0.1445337\ttotal: 932ms\tremaining: 348ms\n",
      "728:\tlearn: 0.1443677\ttotal: 933ms\tremaining: 347ms\n",
      "729:\tlearn: 0.1441630\ttotal: 934ms\tremaining: 345ms\n",
      "730:\tlearn: 0.1440778\ttotal: 935ms\tremaining: 344ms\n",
      "731:\tlearn: 0.1439680\ttotal: 936ms\tremaining: 343ms\n",
      "732:\tlearn: 0.1437055\ttotal: 937ms\tremaining: 341ms\n",
      "733:\tlearn: 0.1434990\ttotal: 938ms\tremaining: 340ms\n",
      "734:\tlearn: 0.1433313\ttotal: 939ms\tremaining: 338ms\n",
      "735:\tlearn: 0.1430873\ttotal: 940ms\tremaining: 337ms\n",
      "736:\tlearn: 0.1428855\ttotal: 941ms\tremaining: 336ms\n",
      "737:\tlearn: 0.1427667\ttotal: 942ms\tremaining: 334ms\n",
      "738:\tlearn: 0.1426224\ttotal: 942ms\tremaining: 333ms\n",
      "739:\tlearn: 0.1424222\ttotal: 943ms\tremaining: 331ms\n",
      "740:\tlearn: 0.1422129\ttotal: 944ms\tremaining: 330ms\n",
      "741:\tlearn: 0.1419563\ttotal: 945ms\tremaining: 329ms\n",
      "742:\tlearn: 0.1417714\ttotal: 946ms\tremaining: 327ms\n",
      "743:\tlearn: 0.1416088\ttotal: 947ms\tremaining: 326ms\n",
      "744:\tlearn: 0.1414124\ttotal: 948ms\tremaining: 324ms\n",
      "745:\tlearn: 0.1413329\ttotal: 949ms\tremaining: 323ms\n",
      "746:\tlearn: 0.1411088\ttotal: 950ms\tremaining: 322ms\n",
      "747:\tlearn: 0.1409322\ttotal: 951ms\tremaining: 320ms\n",
      "748:\tlearn: 0.1408003\ttotal: 952ms\tremaining: 319ms\n",
      "749:\tlearn: 0.1405542\ttotal: 953ms\tremaining: 318ms\n",
      "750:\tlearn: 0.1403747\ttotal: 954ms\tremaining: 316ms\n",
      "751:\tlearn: 0.1402011\ttotal: 956ms\tremaining: 315ms\n",
      "752:\tlearn: 0.1399259\ttotal: 956ms\tremaining: 314ms\n",
      "753:\tlearn: 0.1397720\ttotal: 958ms\tremaining: 312ms\n",
      "754:\tlearn: 0.1395978\ttotal: 959ms\tremaining: 311ms\n",
      "755:\tlearn: 0.1393155\ttotal: 960ms\tremaining: 310ms\n",
      "756:\tlearn: 0.1392645\ttotal: 961ms\tremaining: 308ms\n",
      "757:\tlearn: 0.1391511\ttotal: 962ms\tremaining: 307ms\n",
      "758:\tlearn: 0.1390691\ttotal: 963ms\tremaining: 306ms\n",
      "759:\tlearn: 0.1389130\ttotal: 964ms\tremaining: 304ms\n",
      "760:\tlearn: 0.1387978\ttotal: 965ms\tremaining: 303ms\n",
      "761:\tlearn: 0.1387133\ttotal: 966ms\tremaining: 302ms\n",
      "762:\tlearn: 0.1385375\ttotal: 967ms\tremaining: 300ms\n",
      "763:\tlearn: 0.1382641\ttotal: 969ms\tremaining: 299ms\n",
      "764:\tlearn: 0.1381327\ttotal: 970ms\tremaining: 298ms\n",
      "765:\tlearn: 0.1379782\ttotal: 971ms\tremaining: 297ms\n",
      "766:\tlearn: 0.1378533\ttotal: 972ms\tremaining: 295ms\n",
      "767:\tlearn: 0.1377874\ttotal: 974ms\tremaining: 294ms\n",
      "768:\tlearn: 0.1376495\ttotal: 975ms\tremaining: 293ms\n",
      "769:\tlearn: 0.1375240\ttotal: 977ms\tremaining: 292ms\n",
      "770:\tlearn: 0.1373187\ttotal: 978ms\tremaining: 290ms\n",
      "771:\tlearn: 0.1371267\ttotal: 979ms\tremaining: 289ms\n",
      "772:\tlearn: 0.1369451\ttotal: 980ms\tremaining: 288ms\n",
      "773:\tlearn: 0.1366491\ttotal: 981ms\tremaining: 286ms\n",
      "774:\tlearn: 0.1364800\ttotal: 982ms\tremaining: 285ms\n",
      "775:\tlearn: 0.1363270\ttotal: 983ms\tremaining: 284ms\n",
      "776:\tlearn: 0.1362414\ttotal: 984ms\tremaining: 282ms\n",
      "777:\tlearn: 0.1362086\ttotal: 985ms\tremaining: 281ms\n",
      "778:\tlearn: 0.1359923\ttotal: 986ms\tremaining: 280ms\n",
      "779:\tlearn: 0.1357329\ttotal: 987ms\tremaining: 278ms\n",
      "780:\tlearn: 0.1356131\ttotal: 988ms\tremaining: 277ms\n",
      "781:\tlearn: 0.1355093\ttotal: 989ms\tremaining: 276ms\n",
      "782:\tlearn: 0.1354212\ttotal: 990ms\tremaining: 274ms\n",
      "783:\tlearn: 0.1352269\ttotal: 991ms\tremaining: 273ms\n",
      "784:\tlearn: 0.1350864\ttotal: 992ms\tremaining: 272ms\n",
      "785:\tlearn: 0.1349791\ttotal: 993ms\tremaining: 270ms\n",
      "786:\tlearn: 0.1349530\ttotal: 994ms\tremaining: 269ms\n",
      "787:\tlearn: 0.1346817\ttotal: 995ms\tremaining: 268ms\n",
      "788:\tlearn: 0.1345395\ttotal: 996ms\tremaining: 266ms\n",
      "789:\tlearn: 0.1344147\ttotal: 997ms\tremaining: 265ms\n",
      "790:\tlearn: 0.1342791\ttotal: 998ms\tremaining: 264ms\n",
      "791:\tlearn: 0.1341896\ttotal: 999ms\tremaining: 262ms\n",
      "792:\tlearn: 0.1340659\ttotal: 1000ms\tremaining: 261ms\n",
      "793:\tlearn: 0.1339301\ttotal: 1s\tremaining: 260ms\n",
      "794:\tlearn: 0.1337165\ttotal: 1s\tremaining: 258ms\n",
      "795:\tlearn: 0.1336322\ttotal: 1s\tremaining: 257ms\n",
      "796:\tlearn: 0.1334556\ttotal: 1s\tremaining: 256ms\n",
      "797:\tlearn: 0.1332550\ttotal: 1s\tremaining: 254ms\n",
      "798:\tlearn: 0.1330375\ttotal: 1s\tremaining: 253ms\n",
      "799:\tlearn: 0.1329078\ttotal: 1.01s\tremaining: 252ms\n",
      "800:\tlearn: 0.1327460\ttotal: 1.01s\tremaining: 250ms\n",
      "801:\tlearn: 0.1326160\ttotal: 1.01s\tremaining: 249ms\n",
      "802:\tlearn: 0.1324963\ttotal: 1.01s\tremaining: 248ms\n",
      "803:\tlearn: 0.1322169\ttotal: 1.01s\tremaining: 246ms\n",
      "804:\tlearn: 0.1320703\ttotal: 1.01s\tremaining: 245ms\n",
      "805:\tlearn: 0.1319126\ttotal: 1.01s\tremaining: 244ms\n",
      "806:\tlearn: 0.1316860\ttotal: 1.01s\tremaining: 242ms\n",
      "807:\tlearn: 0.1315914\ttotal: 1.01s\tremaining: 241ms\n",
      "808:\tlearn: 0.1314595\ttotal: 1.01s\tremaining: 240ms\n",
      "809:\tlearn: 0.1313921\ttotal: 1.02s\tremaining: 238ms\n",
      "810:\tlearn: 0.1312429\ttotal: 1.02s\tremaining: 237ms\n",
      "811:\tlearn: 0.1310889\ttotal: 1.02s\tremaining: 236ms\n",
      "812:\tlearn: 0.1308891\ttotal: 1.02s\tremaining: 234ms\n",
      "813:\tlearn: 0.1308240\ttotal: 1.02s\tremaining: 233ms\n",
      "814:\tlearn: 0.1306140\ttotal: 1.02s\tremaining: 232ms\n",
      "815:\tlearn: 0.1304747\ttotal: 1.02s\tremaining: 230ms\n",
      "816:\tlearn: 0.1303288\ttotal: 1.02s\tremaining: 229ms\n",
      "817:\tlearn: 0.1302676\ttotal: 1.02s\tremaining: 228ms\n",
      "818:\tlearn: 0.1301082\ttotal: 1.02s\tremaining: 226ms\n",
      "819:\tlearn: 0.1299501\ttotal: 1.02s\tremaining: 225ms\n",
      "820:\tlearn: 0.1297018\ttotal: 1.03s\tremaining: 224ms\n",
      "821:\tlearn: 0.1295799\ttotal: 1.03s\tremaining: 222ms\n",
      "822:\tlearn: 0.1294786\ttotal: 1.03s\tremaining: 221ms\n",
      "823:\tlearn: 0.1291687\ttotal: 1.03s\tremaining: 220ms\n"
     ]
    },
    {
     "name": "stdout",
     "output_type": "stream",
     "text": [
      "824:\tlearn: 0.1289933\ttotal: 1.03s\tremaining: 219ms\n",
      "825:\tlearn: 0.1288743\ttotal: 1.03s\tremaining: 217ms\n",
      "826:\tlearn: 0.1287744\ttotal: 1.03s\tremaining: 216ms\n",
      "827:\tlearn: 0.1287104\ttotal: 1.03s\tremaining: 215ms\n",
      "828:\tlearn: 0.1285398\ttotal: 1.04s\tremaining: 216ms\n",
      "829:\tlearn: 0.1283956\ttotal: 1.05s\tremaining: 214ms\n",
      "830:\tlearn: 0.1283173\ttotal: 1.05s\tremaining: 213ms\n",
      "831:\tlearn: 0.1281398\ttotal: 1.05s\tremaining: 212ms\n",
      "832:\tlearn: 0.1279183\ttotal: 1.05s\tremaining: 211ms\n",
      "833:\tlearn: 0.1277190\ttotal: 1.05s\tremaining: 210ms\n",
      "834:\tlearn: 0.1275274\ttotal: 1.06s\tremaining: 209ms\n",
      "835:\tlearn: 0.1274047\ttotal: 1.06s\tremaining: 208ms\n",
      "836:\tlearn: 0.1273229\ttotal: 1.06s\tremaining: 207ms\n",
      "837:\tlearn: 0.1270773\ttotal: 1.06s\tremaining: 206ms\n",
      "838:\tlearn: 0.1269880\ttotal: 1.06s\tremaining: 204ms\n",
      "839:\tlearn: 0.1268490\ttotal: 1.07s\tremaining: 203ms\n",
      "840:\tlearn: 0.1267795\ttotal: 1.07s\tremaining: 202ms\n",
      "841:\tlearn: 0.1266015\ttotal: 1.07s\tremaining: 201ms\n",
      "842:\tlearn: 0.1263748\ttotal: 1.07s\tremaining: 199ms\n",
      "843:\tlearn: 0.1262461\ttotal: 1.07s\tremaining: 198ms\n",
      "844:\tlearn: 0.1260461\ttotal: 1.07s\tremaining: 197ms\n",
      "845:\tlearn: 0.1258716\ttotal: 1.07s\tremaining: 195ms\n",
      "846:\tlearn: 0.1257180\ttotal: 1.07s\tremaining: 194ms\n",
      "847:\tlearn: 0.1254682\ttotal: 1.08s\tremaining: 193ms\n",
      "848:\tlearn: 0.1253213\ttotal: 1.08s\tremaining: 192ms\n",
      "849:\tlearn: 0.1251052\ttotal: 1.08s\tremaining: 190ms\n",
      "850:\tlearn: 0.1249508\ttotal: 1.08s\tremaining: 189ms\n",
      "851:\tlearn: 0.1247602\ttotal: 1.08s\tremaining: 188ms\n",
      "852:\tlearn: 0.1246495\ttotal: 1.08s\tremaining: 186ms\n",
      "853:\tlearn: 0.1245380\ttotal: 1.08s\tremaining: 185ms\n",
      "854:\tlearn: 0.1242942\ttotal: 1.08s\tremaining: 184ms\n",
      "855:\tlearn: 0.1242096\ttotal: 1.08s\tremaining: 183ms\n",
      "856:\tlearn: 0.1240640\ttotal: 1.09s\tremaining: 181ms\n",
      "857:\tlearn: 0.1238950\ttotal: 1.09s\tremaining: 180ms\n",
      "858:\tlearn: 0.1237673\ttotal: 1.09s\tremaining: 179ms\n",
      "859:\tlearn: 0.1236049\ttotal: 1.09s\tremaining: 178ms\n",
      "860:\tlearn: 0.1234278\ttotal: 1.09s\tremaining: 176ms\n",
      "861:\tlearn: 0.1231940\ttotal: 1.09s\tremaining: 175ms\n",
      "862:\tlearn: 0.1229599\ttotal: 1.09s\tremaining: 174ms\n",
      "863:\tlearn: 0.1227599\ttotal: 1.09s\tremaining: 172ms\n",
      "864:\tlearn: 0.1226383\ttotal: 1.1s\tremaining: 171ms\n",
      "865:\tlearn: 0.1223825\ttotal: 1.1s\tremaining: 170ms\n",
      "866:\tlearn: 0.1222308\ttotal: 1.1s\tremaining: 169ms\n",
      "867:\tlearn: 0.1220650\ttotal: 1.1s\tremaining: 168ms\n",
      "868:\tlearn: 0.1219437\ttotal: 1.1s\tremaining: 166ms\n",
      "869:\tlearn: 0.1217743\ttotal: 1.1s\tremaining: 165ms\n",
      "870:\tlearn: 0.1215581\ttotal: 1.1s\tremaining: 164ms\n",
      "871:\tlearn: 0.1214852\ttotal: 1.1s\tremaining: 162ms\n",
      "872:\tlearn: 0.1213211\ttotal: 1.11s\tremaining: 161ms\n",
      "873:\tlearn: 0.1211584\ttotal: 1.11s\tremaining: 160ms\n",
      "874:\tlearn: 0.1210047\ttotal: 1.11s\tremaining: 158ms\n",
      "875:\tlearn: 0.1209480\ttotal: 1.11s\tremaining: 157ms\n",
      "876:\tlearn: 0.1208898\ttotal: 1.11s\tremaining: 156ms\n",
      "877:\tlearn: 0.1207458\ttotal: 1.11s\tremaining: 155ms\n",
      "878:\tlearn: 0.1205595\ttotal: 1.11s\tremaining: 153ms\n",
      "879:\tlearn: 0.1204994\ttotal: 1.11s\tremaining: 152ms\n",
      "880:\tlearn: 0.1204301\ttotal: 1.11s\tremaining: 151ms\n",
      "881:\tlearn: 0.1203293\ttotal: 1.12s\tremaining: 149ms\n",
      "882:\tlearn: 0.1201804\ttotal: 1.12s\tremaining: 148ms\n",
      "883:\tlearn: 0.1200810\ttotal: 1.12s\tremaining: 147ms\n",
      "884:\tlearn: 0.1199251\ttotal: 1.12s\tremaining: 145ms\n",
      "885:\tlearn: 0.1197290\ttotal: 1.12s\tremaining: 144ms\n",
      "886:\tlearn: 0.1195540\ttotal: 1.12s\tremaining: 143ms\n",
      "887:\tlearn: 0.1193345\ttotal: 1.12s\tremaining: 142ms\n",
      "888:\tlearn: 0.1192222\ttotal: 1.12s\tremaining: 140ms\n",
      "889:\tlearn: 0.1190736\ttotal: 1.12s\tremaining: 139ms\n",
      "890:\tlearn: 0.1189057\ttotal: 1.13s\tremaining: 138ms\n",
      "891:\tlearn: 0.1187541\ttotal: 1.13s\tremaining: 136ms\n",
      "892:\tlearn: 0.1185442\ttotal: 1.13s\tremaining: 135ms\n",
      "893:\tlearn: 0.1183261\ttotal: 1.13s\tremaining: 134ms\n",
      "894:\tlearn: 0.1181665\ttotal: 1.13s\tremaining: 133ms\n",
      "895:\tlearn: 0.1179984\ttotal: 1.13s\tremaining: 131ms\n",
      "896:\tlearn: 0.1178642\ttotal: 1.13s\tremaining: 130ms\n",
      "897:\tlearn: 0.1176469\ttotal: 1.13s\tremaining: 129ms\n",
      "898:\tlearn: 0.1175570\ttotal: 1.13s\tremaining: 127ms\n",
      "899:\tlearn: 0.1173799\ttotal: 1.13s\tremaining: 126ms\n",
      "900:\tlearn: 0.1172541\ttotal: 1.14s\tremaining: 125ms\n",
      "901:\tlearn: 0.1171054\ttotal: 1.14s\tremaining: 124ms\n",
      "902:\tlearn: 0.1169362\ttotal: 1.14s\tremaining: 122ms\n",
      "903:\tlearn: 0.1169104\ttotal: 1.14s\tremaining: 121ms\n",
      "904:\tlearn: 0.1167620\ttotal: 1.14s\tremaining: 120ms\n",
      "905:\tlearn: 0.1166340\ttotal: 1.14s\tremaining: 118ms\n",
      "906:\tlearn: 0.1164922\ttotal: 1.14s\tremaining: 117ms\n",
      "907:\tlearn: 0.1163724\ttotal: 1.14s\tremaining: 116ms\n",
      "908:\tlearn: 0.1161237\ttotal: 1.14s\tremaining: 115ms\n",
      "909:\tlearn: 0.1159513\ttotal: 1.14s\tremaining: 113ms\n",
      "910:\tlearn: 0.1158308\ttotal: 1.15s\tremaining: 112ms\n",
      "911:\tlearn: 0.1157402\ttotal: 1.15s\tremaining: 111ms\n",
      "912:\tlearn: 0.1155383\ttotal: 1.15s\tremaining: 109ms\n",
      "913:\tlearn: 0.1153368\ttotal: 1.15s\tremaining: 108ms\n",
      "914:\tlearn: 0.1151231\ttotal: 1.15s\tremaining: 107ms\n",
      "915:\tlearn: 0.1149028\ttotal: 1.15s\tremaining: 106ms\n",
      "916:\tlearn: 0.1147922\ttotal: 1.15s\tremaining: 104ms\n",
      "917:\tlearn: 0.1147332\ttotal: 1.15s\tremaining: 103ms\n",
      "918:\tlearn: 0.1145390\ttotal: 1.15s\tremaining: 102ms\n",
      "919:\tlearn: 0.1144419\ttotal: 1.16s\tremaining: 100ms\n",
      "920:\tlearn: 0.1143226\ttotal: 1.16s\tremaining: 99.2ms\n",
      "921:\tlearn: 0.1141744\ttotal: 1.16s\tremaining: 98ms\n",
      "922:\tlearn: 0.1140943\ttotal: 1.16s\tremaining: 96.7ms\n",
      "923:\tlearn: 0.1139256\ttotal: 1.16s\tremaining: 95.4ms\n",
      "924:\tlearn: 0.1138057\ttotal: 1.17s\tremaining: 94.6ms\n",
      "925:\tlearn: 0.1136555\ttotal: 1.17s\tremaining: 93.4ms\n",
      "926:\tlearn: 0.1135080\ttotal: 1.17s\tremaining: 92.1ms\n",
      "927:\tlearn: 0.1133170\ttotal: 1.17s\tremaining: 90.9ms\n",
      "928:\tlearn: 0.1131790\ttotal: 1.17s\tremaining: 89.6ms\n",
      "929:\tlearn: 0.1130606\ttotal: 1.17s\tremaining: 88.3ms\n",
      "930:\tlearn: 0.1129714\ttotal: 1.17s\tremaining: 87ms\n",
      "931:\tlearn: 0.1127850\ttotal: 1.18s\tremaining: 85.7ms\n",
      "932:\tlearn: 0.1125986\ttotal: 1.18s\tremaining: 84.5ms\n",
      "933:\tlearn: 0.1124275\ttotal: 1.18s\tremaining: 83.2ms\n",
      "934:\tlearn: 0.1123912\ttotal: 1.18s\tremaining: 81.9ms\n",
      "935:\tlearn: 0.1121810\ttotal: 1.18s\tremaining: 80.6ms\n",
      "936:\tlearn: 0.1121126\ttotal: 1.18s\tremaining: 79.3ms\n",
      "937:\tlearn: 0.1120159\ttotal: 1.18s\tremaining: 78.1ms\n",
      "938:\tlearn: 0.1119259\ttotal: 1.18s\tremaining: 76.8ms\n",
      "939:\tlearn: 0.1117579\ttotal: 1.18s\tremaining: 75.5ms\n",
      "940:\tlearn: 0.1115587\ttotal: 1.18s\tremaining: 74.2ms\n",
      "941:\tlearn: 0.1114770\ttotal: 1.18s\tremaining: 72.9ms\n",
      "942:\tlearn: 0.1113020\ttotal: 1.19s\tremaining: 71.7ms\n",
      "943:\tlearn: 0.1111500\ttotal: 1.19s\tremaining: 70.4ms\n",
      "944:\tlearn: 0.1110252\ttotal: 1.19s\tremaining: 69.1ms\n",
      "945:\tlearn: 0.1109290\ttotal: 1.19s\tremaining: 67.8ms\n",
      "946:\tlearn: 0.1107359\ttotal: 1.19s\tremaining: 66.6ms\n",
      "947:\tlearn: 0.1105984\ttotal: 1.19s\tremaining: 65.3ms\n",
      "948:\tlearn: 0.1104845\ttotal: 1.19s\tremaining: 64.1ms\n",
      "949:\tlearn: 0.1104052\ttotal: 1.2s\tremaining: 62.9ms\n",
      "950:\tlearn: 0.1102559\ttotal: 1.2s\tremaining: 61.7ms\n",
      "951:\tlearn: 0.1100873\ttotal: 1.2s\tremaining: 60.4ms\n",
      "952:\tlearn: 0.1099286\ttotal: 1.2s\tremaining: 59.1ms\n",
      "953:\tlearn: 0.1098215\ttotal: 1.2s\tremaining: 57.9ms\n",
      "954:\tlearn: 0.1097239\ttotal: 1.2s\tremaining: 56.6ms\n",
      "955:\tlearn: 0.1096042\ttotal: 1.2s\tremaining: 55.4ms\n",
      "956:\tlearn: 0.1095729\ttotal: 1.2s\tremaining: 54.1ms\n",
      "957:\tlearn: 0.1094597\ttotal: 1.21s\tremaining: 52.8ms\n",
      "958:\tlearn: 0.1093292\ttotal: 1.21s\tremaining: 51.6ms\n",
      "959:\tlearn: 0.1092463\ttotal: 1.21s\tremaining: 50.3ms\n",
      "960:\tlearn: 0.1090862\ttotal: 1.21s\tremaining: 49.1ms\n",
      "961:\tlearn: 0.1089447\ttotal: 1.21s\tremaining: 47.8ms\n",
      "962:\tlearn: 0.1088204\ttotal: 1.21s\tremaining: 46.5ms\n",
      "963:\tlearn: 0.1087206\ttotal: 1.22s\tremaining: 45.4ms\n",
      "964:\tlearn: 0.1085813\ttotal: 1.22s\tremaining: 44.1ms\n",
      "965:\tlearn: 0.1083611\ttotal: 1.22s\tremaining: 42.9ms\n",
      "966:\tlearn: 0.1081917\ttotal: 1.22s\tremaining: 41.6ms\n",
      "967:\tlearn: 0.1081236\ttotal: 1.22s\tremaining: 40.4ms\n",
      "968:\tlearn: 0.1080439\ttotal: 1.22s\tremaining: 39.1ms\n",
      "969:\tlearn: 0.1079747\ttotal: 1.22s\tremaining: 37.9ms\n",
      "970:\tlearn: 0.1078484\ttotal: 1.23s\tremaining: 36.6ms\n",
      "971:\tlearn: 0.1077310\ttotal: 1.23s\tremaining: 35.4ms\n",
      "972:\tlearn: 0.1075846\ttotal: 1.23s\tremaining: 34.1ms\n",
      "973:\tlearn: 0.1073711\ttotal: 1.23s\tremaining: 32.8ms\n",
      "974:\tlearn: 0.1071966\ttotal: 1.23s\tremaining: 31.5ms\n",
      "975:\tlearn: 0.1070002\ttotal: 1.23s\tremaining: 30.3ms\n",
      "976:\tlearn: 0.1067958\ttotal: 1.23s\tremaining: 29ms\n",
      "977:\tlearn: 0.1067609\ttotal: 1.23s\tremaining: 27.8ms\n",
      "978:\tlearn: 0.1065958\ttotal: 1.24s\tremaining: 26.5ms\n",
      "979:\tlearn: 0.1065210\ttotal: 1.24s\tremaining: 25.2ms\n",
      "980:\tlearn: 0.1063216\ttotal: 1.24s\tremaining: 24ms\n",
      "981:\tlearn: 0.1061674\ttotal: 1.24s\tremaining: 22.7ms\n",
      "982:\tlearn: 0.1061302\ttotal: 1.24s\tremaining: 21.5ms\n",
      "983:\tlearn: 0.1059789\ttotal: 1.24s\tremaining: 20.2ms\n",
      "984:\tlearn: 0.1058928\ttotal: 1.24s\tremaining: 18.9ms\n",
      "985:\tlearn: 0.1057357\ttotal: 1.24s\tremaining: 17.7ms\n",
      "986:\tlearn: 0.1055889\ttotal: 1.25s\tremaining: 16.4ms\n",
      "987:\tlearn: 0.1054212\ttotal: 1.25s\tremaining: 15.1ms\n",
      "988:\tlearn: 0.1051880\ttotal: 1.25s\tremaining: 13.9ms\n",
      "989:\tlearn: 0.1050839\ttotal: 1.25s\tremaining: 12.6ms\n",
      "990:\tlearn: 0.1049724\ttotal: 1.25s\tremaining: 11.4ms\n",
      "991:\tlearn: 0.1049319\ttotal: 1.25s\tremaining: 10.1ms\n",
      "992:\tlearn: 0.1047727\ttotal: 1.25s\tremaining: 8.83ms\n",
      "993:\tlearn: 0.1046847\ttotal: 1.25s\tremaining: 7.57ms\n",
      "994:\tlearn: 0.1045725\ttotal: 1.25s\tremaining: 6.3ms\n",
      "995:\tlearn: 0.1045055\ttotal: 1.25s\tremaining: 5.04ms\n",
      "996:\tlearn: 0.1043058\ttotal: 1.26s\tremaining: 3.78ms\n",
      "997:\tlearn: 0.1041941\ttotal: 1.26s\tremaining: 2.52ms\n",
      "998:\tlearn: 0.1040775\ttotal: 1.26s\tremaining: 1.26ms\n",
      "999:\tlearn: 0.1040427\ttotal: 1.26s\tremaining: 0us\n"
     ]
    },
    {
     "data": {
      "text/plain": [
       "{'Logistic Regression': 0.8852459016393442,\n",
       " 'KNN': 0.6885245901639344,\n",
       " 'Random Forest': 0.8360655737704918,\n",
       " 'XGBoost Classifier': 0.819672131147541,\n",
       " 'CatBoost Classifier': 0.8360655737704918}"
      ]
     },
     "execution_count": 33,
     "metadata": {},
     "output_type": "execute_result"
    }
   ],
   "source": [
    "# Fitting and evaluating each of the models\n",
    "# These are the baseline scores\n",
    "model_scores = fit_and_score(models, X_train, X_test, y_train, y_test)\n",
    "model_scores"
   ]
  },
  {
   "cell_type": "markdown",
   "id": "static-rapid",
   "metadata": {},
   "source": [
    "### The vanilla Logistic Regression model performs the best."
   ]
  },
  {
   "cell_type": "markdown",
   "id": "shared-charleston",
   "metadata": {},
   "source": [
    "### Model Comparison Visualization"
   ]
  },
  {
   "cell_type": "code",
   "execution_count": 34,
   "id": "dimensional-vault",
   "metadata": {},
   "outputs": [
    {
     "data": {
      "text/html": [
       "<div>\n",
       "<style scoped>\n",
       "    .dataframe tbody tr th:only-of-type {\n",
       "        vertical-align: middle;\n",
       "    }\n",
       "\n",
       "    .dataframe tbody tr th {\n",
       "        vertical-align: top;\n",
       "    }\n",
       "\n",
       "    .dataframe thead th {\n",
       "        text-align: right;\n",
       "    }\n",
       "</style>\n",
       "<table border=\"1\" class=\"dataframe\">\n",
       "  <thead>\n",
       "    <tr style=\"text-align: right;\">\n",
       "      <th></th>\n",
       "      <th>Logistic Regression</th>\n",
       "      <th>KNN</th>\n",
       "      <th>Random Forest</th>\n",
       "      <th>XGBoost Classifier</th>\n",
       "      <th>CatBoost Classifier</th>\n",
       "    </tr>\n",
       "  </thead>\n",
       "  <tbody>\n",
       "    <tr>\n",
       "      <th>Model Accuracy</th>\n",
       "      <td>0.885246</td>\n",
       "      <td>0.688525</td>\n",
       "      <td>0.836066</td>\n",
       "      <td>0.819672</td>\n",
       "      <td>0.836066</td>\n",
       "    </tr>\n",
       "  </tbody>\n",
       "</table>\n",
       "</div>"
      ],
      "text/plain": [
       "                Logistic Regression  ...  CatBoost Classifier\n",
       "Model Accuracy             0.885246  ...             0.836066\n",
       "\n",
       "[1 rows x 5 columns]"
      ]
     },
     "execution_count": 34,
     "metadata": {},
     "output_type": "execute_result"
    }
   ],
   "source": [
    "# Dataframe way\n",
    "model_comparison = pd.DataFrame(model_scores, index = [\"Model Accuracy\"])\n",
    "model_comparison"
   ]
  },
  {
   "cell_type": "code",
   "execution_count": 35,
   "id": "still-breakdown",
   "metadata": {},
   "outputs": [
    {
     "data": {
      "image/png": "[encoded data removed]",
      "text/plain": [
       "<Figure size 432x288 with 1 Axes>"
      ]
     },
     "metadata": {
      "needs_background": "light"
     },
     "output_type": "display_data"
    }
   ],
   "source": [
    "# Bar plot\n",
    "model_comparison.T.plot.bar();"
   ]
  },
  {
   "cell_type": "markdown",
   "id": "decent-walter",
   "metadata": {},
   "source": [
    "### `Since none of the models achieved 95% accuracy , I proceeded to tune the models' hyperparameters.`"
   ]
  },
  {
   "cell_type": "markdown",
   "id": "featured-judge",
   "metadata": {},
   "source": [
    "## 5.1 Tuning the ML Models\n",
    "### Improving the baseline models -> Hyperparameter tuning\n"
   ]
  },
  {
   "cell_type": "markdown",
   "id": "senior-brother",
   "metadata": {},
   "source": [
    "### 5.1.1 HyperParameter Tuning\n",
    "### Tuning the KNN Model\n",
    "How to tune a KNN model :\n",
    "1. n_neighbours -> default = 5\n",
    "2. Normalizing the data between 0 and 1"
   ]
  },
  {
   "cell_type": "code",
   "execution_count": 36,
   "id": "christian-guest",
   "metadata": {},
   "outputs": [],
   "source": [
    "# Let's tune the KNN\n",
    "\n",
    "# Dictionaries that will hold the score information\n",
    "train_scores = {}\n",
    "test_scores = {}\n",
    "\n",
    "#Create a list of different values of neighbours\n",
    "neighbors = range(1,12)\n",
    "\n",
    "#Setup the KNN instance\n",
    "knn = KNeighborsClassifier()\n",
    "\n",
    "#Loop through different n_neighbours\n",
    "for i in neighbors:\n",
    "    # Change knn neighbour params\n",
    "    knn.set_params(n_neighbors=i)\n",
    "    \n",
    "    #Fit the algorithm\n",
    "    knn.fit(X_train, y_train)\n",
    "    \n",
    "    #Update the training scores dict\n",
    "    train_scores[i] = knn.score(X_train, y_train)\n",
    "    # Update the test scores dict\n",
    "    test_scores[i] = knn.score(X_test, y_test)"
   ]
  },
  {
   "cell_type": "code",
   "execution_count": 37,
   "id": "classical-intermediate",
   "metadata": {},
   "outputs": [
    {
     "data": {
      "text/plain": [
       "{1: 1.0,\n",
       " 2: 0.8099173553719008,\n",
       " 3: 0.7727272727272727,\n",
       " 4: 0.743801652892562,\n",
       " 5: 0.7603305785123967,\n",
       " 6: 0.7520661157024794,\n",
       " 7: 0.743801652892562,\n",
       " 8: 0.7231404958677686,\n",
       " 9: 0.71900826446281,\n",
       " 10: 0.6942148760330579,\n",
       " 11: 0.7272727272727273}"
      ]
     },
     "execution_count": 37,
     "metadata": {},
     "output_type": "execute_result"
    }
   ],
   "source": [
    "# Visualize training scores for number of neighbours\n",
    "train_scores"
   ]
  },
  {
   "cell_type": "code",
   "execution_count": 38,
   "id": "sustainable-affairs",
   "metadata": {},
   "outputs": [
    {
     "data": {
      "text/plain": [
       "{1: 0.6229508196721312,\n",
       " 2: 0.639344262295082,\n",
       " 3: 0.6557377049180327,\n",
       " 4: 0.6721311475409836,\n",
       " 5: 0.6885245901639344,\n",
       " 6: 0.7213114754098361,\n",
       " 7: 0.7049180327868853,\n",
       " 8: 0.6885245901639344,\n",
       " 9: 0.6885245901639344,\n",
       " 10: 0.7049180327868853,\n",
       " 11: 0.7540983606557377}"
      ]
     },
     "execution_count": 38,
     "metadata": {},
     "output_type": "execute_result"
    }
   ],
   "source": [
    "# Visualize testing scores for number of neighbours\n",
    "test_scores"
   ]
  },
  {
   "cell_type": "code",
   "execution_count": 39,
   "id": "satellite-secretariat",
   "metadata": {},
   "outputs": [],
   "source": [
    "# Plotting the neighbour variable train and test scores\n",
    "train_score_summary = pd.DataFrame(train_scores, index = [\"Training Accuracy\"])\n",
    "test_score_summary = pd.DataFrame(test_scores, index = [\"Testing Accuracy\"])"
   ]
  },
  {
   "cell_type": "code",
   "execution_count": 40,
   "id": "convinced-location",
   "metadata": {},
   "outputs": [
    {
     "data": {
      "text/plain": [
       "Text(0, 0.5, 'Model Score')"
      ]
     },
     "execution_count": 40,
     "metadata": {},
     "output_type": "execute_result"
    },
    {
     "data": {
      "image/png": "[encoded data removed]",
      "text/plain": [
       "<Figure size 432x288 with 1 Axes>"
      ]
     },
     "metadata": {
      "needs_background": "light"
     },
     "output_type": "display_data"
    }
   ],
   "source": [
    "train_score_summary.T.plot.bar();\n",
    "plt.xlabel(\"Number of neighbours\")\n",
    "plt.ylabel(\"Model Score\")"
   ]
  },
  {
   "cell_type": "code",
   "execution_count": 41,
   "id": "tamil-jimmy",
   "metadata": {},
   "outputs": [
    {
     "data": {
      "text/plain": [
       "Text(0, 0.5, 'Model Score')"
      ]
     },
     "execution_count": 41,
     "metadata": {},
     "output_type": "execute_result"
    },
    {
     "data": {
      "image/png": "[encoded data removed]",
      "text/plain": [
       "<Figure size 432x288 with 1 Axes>"
      ]
     },
     "metadata": {
      "needs_background": "light"
     },
     "output_type": "display_data"
    }
   ],
   "source": [
    "test_score_summary.T.plot.bar();\n",
    "plt.xlabel(\"Number of neighbours\")\n",
    "plt.ylabel(\"Model Score\")"
   ]
  },
  {
   "cell_type": "code",
   "execution_count": 42,
   "id": "consolidated-technician",
   "metadata": {},
   "outputs": [
    {
     "name": "stdout",
     "output_type": "stream",
     "text": [
      "Max KNN test score: 75.41%\n"
     ]
    },
    {
     "data": {
      "image/png": "[encoded data removed]",
      "text/plain": [
       "<Figure size 432x288 with 1 Axes>"
      ]
     },
     "metadata": {
      "needs_background": "light"
     },
     "output_type": "display_data"
    }
   ],
   "source": [
    "# Line plot\n",
    "plt.plot(neighbors, train_scores.values(), label=\"Train score\")\n",
    "plt.plot(neighbors, test_scores.values(), label=\"Test score\")\n",
    "plt.xticks(np.arange(1,12,1))\n",
    "plt.xlabel(\"Number of neighbours\")\n",
    "plt.ylabel(\"Model Score\")\n",
    "plt.legend();\n",
    "print(f\"Max KNN test score: {max(test_scores.values())*100:.2f}%\")"
   ]
  },
  {
   "cell_type": "markdown",
   "id": "robust-catalog",
   "metadata": {},
   "source": [
    "**KNN Model's accuracy is still quite low.**  \n",
    "**I simply eliminated the KNeighbours Classifier model from the analysis moving forward.**"
   ]
  },
  {
   "cell_type": "markdown",
   "id": "detailed-bowling",
   "metadata": {},
   "source": [
    "### Tuning the LogisticRegression & RandomForestClassifier using RandomizedSearchCV"
   ]
  },
  {
   "cell_type": "code",
   "execution_count": 43,
   "id": "detailed-words",
   "metadata": {},
   "outputs": [],
   "source": [
    "# Create a hyperparam grid for LogisticRegression\n",
    "log_reg_grid = {\"C\": np.logspace(-4, 4, 20),\n",
    "               \"solver\": [\"liblinear\"]}\n",
    "\n",
    "# Create a hyperparam grid for RandomForestClassifier\n",
    "rfc_grid = {\"n_estimators\": np.arange(10,1000,50),\n",
    "           \"max_depth\": [None, 3, 5, 10],\n",
    "           \"min_samples_split\": np.arange(2, 20, 2),\n",
    "           \"min_samples_leaf\": np.arange(1, 20, 2)}"
   ]
  },
  {
   "cell_type": "code",
   "execution_count": 44,
   "id": "artificial-denmark",
   "metadata": {},
   "outputs": [
    {
     "name": "stdout",
     "output_type": "stream",
     "text": [
      "Fitting 5 folds for each of 20 candidates, totalling 100 fits\n"
     ]
    },
    {
     "data": {
      "text/plain": [
       "RandomizedSearchCV(cv=5, estimator=LogisticRegression(), n_iter=20,\n",
       "                   param_distributions={'C': array([1.00000000e-04, 2.63665090e-04, 6.95192796e-04, 1.83298071e-03,\n",
       "       4.83293024e-03, 1.27427499e-02, 3.35981829e-02, 8.85866790e-02,\n",
       "       2.33572147e-01, 6.15848211e-01, 1.62377674e+00, 4.28133240e+00,\n",
       "       1.12883789e+01, 2.97635144e+01, 7.84759970e+01, 2.06913808e+02,\n",
       "       5.45559478e+02, 1.43844989e+03, 3.79269019e+03, 1.00000000e+04]),\n",
       "                                        'solver': ['liblinear']},\n",
       "                   verbose=True)"
      ]
     },
     "execution_count": 44,
     "metadata": {},
     "output_type": "execute_result"
    }
   ],
   "source": [
    "# Tune both models using RandomizedSearchCV\n",
    "np.random.seed(42)\n",
    "\n",
    "# LogisticRegression RSCV setup\n",
    "rs_logreg = RandomizedSearchCV(LogisticRegression(),\n",
    "                              param_distributions = log_reg_grid,\n",
    "                              cv=5,\n",
    "                              n_iter = 20,\n",
    "                              verbose = True)\n",
    "# Fit LogReg model\n",
    "rs_logreg.fit(X_train, y_train)"
   ]
  },
  {
   "cell_type": "code",
   "execution_count": 45,
   "id": "contemporary-johns",
   "metadata": {},
   "outputs": [
    {
     "data": {
      "text/plain": [
       "{'solver': 'liblinear', 'C': 0.23357214690901212}"
      ]
     },
     "execution_count": 45,
     "metadata": {},
     "output_type": "execute_result"
    }
   ],
   "source": [
    "# Check best LogReg hyperparams\n",
    "rs_logreg.best_params_"
   ]
  },
  {
   "cell_type": "code",
   "execution_count": 46,
   "id": "painted-reporter",
   "metadata": {},
   "outputs": [
    {
     "data": {
      "text/plain": [
       "0.8852459016393442"
      ]
     },
     "execution_count": 46,
     "metadata": {},
     "output_type": "execute_result"
    }
   ],
   "source": [
    "# Check the RSCV LogReg's testing accuracy\n",
    "rs_logreg.score(X_test, y_test)"
   ]
  },
  {
   "cell_type": "code",
   "execution_count": 47,
   "id": "assigned-football",
   "metadata": {},
   "outputs": [
    {
     "name": "stdout",
     "output_type": "stream",
     "text": [
      "Fitting 5 folds for each of 20 candidates, totalling 100 fits\n"
     ]
    },
    {
     "data": {
      "text/plain": [
       "RandomizedSearchCV(cv=5, estimator=RandomForestClassifier(), n_iter=20,\n",
       "                   param_distributions={'max_depth': [None, 3, 5, 10],\n",
       "                                        'min_samples_leaf': array([ 1,  3,  5,  7,  9, 11, 13, 15, 17, 19]),\n",
       "                                        'min_samples_split': array([ 2,  4,  6,  8, 10, 12, 14, 16, 18]),\n",
       "                                        'n_estimators': array([ 10,  60, 110, 160, 210, 260, 310, 360, 410, 460, 510, 560, 610,\n",
       "       660, 710, 760, 810, 860, 910, 960])},\n",
       "                   verbose=True)"
      ]
     },
     "execution_count": 47,
     "metadata": {},
     "output_type": "execute_result"
    }
   ],
   "source": [
    "# Tune RFC model\n",
    "np.random.seed(42)\n",
    "\n",
    "# Setup RSCV RFC model\n",
    "rs_rfc = RandomizedSearchCV(RandomForestClassifier(),\n",
    "                           param_distributions = rfc_grid,\n",
    "                           cv=5,\n",
    "                           n_iter = 20,\n",
    "                           verbose = True)\n",
    "\n",
    "# Fit RSCV RFC model\n",
    "rs_rfc.fit(X_train, y_train)"
   ]
  },
  {
   "cell_type": "code",
   "execution_count": 48,
   "id": "threaded-smooth",
   "metadata": {},
   "outputs": [
    {
     "data": {
      "text/plain": [
       "{'n_estimators': 210,\n",
       " 'min_samples_split': 4,\n",
       " 'min_samples_leaf': 19,\n",
       " 'max_depth': 3}"
      ]
     },
     "execution_count": 48,
     "metadata": {},
     "output_type": "execute_result"
    }
   ],
   "source": [
    "# Find best RFC hyperparams\n",
    "rs_rfc.best_params_"
   ]
  },
  {
   "cell_type": "code",
   "execution_count": 49,
   "id": "worth-vermont",
   "metadata": {},
   "outputs": [
    {
     "data": {
      "text/plain": [
       "0.8688524590163934"
      ]
     },
     "execution_count": 49,
     "metadata": {},
     "output_type": "execute_result"
    }
   ],
   "source": [
    "# Check the RSCV RFC's testing accuracy\n",
    "rs_rfc.score(X_test, y_test)"
   ]
  },
  {
   "cell_type": "markdown",
   "id": "pleasant-wound",
   "metadata": {},
   "source": [
    "### The baseline LogisticRegression Model is still the most accurate model at this point."
   ]
  },
  {
   "cell_type": "markdown",
   "id": "familiar-combination",
   "metadata": {},
   "source": [
    "### I decided to proceed with the LogReg Model only, using GridSearchCV to further improve this model's accuracy."
   ]
  },
  {
   "cell_type": "code",
   "execution_count": 50,
   "id": "coastal-familiar",
   "metadata": {},
   "outputs": [
    {
     "name": "stdout",
     "output_type": "stream",
     "text": [
      "Fitting 5 folds for each of 30 candidates, totalling 150 fits\n"
     ]
    },
    {
     "data": {
      "text/plain": [
       "GridSearchCV(cv=5, estimator=LogisticRegression(),\n",
       "             param_grid={'C': array([1.00000000e-04, 1.88739182e-04, 3.56224789e-04, 6.72335754e-04,\n",
       "       1.26896100e-03, 2.39502662e-03, 4.52035366e-03, 8.53167852e-03,\n",
       "       1.61026203e-02, 3.03919538e-02, 5.73615251e-02, 1.08263673e-01,\n",
       "       2.04335972e-01, 3.85662042e-01, 7.27895384e-01, 1.37382380e+00,\n",
       "       2.59294380e+00, 4.89390092e+00, 9.23670857e+00, 1.74332882e+01,\n",
       "       3.29034456e+01, 6.21016942e+01, 1.17210230e+02, 2.21221629e+02,\n",
       "       4.17531894e+02, 7.88046282e+02, 1.48735211e+03, 2.80721620e+03,\n",
       "       5.29831691e+03, 1.00000000e+04]),\n",
       "                         'solver': ['liblinear']},\n",
       "             verbose=True)"
      ]
     },
     "execution_count": 50,
     "metadata": {},
     "output_type": "execute_result"
    }
   ],
   "source": [
    "# Make new hyperparam grid\n",
    "logreg_grid = {\"C\": np.logspace(-4, 4, 30),\n",
    "               \"solver\": [\"liblinear\"]}\n",
    "\n",
    "# Setup grid hyperparameter search for LogReg\n",
    "gs_logreg = GridSearchCV(LogisticRegression(),\n",
    "                        param_grid = logreg_grid,\n",
    "                        cv=5,\n",
    "                        verbose=True)\n",
    "\n",
    "# Fit GSCV LogReg Model\n",
    "gs_logreg.fit(X_train, y_train)"
   ]
  },
  {
   "cell_type": "code",
   "execution_count": 51,
   "id": "novel-insulin",
   "metadata": {},
   "outputs": [
    {
     "data": {
      "text/plain": [
       "{'C': 0.20433597178569418, 'solver': 'liblinear'}"
      ]
     },
     "execution_count": 51,
     "metadata": {},
     "output_type": "execute_result"
    }
   ],
   "source": [
    "# Check for the best hyperparams\n",
    "gs_logreg.best_params_"
   ]
  },
  {
   "cell_type": "code",
   "execution_count": 52,
   "id": "collaborative-breeding",
   "metadata": {},
   "outputs": [
    {
     "data": {
      "text/plain": [
       "0.8852459016393442"
      ]
     },
     "execution_count": 52,
     "metadata": {},
     "output_type": "execute_result"
    }
   ],
   "source": [
    "# Check the GSCV LogReg's accuracy\n",
    "gs_logreg.score(X_test, y_test)"
   ]
  },
  {
   "cell_type": "markdown",
   "id": "false-package",
   "metadata": {},
   "source": [
    "### The Grid Search CV and Random Search CV Logistic Regression models matched the Baseline LogReg's accuracy performance."
   ]
  },
  {
   "cell_type": "markdown",
   "id": "tracked-transmission",
   "metadata": {},
   "source": [
    "## 6. Evaluation Metrics Beyond Accuracy\n",
    "* Determining Feature Importance\n",
    "* Confusion Matrix.\n",
    "* Cross-validation\n",
    "* Multiple Metric scores\n",
    "* Classification report\n",
    "* ROC Curve\n",
    "* Area under the curve (AUC)"
   ]
  },
  {
   "cell_type": "code",
   "execution_count": 53,
   "id": "trained-evidence",
   "metadata": {},
   "outputs": [
    {
     "data": {
      "text/plain": [
       "array([0, 1, 1, 0, 1, 1, 1, 0, 0, 1, 1, 0, 1, 0, 1, 1, 1, 0, 0, 0, 1, 0,\n",
       "       0, 1, 1, 1, 1, 1, 0, 1, 0, 0, 0, 0, 1, 0, 1, 1, 1, 1, 1, 1, 1, 1,\n",
       "       1, 0, 1, 1, 0, 0, 0, 0, 1, 1, 0, 0, 0, 1, 0, 0, 0])"
      ]
     },
     "execution_count": 53,
     "metadata": {},
     "output_type": "execute_result"
    }
   ],
   "source": [
    "# Making predictions with the GSCV LogReg Tuned Model\n",
    "y_preds = gs_logreg.predict(X_test)\n",
    "y_preds"
   ]
  },
  {
   "cell_type": "markdown",
   "id": "instructional-breath",
   "metadata": {},
   "source": [
    "### ROC Curve & AUC \n",
    "TPR vs FPR"
   ]
  },
  {
   "cell_type": "code",
   "execution_count": 54,
   "id": "duplicate-entertainment",
   "metadata": {},
   "outputs": [
    {
     "data": {
      "image/png": "[encoded data removed]",
      "text/plain": [
       "<Figure size 432x288 with 1 Axes>"
      ]
     },
     "metadata": {
      "needs_background": "light"
     },
     "output_type": "display_data"
    }
   ],
   "source": [
    "# Create & Plot ROC curve -> and calcaulte AUC Metric\n",
    "plot_roc_curve(gs_logreg, X_test, y_test);"
   ]
  },
  {
   "cell_type": "code",
   "execution_count": 55,
   "id": "experienced-comedy",
   "metadata": {},
   "outputs": [
    {
     "name": "stdout",
     "output_type": "stream",
     "text": [
      "[[25  4]\n",
      " [ 3 29]]\n"
     ]
    }
   ],
   "source": [
    "### Confusion Matrix\n",
    "print(confusion_matrix(y_test, y_preds))"
   ]
  },
  {
   "cell_type": "code",
   "execution_count": 56,
   "id": "romance-henry",
   "metadata": {},
   "outputs": [
    {
     "data": {
      "image/png": "[encoded data removed]",
      "text/plain": [
       "<Figure size 216x216 with 1 Axes>"
      ]
     },
     "metadata": {},
     "output_type": "display_data"
    }
   ],
   "source": [
    "# Improve confusion matrix visualization\n",
    "sns.set(font_scale=1.5)\n",
    "\n",
    "def plot_conf_mat(y_test, y_preds):\n",
    "    fig, ax = plt.subplots(figsize=(3,3))\n",
    "    ax = sns.heatmap(confusion_matrix(y_test, y_preds),\n",
    "                    annot=True,\n",
    "                    cbar=False)\n",
    "    plt.xlabel(\"Predicted label\")\n",
    "    plt.ylabel(\"True label\")\n",
    "    \n",
    "plot_conf_mat(y_test, y_preds)"
   ]
  },
  {
   "cell_type": "markdown",
   "id": "minor-entrepreneur",
   "metadata": {},
   "source": [
    "### Classification Report & Cross-Validated Metrics\n"
   ]
  },
  {
   "cell_type": "code",
   "execution_count": 57,
   "id": "recognized-fighter",
   "metadata": {},
   "outputs": [
    {
     "name": "stdout",
     "output_type": "stream",
     "text": [
      "              precision    recall  f1-score   support\n",
      "\n",
      "           0       0.89      0.86      0.88        29\n",
      "           1       0.88      0.91      0.89        32\n",
      "\n",
      "    accuracy                           0.89        61\n",
      "   macro avg       0.89      0.88      0.88        61\n",
      "weighted avg       0.89      0.89      0.89        61\n",
      "\n"
     ]
    }
   ],
   "source": [
    "# Classsification report -> Non cross-validated metrics\n",
    "print(classification_report(y_test, y_preds))"
   ]
  },
  {
   "cell_type": "markdown",
   "id": "minute-tiger",
   "metadata": {},
   "source": [
    "## Cross-Validated Metrics (Accuracy, Precision, Recall & F1)"
   ]
  },
  {
   "cell_type": "code",
   "execution_count": 58,
   "id": "prime-quest",
   "metadata": {},
   "outputs": [
    {
     "data": {
      "text/plain": [
       "{'C': 0.20433597178569418, 'solver': 'liblinear'}"
      ]
     },
     "execution_count": 58,
     "metadata": {},
     "output_type": "execute_result"
    }
   ],
   "source": [
    "# Checking the best hyperparameters\n",
    "gs_logreg.best_params_"
   ]
  },
  {
   "cell_type": "code",
   "execution_count": 59,
   "id": "indoor-fabric",
   "metadata": {},
   "outputs": [],
   "source": [
    "# Create new LogReg classifier with best hyperparameters\n",
    "logreg_clf = LogisticRegression(C=0.20433597178569418, solver='liblinear')"
   ]
  },
  {
   "cell_type": "code",
   "execution_count": 60,
   "id": "raising-healthcare",
   "metadata": {},
   "outputs": [
    {
     "data": {
      "text/plain": [
       "0.8446994535519124"
      ]
     },
     "execution_count": 60,
     "metadata": {},
     "output_type": "execute_result"
    }
   ],
   "source": [
    "# Use cross_val_score to find cross_validated accuracy\n",
    "cv_accuracy = cross_val_score(logreg_clf,\n",
    "                             X,\n",
    "                             y,\n",
    "                             cv=5,\n",
    "                             scoring =\"accuracy\")\n",
    "cv_accuracy = np.mean(cv_accuracy)\n",
    "cv_accuracy"
   ]
  },
  {
   "cell_type": "code",
   "execution_count": 61,
   "id": "proud-surgeon",
   "metadata": {},
   "outputs": [
    {
     "data": {
      "text/plain": [
       "0.8207936507936507"
      ]
     },
     "execution_count": 61,
     "metadata": {},
     "output_type": "execute_result"
    }
   ],
   "source": [
    "# Use cross_val_score to find cross_validated precision\n",
    "cv_precision = cross_val_score(logreg_clf,\n",
    "                             X,\n",
    "                             y,\n",
    "                             cv=5,\n",
    "                             scoring =\"precision\")\n",
    "cv_precision = np.mean(cv_precision)\n",
    "cv_precision"
   ]
  },
  {
   "cell_type": "code",
   "execution_count": 62,
   "id": "waiting-rescue",
   "metadata": {},
   "outputs": [
    {
     "data": {
      "text/plain": [
       "0.9212121212121213"
      ]
     },
     "execution_count": 62,
     "metadata": {},
     "output_type": "execute_result"
    }
   ],
   "source": [
    "# Use cross_val_score to find cross_validated recall\n",
    "cv_recall = cross_val_score(logreg_clf,\n",
    "                             X,\n",
    "                             y,\n",
    "                             cv=5,\n",
    "                             scoring =\"recall\")\n",
    "cv_recall = np.mean(cv_recall)\n",
    "cv_recall"
   ]
  },
  {
   "cell_type": "code",
   "execution_count": 63,
   "id": "binary-moore",
   "metadata": {},
   "outputs": [
    {
     "data": {
      "text/plain": [
       "0.8673007976269721"
      ]
     },
     "execution_count": 63,
     "metadata": {},
     "output_type": "execute_result"
    }
   ],
   "source": [
    "# Use cross_val_score to find cross_validated F1\n",
    "cv_f1 = cross_val_score(logreg_clf,\n",
    "                             X,\n",
    "                             y,\n",
    "                             cv=5,\n",
    "                             scoring =\"f1\")\n",
    "cv_f1 = np.mean(cv_f1)\n",
    "cv_f1"
   ]
  },
  {
   "cell_type": "code",
   "execution_count": 64,
   "id": "responsible-heath",
   "metadata": {},
   "outputs": [
    {
     "data": {
      "image/png": "[encoded data removed]",
      "text/plain": [
       "<Figure size 432x288 with 1 Axes>"
      ]
     },
     "metadata": {},
     "output_type": "display_data"
    }
   ],
   "source": [
    "# Visualize cross_validates metrics\n",
    "cv_metrics = pd.DataFrame({\"Accuracy\": cv_accuracy,\n",
    "                          \"Precision\": cv_precision,\n",
    "                          \"Recall\": cv_recall,\n",
    "                          \"F1 score\": cv_f1}, index=[0])\n",
    "cv_metrics.T.plot.bar(title=\"Cross-validated classification metrics\", legend=False);"
   ]
  },
  {
   "cell_type": "markdown",
   "id": "stopped-letters",
   "metadata": {},
   "source": [
    "## Feature Importance\n",
    "### Which features contributed most to the outcomes of the model and exactly how did they contribute ?  \n",
    "### Finding feature importance is model dependent -> Differently implemented models use different methods to find the most important features.\n",
    "\n"
   ]
  },
  {
   "cell_type": "markdown",
   "id": "israeli-directory",
   "metadata": {},
   "source": [
    "**For LogisticRegression we use the `coef_` attribute to find the feature importance**  \n",
    "**This extracts the multivariable coefficients that define the logistic regression function for each of the feature variables (i.e y = a + b1(X1) + b2(X2) + ...bn(Xn) -> the `bn` coeffcients are what are key here.**"
   ]
  },
  {
   "cell_type": "code",
   "execution_count": 65,
   "id": "supposed-aviation",
   "metadata": {},
   "outputs": [
    {
     "data": {
      "text/plain": [
       "array([[ 0.00316727, -0.86044582,  0.66067073, -0.01156993, -0.00166374,\n",
       "         0.04386131,  0.31275787,  0.02459361, -0.60413038, -0.56862852,\n",
       "         0.45051617, -0.63609863, -0.67663375]])"
      ]
     },
     "execution_count": 65,
     "metadata": {},
     "output_type": "execute_result"
    }
   ],
   "source": [
    "# Using GSCV LogReg Model.....\n",
    "logreg_clf.fit(X_train, y_train)\n",
    "\n",
    "# Check coefficients using coef_ attribute\n",
    "logreg_clf.coef_"
   ]
  },
  {
   "cell_type": "code",
   "execution_count": 66,
   "id": "crucial-zambia",
   "metadata": {},
   "outputs": [
    {
     "data": {
      "text/plain": [
       "{'age': 0.0031672721856887734,\n",
       " 'sex': -0.860445816920919,\n",
       " 'cp': 0.6606707303492849,\n",
       " 'trestbps': -0.011569930902919925,\n",
       " 'chol': -0.001663741604035976,\n",
       " 'fbs': 0.04386130751482091,\n",
       " 'restecg': 0.3127578715206996,\n",
       " 'thalach': 0.02459360818122666,\n",
       " 'exang': -0.6041303799858143,\n",
       " 'oldpeak': -0.5686285194546157,\n",
       " 'slope': 0.4505161679452401,\n",
       " 'ca': -0.6360986316921434,\n",
       " 'thal': -0.6766337521354281}"
      ]
     },
     "execution_count": 66,
     "metadata": {},
     "output_type": "execute_result"
    }
   ],
   "source": [
    "# Match coef's of features to columns\n",
    "feature_dict = dict(zip(data.columns, list(logreg_clf.coef_[0])))\n",
    "feature_dict"
   ]
  },
  {
   "cell_type": "code",
   "execution_count": 67,
   "id": "dying-tampa",
   "metadata": {},
   "outputs": [
    {
     "data": {
      "image/png": "[encoded data removed]",
      "text/plain": [
       "<Figure size 432x288 with 1 Axes>"
      ]
     },
     "metadata": {},
     "output_type": "display_data"
    }
   ],
   "source": [
    " # Make the feature importance dictionary into a dataframe\n",
    "feature_df = pd.DataFrame(feature_dict, index = [0])\n",
    "feature_df.T.plot.bar(title=\"Feature Importance\", legend=False);"
   ]
  },
  {
   "cell_type": "markdown",
   "id": "international-sector",
   "metadata": {},
   "source": [
    "We notice that :-\n",
    "1. Being male is strongly negatively correlated to heart disease occurences -> male's less likely to have heart disease.\n",
    "2. Chest pains `cp` of higher types are positively correlated to heart disease occurences -> non-anginal and asymptotic chest pain = higher chances of heart disease  "
   ]
  },
  {
   "cell_type": "markdown",
   "id": "german-spanking",
   "metadata": {},
   "source": [
    "## 6. Exporting the Model"
   ]
  },
  {
   "cell_type": "code",
   "execution_count": 68,
   "id": "early-milwaukee",
   "metadata": {},
   "outputs": [
    {
     "data": {
      "text/plain": [
       "['models/grid_searchcv_logreg_model_2.joblib']"
      ]
     },
     "execution_count": 68,
     "metadata": {},
     "output_type": "execute_result"
    }
   ],
   "source": [
    "from joblib import dump, load\n",
    "# Save model to file\n",
    "dump(logreg_clf, filename=\"models/grid_searchcv_logreg_model_2.joblib\")"
   ]
  },
  {
   "cell_type": "code",
   "execution_count": null,
   "id": "statistical-electricity",
   "metadata": {},
   "outputs": [],
   "source": []
  }
 ],
 "metadata": {
  "kernelspec": {
   "display_name": "Python 3",
   "language": "python",
   "name": "python3"
  },
  "language_info": {
   "codemirror_mode": {
    "name": "ipython",
    "version": 3
   },
   "file_extension": ".py",
   "mimetype": "text/x-python",
   "name": "python",
   "nbconvert_exporter": "python",
   "pygments_lexer": "ipython3",
   "version": "3.8.8"
  }
 },
 "nbformat": 4,
 "nbformat_minor": 5
}
